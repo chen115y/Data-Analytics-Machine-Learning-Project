{
 "cells": [
  {
   "cell_type": "code",
   "execution_count": 1,
   "metadata": {},
   "outputs": [
    {
     "name": "stdout",
     "output_type": "stream",
     "text": [
      "Starting Spark application\n"
     ]
    },
    {
     "data": {
      "text/html": [
       "<table>\n",
       "<tr><th>ID</th><th>YARN Application ID</th><th>Kind</th><th>State</th><th>Spark UI</th><th>Driver log</th><th>Current session?</th></tr><tr><td>0</td><td>application_1611957411276_0001</td><td>pyspark</td><td>idle</td><td><a target=\"_blank\" href=\"http://ip-172-32-145-70.ec2.internal:20888/proxy/application_1611957411276_0001/\">Link</a></td><td><a target=\"_blank\" href=\"http://ip-172-32-138-113.ec2.internal:8042/node/containerlogs/container_1611957411276_0001_01_000001/livy\">Link</a></td><td>✔</td></tr></table>"
      ],
      "text/plain": [
       "<IPython.core.display.HTML object>"
      ]
     },
     "metadata": {},
     "output_type": "display_data"
    },
    {
     "data": {
      "application/vnd.jupyter.widget-view+json": {
       "model_id": "",
       "version_major": 2,
       "version_minor": 0
      },
      "text/plain": [
       "FloatProgress(value=0.0, bar_style='info', description='Progress:', layout=Layout(height='25px', width='50%'),…"
      ]
     },
     "metadata": {},
     "output_type": "display_data"
    },
    {
     "name": "stdout",
     "output_type": "stream",
     "text": [
      "SparkSession available as 'spark'.\n"
     ]
    },
    {
     "data": {
      "application/vnd.jupyter.widget-view+json": {
       "model_id": "",
       "version_major": 2,
       "version_minor": 0
      },
      "text/plain": [
       "FloatProgress(value=0.0, bar_style='info', description='Progress:', layout=Layout(height='25px', width='50%'),…"
      ]
     },
     "metadata": {},
     "output_type": "display_data"
    }
   ],
   "source": [
    "import cerberus\n",
    "from pyspark.sql.functions import *\n",
    "from pyspark.sql.types import *\n",
    "from pyspark.context import SparkContext\n",
    "from pyspark.sql import SparkSession\n",
    "import awsglue\n",
    "import boto3\n",
    "from cerberus import Validator\n",
    "from awsglue.dynamicframe import DynamicFrame\n",
    "from awsglue.context import GlueContext"
   ]
  },
  {
   "cell_type": "code",
   "execution_count": 2,
   "metadata": {},
   "outputs": [
    {
     "data": {
      "application/vnd.jupyter.widget-view+json": {
       "model_id": "",
       "version_major": 2,
       "version_minor": 0
      },
      "text/plain": [
       "FloatProgress(value=0.0, bar_style='info', description='Progress:', layout=Layout(height='25px', width='50%'),…"
      ]
     },
     "metadata": {},
     "output_type": "display_data"
    }
   ],
   "source": [
    "# sc = SparkContext()\n",
    "# glueContext = GlueContext(sc)\n",
    "# spark = glueContext.spark_session\n",
    "spark = SparkSession.builder.appName(\"Spark example\").getOrCreate()"
   ]
  },
  {
   "cell_type": "code",
   "execution_count": null,
   "metadata": {},
   "outputs": [],
   "source": [
    "# import boto3\n",
    "\n",
    "# s3 = boto3.resource('s3')\n",
    "\n",
    "# content_object = s3.Object('chen115y-test', 'nasdaq-sample-data/dq-test.txt')\n",
    "# file_content = content_object.get()['Body'].read().decode('utf-8')\n",
    "# # json_content = json.loads(file_content)\n",
    "# print(file_content)"
   ]
  },
  {
   "cell_type": "code",
   "execution_count": 3,
   "metadata": {},
   "outputs": [
    {
     "data": {
      "application/vnd.jupyter.widget-view+json": {
       "model_id": "",
       "version_major": 2,
       "version_minor": 0
      },
      "text/plain": [
       "FloatProgress(value=0.0, bar_style='info', description='Progress:', layout=Layout(height='25px', width='50%'),…"
      ]
     },
     "metadata": {},
     "output_type": "display_data"
    }
   ],
   "source": [
    "file_content = {\n",
    "    'id': {\n",
    "        'type': 'integer', \n",
    "        'min': 1, \n",
    "        'max': 10\n",
    "    },\n",
    "    'amount': {\n",
    "        'type': 'float'\n",
    "    },\n",
    "    'first_order': {\n",
    "        'type': 'datetime',\n",
    "        'required': False\n",
    "    },\n",
    "    'user': {\n",
    "        'type': 'string',\n",
    "        'regex': '^[a-zA-Z0-9_.+-]+@[a-zA-Z0-9-]+\\.[a-zA-Z0-9-.]+$'\n",
    "    },\n",
    "    'items': {\n",
    "        'type': 'list',\n",
    "        'empty': False\n",
    "    }\n",
    "}"
   ]
  },
  {
   "cell_type": "code",
   "execution_count": 23,
   "metadata": {},
   "outputs": [
    {
     "data": {
      "application/vnd.jupyter.widget-view+json": {
       "model_id": "",
       "version_major": 2,
       "version_minor": 0
      },
      "text/plain": [
       "FloatProgress(value=0.0, bar_style='info', description='Progress:', layout=Layout(height='25px', width='50%'),…"
      ]
     },
     "metadata": {},
     "output_type": "display_data"
    }
   ],
   "source": [
    "valid_entry = [{'id': 1, 'amount': 30.97, 'user': \"ivan@amazon.com\", 'items': [\"1\", \"2\"]}, \\\n",
    "               {'id': 20, 'amount': 30.97, 'user': \"ivan#amazon.com\", 'items': [\"1\", \"2\"]}]\n",
    "\n",
    "df = spark.createDataFrame(valid_entry)"
   ]
  },
  {
   "cell_type": "code",
   "execution_count": 24,
   "metadata": {},
   "outputs": [
    {
     "data": {
      "application/vnd.jupyter.widget-view+json": {
       "model_id": "",
       "version_major": 2,
       "version_minor": 0
      },
      "text/plain": [
       "FloatProgress(value=0.0, bar_style='info', description='Progress:', layout=Layout(height='25px', width='50%'),…"
      ]
     },
     "metadata": {},
     "output_type": "display_data"
    },
    {
     "name": "stdout",
     "output_type": "stream",
     "text": [
      "+------+---+------+---------------+\n",
      "|amount| id| items|           user|\n",
      "+------+---+------+---------------+\n",
      "| 30.97|  1|[1, 2]|ivan@amazon.com|\n",
      "| 30.97| 20|[1, 2]|ivan#amazon.com|\n",
      "+------+---+------+---------------+"
     ]
    }
   ],
   "source": [
    "df.show()"
   ]
  },
  {
   "cell_type": "code",
   "execution_count": null,
   "metadata": {},
   "outputs": [],
   "source": [
    "# One way to apply the data quality checking rules on the data frame\n",
    "from cerberus import Validator\n",
    "import json\n",
    "\n",
    "dq_schema = eval(str(file_content))\n",
    "\n",
    "results = []\n",
    "\n",
    "V = Validator()\n",
    "# schema_validator = Validator(schema)\n",
    "for row in list(df.collect()):\n",
    "    print(V.validate(row.asDict(), dq_schema))\n",
    "    print(V.errors)\n",
    "    results.append({'id': row['id'], 'error': json.dumps(V.errors)})\n",
    "\n",
    "df_result = spark.createDataFrame(results)\n",
    "df_result.toPandas().head()"
   ]
  },
  {
   "cell_type": "code",
   "execution_count": 11,
   "metadata": {},
   "outputs": [
    {
     "data": {
      "application/vnd.jupyter.widget-view+json": {
       "model_id": "",
       "version_major": 2,
       "version_minor": 0
      },
      "text/plain": [
       "FloatProgress(value=0.0, bar_style='info', description='Progress:', layout=Layout(height='25px', width='50%'),…"
      ]
     },
     "metadata": {},
     "output_type": "display_data"
    }
   ],
   "source": [
    "# Another way (Spark way) to apply the data quality checking rules\n",
    "# First, define a data quality checking function with input of wholse row\n",
    "from cerberus import Validator\n",
    "import json\n",
    "\n",
    "def dq_check(allowed_per_unit):\n",
    "    dq_schema = eval(str(file_content))\n",
    "    V = Validator()\n",
    "    is_valide = V.validate(row.asDict(), dq_schema)\n",
    "    if not is_valide:\n",
    "        result = V.errors\n",
    "    else:\n",
    "        result = \"\"\n",
    "    return result\n",
    "\n",
    "# Second, define the UDF function based on the data quality checking function. output type is a String.\n",
    "dq_check_udf = udf(lambda x: dq_check(x) if x is not None else None, StringType())"
   ]
  },
  {
   "cell_type": "code",
   "execution_count": 25,
   "metadata": {},
   "outputs": [
    {
     "data": {
      "application/vnd.jupyter.widget-view+json": {
       "model_id": "",
       "version_major": 2,
       "version_minor": 0
      },
      "text/plain": [
       "FloatProgress(value=0.0, bar_style='info', description='Progress:', layout=Layout(height='25px', width='50%'),…"
      ]
     },
     "metadata": {},
     "output_type": "display_data"
    }
   ],
   "source": [
    "# Apply the data quality checking rule and generate a new column for the checking result\n",
    "\n",
    "df_result = df.withColumn(\"row_validation_error\", dq_check_udf(col(\"allowed_per_unit\")))"
   ]
  },
  {
   "cell_type": "code",
   "execution_count": 26,
   "metadata": {},
   "outputs": [
    {
     "data": {
      "application/vnd.jupyter.widget-view+json": {
       "model_id": "",
       "version_major": 2,
       "version_minor": 0
      },
      "text/plain": [
       "FloatProgress(value=0.0, bar_style='info', description='Progress:', layout=Layout(height='25px', width='50%'),…"
      ]
     },
     "metadata": {},
     "output_type": "display_data"
    },
    {
     "name": "stdout",
     "output_type": "stream",
     "text": [
      "+------+---+------+---------------+------------------------------------------------------------------------------------------------------------+\n",
      "|amount|id |items |user           |row_validation_error                                                                                        |\n",
      "+------+---+------+---------------+------------------------------------------------------------------------------------------------------------+\n",
      "|30.97 |1  |[1, 2]|ivan@amazon.com|                                                                                                            |\n",
      "|30.97 |20 |[1, 2]|ivan#amazon.com|{user=[value does not match regex '^[a-zA-Z0-9_.+-]+@[a-zA-Z0-9-]+\\.[a-zA-Z0-9-.]+$'], id=[max value is 10]}|\n",
      "+------+---+------+---------------+------------------------------------------------------------------------------------------------------------+"
     ]
    }
   ],
   "source": [
    "# Show the final data frame\n",
    "\n",
    "df_result.show(truncate=False)"
   ]
  },
  {
   "cell_type": "code",
   "execution_count": 17,
   "metadata": {},
   "outputs": [],
   "source": [
    "df_result.write.csv(\"dq-results\",mode=\"overwrite\")"
   ]
  },
  {
   "cell_type": "code",
   "execution_count": null,
   "metadata": {},
   "outputs": [],
   "source": []
  }
 ],
 "metadata": {
  "kernelspec": {
   "display_name": "Python 3",
   "language": "python",
   "name": "python3"
  },
  "language_info": {
   "codemirror_mode": {
    "name": "ipython",
    "version": 3
   },
   "file_extension": ".py",
   "mimetype": "text/x-python",
   "name": "python",
   "nbconvert_exporter": "python",
   "pygments_lexer": "ipython3",
   "version": "3.7.7"
  },
  "toc": {
   "base_numbering": 1,
   "nav_menu": {},
   "number_sections": true,
   "sideBar": true,
   "skip_h1_title": false,
   "title_cell": "Table of Contents",
   "title_sidebar": "Contents",
   "toc_cell": false,
   "toc_position": {},
   "toc_section_display": true,
   "toc_window_display": true
  }
 },
 "nbformat": 4,
 "nbformat_minor": 4
}
