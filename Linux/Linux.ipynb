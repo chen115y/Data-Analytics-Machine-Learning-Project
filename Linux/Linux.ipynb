{
 "cells": [
  {
   "cell_type": "markdown",
   "metadata": {},
   "source": [
    "# Linux Commands for Data Scientists"
   ]
  },
  {
   "cell_type": "markdown",
   "metadata": {},
   "source": [
    "In this notebook, I am going to talk about some important Linux commands that data scientists should know and demo how to use them to help your daily work."
   ]
  },
  {
   "cell_type": "markdown",
   "metadata": {},
   "source": [
    "## Simple commands"
   ]
  },
  {
   "cell_type": "markdown",
   "metadata": {},
   "source": [
    "```ls``` is Linux command to list folder content, including files and sub-folders."
   ]
  },
  {
   "cell_type": "code",
   "execution_count": 3,
   "metadata": {
    "ExecuteTime": {
     "end_time": "2020-01-13T19:50:29.973985Z",
     "start_time": "2020-01-13T19:50:29.820034Z"
    },
    "scrolled": true
   },
   "outputs": [
    {
     "name": "stdout",
     "output_type": "stream",
     "text": [
      "total 14964\r\n",
      "-rwxrwxrwx 1 ivan ivan 4270916 Jul 23 23:41 1_Log.csv\r\n",
      "-rwxrwxrwx 1 ivan ivan 4017296 Jul 23 23:41 2_Log.csv\r\n",
      "-rwxrwxrwx 1 ivan ivan 6038837 Jul 23 23:41 3_Log.csv\r\n",
      "drwxrwxrwx 1 ivan ivan    4096 Jul 23 23:41 Excel\r\n",
      "-rwxrwxrwx 1 ivan ivan    1083 Jul 23 23:41 forecasting_data_RAV4_sales.csv\r\n",
      "-rwxrwxrwx 1 ivan ivan  981391 Jan 13 12:10 jobs.csv\r\n",
      "-rwxrwxrwx 1 ivan ivan     796 Jul 23 23:41 test.csv\r\n"
     ]
    }
   ],
   "source": [
    "!ls -l ../datasets/"
   ]
  },
  {
   "cell_type": "markdown",
   "metadata": {},
   "source": [
    "```pwd``` is Linux command to show what is current work folder."
   ]
  },
  {
   "cell_type": "code",
   "execution_count": 4,
   "metadata": {
    "ExecuteTime": {
     "end_time": "2020-01-13T19:50:39.603692Z",
     "start_time": "2020-01-13T19:50:39.467517Z"
    }
   },
   "outputs": [
    {
     "name": "stdout",
     "output_type": "stream",
     "text": [
      "/mnt/c/users/ychen/Desktop/GitHub/Data-Analytics-Machine-Learning-Project/Linux_Data_Science\r\n"
     ]
    }
   ],
   "source": [
    "!pwd"
   ]
  },
  {
   "cell_type": "markdown",
   "metadata": {},
   "source": [
    "```find``` is Linux command to find files or directories based on all sort of criteria"
   ]
  },
  {
   "cell_type": "code",
   "execution_count": 2,
   "metadata": {
    "ExecuteTime": {
     "end_time": "2020-01-23T20:04:52.538543Z",
     "start_time": "2020-01-23T20:04:52.387672Z"
    }
   },
   "outputs": [
    {
     "name": "stdout",
     "output_type": "stream",
     "text": [
      "./Linux_Data_Scientist.ipynb\r\n"
     ]
    }
   ],
   "source": [
    "!find -name *.ipynb"
   ]
  },
  {
   "cell_type": "code",
   "execution_count": 5,
   "metadata": {
    "ExecuteTime": {
     "end_time": "2020-01-23T20:07:24.928971Z",
     "start_time": "2020-01-23T20:07:24.775344Z"
    }
   },
   "outputs": [],
   "source": [
    "# find some files and then delete\n",
    "!find ./ -name test.txt -exec rm -f {} \\;"
   ]
  },
  {
   "cell_type": "markdown",
   "metadata": {},
   "source": [
    "## Commands for disk and memory"
   ]
  },
  {
   "cell_type": "markdown",
   "metadata": {},
   "source": [
    "When you want a very high-level view of the memory situation on a Linux machine, use ```free```."
   ]
  },
  {
   "cell_type": "code",
   "execution_count": 5,
   "metadata": {
    "ExecuteTime": {
     "end_time": "2020-01-13T19:50:47.222054Z",
     "start_time": "2020-01-13T19:50:47.010090Z"
    }
   },
   "outputs": [
    {
     "name": "stdout",
     "output_type": "stream",
     "text": [
      "              total        used        free      shared  buff/cache   available\r\n",
      "Mem:           7.9G        7.0G        719M         17M        223M        812M\r\n",
      "Swap:           24G        1.1G         22G\r\n"
     ]
    }
   ],
   "source": [
    "!free -h"
   ]
  },
  {
   "cell_type": "markdown",
   "metadata": {},
   "source": [
    "Short for disk usage, ```du``` is extremely useful for estimating the size of directories."
   ]
  },
  {
   "cell_type": "code",
   "execution_count": 6,
   "metadata": {
    "ExecuteTime": {
     "end_time": "2020-01-13T19:51:06.402127Z",
     "start_time": "2020-01-13T19:51:06.245537Z"
    }
   },
   "outputs": [
    {
     "name": "stdout",
     "output_type": "stream",
     "text": [
      "30M\t../datasets/\r\n"
     ]
    }
   ],
   "source": [
    "!du -sh ../datasets/"
   ]
  },
  {
   "cell_type": "markdown",
   "metadata": {},
   "source": [
    "```df``` stands for disk free, which is for monitoring disk space at the file system level."
   ]
  },
  {
   "cell_type": "code",
   "execution_count": 7,
   "metadata": {
    "ExecuteTime": {
     "end_time": "2020-01-13T19:51:11.498305Z",
     "start_time": "2020-01-13T19:51:11.346711Z"
    }
   },
   "outputs": [
    {
     "name": "stdout",
     "output_type": "stream",
     "text": [
      "Filesystem      Size  Used Avail Use% Mounted on\r\n",
      "rootfs          235G  130G  106G  56% /\r\n",
      "none            235G  130G  106G  56% /dev\r\n",
      "none            235G  130G  106G  56% /run\r\n",
      "none            235G  130G  106G  56% /run/lock\r\n",
      "none            235G  130G  106G  56% /run/shm\r\n",
      "none            235G  130G  106G  56% /run/user\r\n",
      "C:              235G  130G  106G  56% /mnt/c\r\n"
     ]
    }
   ],
   "source": [
    "!df -h"
   ]
  },
  {
   "cell_type": "markdown",
   "metadata": {},
   "source": [
    "Want to only look at specific folder or drive? Use ```grep``` with ```df``` together"
   ]
  },
  {
   "cell_type": "code",
   "execution_count": 19,
   "metadata": {
    "ExecuteTime": {
     "end_time": "2020-01-13T19:58:17.622767Z",
     "start_time": "2020-01-13T19:58:17.472924Z"
    }
   },
   "outputs": [
    {
     "name": "stdout",
     "output_type": "stream",
     "text": [
      "C:              235G  130G  106G  56% /mnt/c\r\n"
     ]
    }
   ],
   "source": [
    "!df -h | grep C"
   ]
  },
  {
   "cell_type": "markdown",
   "metadata": {},
   "source": [
    "## Commands for simple data processing"
   ]
  },
  {
   "cell_type": "markdown",
   "metadata": {},
   "source": [
    "While it's tempting to stay within the seemingly-friendly realm of GUI-based applications, becoming skilled at operating directly in the terminal can make you massively faster at typical tasks."
   ]
  },
  {
   "cell_type": "markdown",
   "metadata": {},
   "source": [
    "The simplest command in text processing is ```wc```. Its name stands for word count, but actually it counts characters and lines as well as words. Invoke it with ```wc <filename>```."
   ]
  },
  {
   "cell_type": "code",
   "execution_count": 3,
   "metadata": {
    "ExecuteTime": {
     "end_time": "2020-01-13T20:38:17.939085Z",
     "start_time": "2020-01-13T20:38:17.766249Z"
    }
   },
   "outputs": [
    {
     "name": "stdout",
     "output_type": "stream",
     "text": [
      " 10  42 796 ../datasets/test.csv\r\n"
     ]
    }
   ],
   "source": [
    "!wc ../datasets/test.csv"
   ]
  },
  {
   "cell_type": "markdown",
   "metadata": {},
   "source": [
    "```grep``` might be the most famous command line tool. It is a super-powered text-searching utility. Invoke it with ```grep <string> <filename>```."
   ]
  },
  {
   "cell_type": "code",
   "execution_count": null,
   "metadata": {
    "ExecuteTime": {
     "end_time": "2020-01-13T20:38:45.852235Z",
     "start_time": "2020-01-13T20:38:45.710524Z"
    }
   },
   "outputs": [],
   "source": [
    "!grep 'Nairobi' ../datasets/test.csv"
   ]
  },
  {
   "cell_type": "markdown",
   "metadata": {},
   "source": [
    "```awk``` bears the distinction of being one of the least-intuitively named command line tools. The name is just an abbreviation for its authors: Aho, Weinberger, and Kernighan. ```awk``` is essentially a very simple programming language optimized for dealing with delimited files (e.g. CSVs, TSVs). Invoke it with ```awk <command> <filename>```. Use ```-F``` to specify the delimiter character."
   ]
  },
  {
   "cell_type": "code",
   "execution_count": 6,
   "metadata": {
    "ExecuteTime": {
     "end_time": "2020-01-13T20:38:57.196221Z",
     "start_time": "2020-01-13T20:38:57.020198Z"
    }
   },
   "outputs": [
    {
     "name": "stdout",
     "output_type": "stream",
     "text": [
      "ID Date\r\n",
      "30 1/11/2008\r\n",
      "31 1/14/2008\r\n",
      "32 1/14/2008\r\n",
      "33 1/17/2008\r\n",
      "34 1/19/2008\r\n",
      "36 1/22/2008\r\n",
      "37 1/23/2008\r\n",
      "38 1/24/2008\r\n",
      "39 1/26/2008\r\n",
      "74 1/6/2008\r\n"
     ]
    }
   ],
   "source": [
    "!awk -F ',' '{print $1, $2}' ../datasets/test.csv"
   ]
  },
  {
   "cell_type": "markdown",
   "metadata": {},
   "source": [
    "```sed``` stands for Stream EDitor. Like ```awk``` , it is Turing Complete and extremely powerful. The basic syntax for this is ```sed 's/<find_pattern>/<replace_pattern>/g' <filename>```. The ```s``` stands for substitute, a more formal term for find-and-replace. The ```g``` is for global – without it, ```sed``` will just replace the first occurence of your find pattern on each line."
   ]
  },
  {
   "cell_type": "code",
   "execution_count": null,
   "metadata": {
    "ExecuteTime": {
     "end_time": "2020-01-13T20:39:18.251663Z",
     "start_time": "2020-01-13T20:39:18.102028Z"
    }
   },
   "outputs": [],
   "source": [
    "!sed 's/ /,/g' ../datasets/test.csv"
   ]
  },
  {
   "cell_type": "markdown",
   "metadata": {},
   "source": [
    "## Commands for pipe (combining commands)"
   ]
  },
  {
   "cell_type": "markdown",
   "metadata": {},
   "source": [
    "Pipes allow you to chain together as many commands as you’d like, using each command to transform the output of the last. This unlocks an enormous amount of power without requiring you to import data into a specialized tool."
   ]
  },
  {
   "cell_type": "markdown",
   "metadata": {},
   "source": [
    "The following example is to show first 3 columns in a csv file."
   ]
  },
  {
   "cell_type": "code",
   "execution_count": 9,
   "metadata": {
    "ExecuteTime": {
     "end_time": "2020-01-13T20:39:31.060501Z",
     "start_time": "2020-01-13T20:39:30.909376Z"
    }
   },
   "outputs": [
    {
     "name": "stdout",
     "output_type": "stream",
     "text": [
      "ID Date Country\r\n",
      "30 1/11/2008 1\r\n",
      "31 1/14/2008 1\r\n",
      "32 1/14/2008 1\r\n",
      "33 1/17/2008 1\r\n",
      "34 1/19/2008 1\r\n",
      "36 1/22/2008 1\r\n",
      "37 1/23/2008 1\r\n",
      "38 1/24/2008 1\r\n",
      "39 1/26/2008 1\r\n",
      "74 1/6/2008 1\r\n"
     ]
    }
   ],
   "source": [
    "!cat ../datasets/test.csv | awk -F ',' '{print $1, $2, $3}'"
   ]
  },
  {
   "cell_type": "markdown",
   "metadata": {},
   "source": [
    "The following example is to show the 3 columns in a csv file with comma delimiter."
   ]
  },
  {
   "cell_type": "code",
   "execution_count": 10,
   "metadata": {
    "ExecuteTime": {
     "end_time": "2020-01-13T20:39:38.865654Z",
     "start_time": "2020-01-13T20:39:38.702441Z"
    }
   },
   "outputs": [
    {
     "name": "stdout",
     "output_type": "stream",
     "text": [
      "ID,Date,Country\r\n",
      "30,1/11/2008,1\r\n",
      "31,1/14/2008,1\r\n",
      "32,1/14/2008,1\r\n",
      "33,1/17/2008,1\r\n",
      "34,1/19/2008,1\r\n",
      "36,1/22/2008,1\r\n",
      "37,1/23/2008,1\r\n",
      "38,1/24/2008,1\r\n",
      "39,1/26/2008,1\r\n",
      "74,1/6/2008,1\r\n"
     ]
    }
   ],
   "source": [
    "!cat ../datasets/test.csv | awk -F ',' '{print $1, $2, $3}' | sed 's/ /,/g'"
   ]
  },
  {
   "cell_type": "markdown",
   "metadata": {},
   "source": [
    "The following example is to display the top 5 lines in a csv file with line number."
   ]
  },
  {
   "cell_type": "code",
   "execution_count": null,
   "metadata": {
    "ExecuteTime": {
     "end_time": "2020-01-13T20:39:50.425461Z",
     "start_time": "2020-01-13T20:39:50.199067Z"
    }
   },
   "outputs": [],
   "source": [
    "!cat -n ../datasets/test.csv | head -n 5"
   ]
  },
  {
   "cell_type": "markdown",
   "metadata": {},
   "source": [
    "## Command for redirection"
   ]
  },
  {
   "cell_type": "markdown",
   "metadata": {},
   "source": [
    "```>``` is used for output redirection: sending what usually displays on screen into a file instead."
   ]
  },
  {
   "cell_type": "code",
   "execution_count": 20,
   "metadata": {
    "ExecuteTime": {
     "end_time": "2020-01-13T20:00:47.750193Z",
     "start_time": "2020-01-13T20:00:47.580370Z"
    }
   },
   "outputs": [],
   "source": [
    "!free -h > file.txt"
   ]
  },
  {
   "cell_type": "code",
   "execution_count": 21,
   "metadata": {
    "ExecuteTime": {
     "end_time": "2020-01-13T20:01:00.041185Z",
     "start_time": "2020-01-13T20:00:59.893925Z"
    }
   },
   "outputs": [
    {
     "name": "stdout",
     "output_type": "stream",
     "text": [
      "              total        used        free      shared  buff/cache   available\r\n",
      "Mem:           7.9G        7.0G        633M         17M        223M        726M\r\n",
      "Swap:           24G        1.0G         22G\r\n"
     ]
    }
   ],
   "source": [
    "!cat file.txt"
   ]
  },
  {
   "cell_type": "markdown",
   "metadata": {},
   "source": [
    "Combine pipe ```|``` and redirection ```>``` together to make complex operations."
   ]
  },
  {
   "cell_type": "code",
   "execution_count": 12,
   "metadata": {
    "ExecuteTime": {
     "end_time": "2020-01-13T20:40:16.017804Z",
     "start_time": "2020-01-13T20:40:15.862344Z"
    }
   },
   "outputs": [],
   "source": [
    "!cat ../datasets/test.csv | awk -F ',' '{print $1, $2, $3}' | sed 's/ /,/g' > new_test.csv"
   ]
  },
  {
   "cell_type": "code",
   "execution_count": 13,
   "metadata": {
    "ExecuteTime": {
     "end_time": "2020-01-13T20:40:22.332625Z",
     "start_time": "2020-01-13T20:40:22.177494Z"
    }
   },
   "outputs": [
    {
     "name": "stdout",
     "output_type": "stream",
     "text": [
      "ID,Date,Country\r\n",
      "30,1/11/2008,1\r\n",
      "31,1/14/2008,1\r\n",
      "32,1/14/2008,1\r\n",
      "33,1/17/2008,1\r\n",
      "34,1/19/2008,1\r\n",
      "36,1/22/2008,1\r\n",
      "37,1/23/2008,1\r\n",
      "38,1/24/2008,1\r\n",
      "39,1/26/2008,1\r\n",
      "74,1/6/2008,1\r\n"
     ]
    }
   ],
   "source": [
    "!cat new_test.csv"
   ]
  }
 ],
 "metadata": {
  "hide_input": false,
  "kernelspec": {
   "display_name": "Python 3",
   "language": "python",
   "name": "python3"
  },
  "language_info": {
   "codemirror_mode": {
    "name": "ipython",
    "version": 3
   },
   "file_extension": ".py",
   "mimetype": "text/x-python",
   "name": "python",
   "nbconvert_exporter": "python",
   "pygments_lexer": "ipython3",
   "version": "3.7.7"
  },
  "toc": {
   "base_numbering": 1,
   "nav_menu": {},
   "number_sections": true,
   "sideBar": true,
   "skip_h1_title": false,
   "title_cell": "Table of Contents",
   "title_sidebar": "Contents",
   "toc_cell": false,
   "toc_position": {},
   "toc_section_display": true,
   "toc_window_display": false
  }
 },
 "nbformat": 4,
 "nbformat_minor": 2
}
