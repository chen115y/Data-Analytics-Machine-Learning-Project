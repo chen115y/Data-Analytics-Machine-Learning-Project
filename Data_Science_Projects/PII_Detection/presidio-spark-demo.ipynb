{
 "cells": [
  {
   "cell_type": "markdown",
   "metadata": {},
   "source": [
    "# PII Data Detection Demo\n",
    "\n",
    "In this demo I use Presidio (through it's Python interface) to recognize PII information from given text and then replace the detected entities with masks.\n",
    "\n",
    "The github repo for Presidio is: https://github.com/microsoft/presidio\n",
    "\n",
    "The youtube link to introduce Presidio PII dection is: https://www.youtube.com/watch?v=1pUEG0MZxvM\n",
    "\n",
    "Here I assume the computer environment to run this notebook should be compatible to __[Anaconda Indivisual Edition](https://www.anaconda.com/open-source)__ setup in a __Spark cluster__."
   ]
  },
  {
   "cell_type": "markdown",
   "metadata": {
    "pycharm": {
     "name": "#%%\n"
    }
   },
   "source": [
    "# Install Main Open Source Resources"
   ]
  },
  {
   "cell_type": "code",
   "execution_count": 1,
   "metadata": {},
   "outputs": [
    {
     "name": "stdout",
     "output_type": "stream",
     "text": [
      "Collecting pip\n",
      "  Using cached pip-20.3.3-py2.py3-none-any.whl (1.5 MB)\n",
      "Installing collected packages: pip\n",
      "  Attempting uninstall: pip\n",
      "    Found existing installation: pip 20.0.2\n",
      "    Uninstalling pip-20.0.2:\n",
      "      Successfully uninstalled pip-20.0.2\n",
      "Successfully installed pip-20.3.3\n"
     ]
    }
   ],
   "source": [
    "# update pip with latest version\n",
    "!pip install pip --upgrade"
   ]
  },
  {
   "cell_type": "markdown",
   "metadata": {},
   "source": [
    "## Step 1: Install spaCy python library\n",
    "```shell\n",
    "pip install spacy\n",
    "```\n",
    "or\n",
    "```shell\n",
    "conda install -c conda-forge spacy\n",
    "```"
   ]
  },
  {
   "cell_type": "code",
   "execution_count": 2,
   "metadata": {
    "scrolled": true
   },
   "outputs": [
    {
     "name": "stdout",
     "output_type": "stream",
     "text": [
      "Collecting spacy\n",
      "  Downloading spacy-2.3.5-cp37-cp37m-manylinux2014_x86_64.whl (10.4 MB)\n",
      "\u001b[K     |████████████████████████████████| 10.4 MB 12.3 MB/s eta 0:00:01\n",
      "\u001b[?25hRequirement already satisfied: requests<3.0.0,>=2.13.0 in /opt/conda/lib/python3.7/site-packages (from spacy) (2.22.0)\n",
      "Requirement already satisfied: setuptools in /opt/conda/lib/python3.7/site-packages (from spacy) (45.2.0.post20200210)\n",
      "Requirement already satisfied: numpy>=1.15.0 in /opt/conda/lib/python3.7/site-packages (from spacy) (1.18.1)\n",
      "Requirement already satisfied: tqdm<5.0.0,>=4.38.0 in /opt/conda/lib/python3.7/site-packages (from spacy) (4.42.1)\n",
      "Collecting blis<0.8.0,>=0.4.0\n",
      "  Downloading blis-0.7.4-cp37-cp37m-manylinux2014_x86_64.whl (9.8 MB)\n",
      "\u001b[K     |████████████████████████████████| 9.8 MB 60.5 MB/s eta 0:00:01\n",
      "\u001b[?25hCollecting catalogue<1.1.0,>=0.0.7\n",
      "  Using cached catalogue-1.0.0-py2.py3-none-any.whl (7.7 kB)\n",
      "Requirement already satisfied: importlib-metadata>=0.20 in /opt/conda/lib/python3.7/site-packages (from catalogue<1.1.0,>=0.0.7->spacy) (1.5.0)\n",
      "Collecting cymem<2.1.0,>=2.0.2\n",
      "  Using cached cymem-2.0.5-cp37-cp37m-manylinux2014_x86_64.whl (35 kB)\n",
      "Requirement already satisfied: zipp>=0.5 in /opt/conda/lib/python3.7/site-packages (from importlib-metadata>=0.20->catalogue<1.1.0,>=0.0.7->spacy) (2.2.0)\n",
      "Collecting murmurhash<1.1.0,>=0.28.0\n",
      "  Using cached murmurhash-1.0.5-cp37-cp37m-manylinux2014_x86_64.whl (20 kB)\n",
      "Collecting plac<1.2.0,>=0.9.6\n",
      "  Using cached plac-1.1.3-py2.py3-none-any.whl (20 kB)\n",
      "Collecting preshed<3.1.0,>=3.0.2\n",
      "  Using cached preshed-3.0.5-cp37-cp37m-manylinux2014_x86_64.whl (126 kB)\n",
      "Requirement already satisfied: idna<2.9,>=2.5 in /opt/conda/lib/python3.7/site-packages (from requests<3.0.0,>=2.13.0->spacy) (2.8)\n",
      "Requirement already satisfied: certifi>=2017.4.17 in /opt/conda/lib/python3.7/site-packages (from requests<3.0.0,>=2.13.0->spacy) (2019.11.28)\n",
      "Requirement already satisfied: urllib3!=1.25.0,!=1.25.1,<1.26,>=1.21.1 in /opt/conda/lib/python3.7/site-packages (from requests<3.0.0,>=2.13.0->spacy) (1.25.8)\n",
      "Requirement already satisfied: chardet<3.1.0,>=3.0.2 in /opt/conda/lib/python3.7/site-packages (from requests<3.0.0,>=2.13.0->spacy) (3.0.4)\n",
      "Collecting srsly<1.1.0,>=1.0.2\n",
      "  Using cached srsly-1.0.5-cp37-cp37m-manylinux2014_x86_64.whl (184 kB)\n",
      "Collecting thinc<7.5.0,>=7.4.1\n",
      "  Downloading thinc-7.4.5-cp37-cp37m-manylinux2014_x86_64.whl (1.0 MB)\n",
      "\u001b[K     |████████████████████████████████| 1.0 MB 62.8 MB/s eta 0:00:01\n",
      "\u001b[?25hCollecting wasabi<1.1.0,>=0.4.0\n",
      "  Using cached wasabi-0.8.0-py3-none-any.whl (23 kB)\n",
      "Installing collected packages: murmurhash, cymem, wasabi, srsly, preshed, plac, catalogue, blis, thinc, spacy\n",
      "Successfully installed blis-0.7.4 catalogue-1.0.0 cymem-2.0.5 murmurhash-1.0.5 plac-1.1.3 preshed-3.0.5 spacy-2.3.5 srsly-1.0.5 thinc-7.4.5 wasabi-0.8.0\n"
     ]
    }
   ],
   "source": [
    "!pip install spacy"
   ]
  },
  {
   "cell_type": "markdown",
   "metadata": {},
   "source": [
    "## Step 2: Install spaCy pre-trained (english and Spanish NLP) models\n",
    "```shell\n",
    "python3 -m spacy download en_core_web_lg\n",
    "python3 -m spacy download es_core_news_md\n",
    "```"
   ]
  },
  {
   "cell_type": "code",
   "execution_count": 14,
   "metadata": {
    "scrolled": true
   },
   "outputs": [
    {
     "name": "stdout",
     "output_type": "stream",
     "text": [
      "Collecting en_core_web_lg==2.2.5\n",
      "  Downloading https://github.com/explosion/spacy-models/releases/download/en_core_web_lg-2.2.5/en_core_web_lg-2.2.5.tar.gz (827.9 MB)\n",
      "\u001b[K     |████████████████████████████████| 827.9 MB 95.0 MB/s eta 0:00:01     |███████▊                        | 199.5 MB 842 kB/s eta 0:12:26     |███████████▌                    | 297.5 MB 65.6 MB/s eta 0:00:09     |███████████████████████▏        | 598.4 MB 48.1 MB/s eta 0:00:05�████████▋    | 713.0 MB 567 kB/s eta 0:03:23     |████████████████████████████▍   | 735.3 MB 39.5 MB/s eta 0:00:03��████████  | 776.2 MB 39.5 MB/s eta 0:00:02\n",
      "\u001b[?25hRequirement already satisfied: spacy>=2.2.2 in /opt/conda/lib/python3.7/site-packages (from en_core_web_lg==2.2.5) (2.2.3)\n",
      "Requirement already satisfied: requests<3.0.0,>=2.13.0 in /opt/conda/lib/python3.7/site-packages (from spacy>=2.2.2->en_core_web_lg==2.2.5) (2.22.0)\n",
      "Requirement already satisfied: murmurhash<1.1.0,>=0.28.0 in /opt/conda/lib/python3.7/site-packages (from spacy>=2.2.2->en_core_web_lg==2.2.5) (1.0.5)\n",
      "Requirement already satisfied: wasabi<1.1.0,>=0.4.0 in /opt/conda/lib/python3.7/site-packages (from spacy>=2.2.2->en_core_web_lg==2.2.5) (0.8.0)\n",
      "Requirement already satisfied: srsly<1.1.0,>=0.1.0 in /opt/conda/lib/python3.7/site-packages (from spacy>=2.2.2->en_core_web_lg==2.2.5) (1.0.5)\n",
      "Requirement already satisfied: preshed<3.1.0,>=3.0.2 in /opt/conda/lib/python3.7/site-packages (from spacy>=2.2.2->en_core_web_lg==2.2.5) (3.0.5)\n",
      "Requirement already satisfied: setuptools in /opt/conda/lib/python3.7/site-packages (from spacy>=2.2.2->en_core_web_lg==2.2.5) (45.2.0.post20200210)\n",
      "Requirement already satisfied: plac<1.2.0,>=0.9.6 in /opt/conda/lib/python3.7/site-packages (from spacy>=2.2.2->en_core_web_lg==2.2.5) (1.1.3)\n",
      "Requirement already satisfied: cymem<2.1.0,>=2.0.2 in /opt/conda/lib/python3.7/site-packages (from spacy>=2.2.2->en_core_web_lg==2.2.5) (2.0.5)\n",
      "Requirement already satisfied: catalogue<1.1.0,>=0.0.7 in /opt/conda/lib/python3.7/site-packages (from spacy>=2.2.2->en_core_web_lg==2.2.5) (1.0.0)\n",
      "Requirement already satisfied: blis<0.5.0,>=0.4.0 in /opt/conda/lib/python3.7/site-packages (from spacy>=2.2.2->en_core_web_lg==2.2.5) (0.4.1)\n",
      "Requirement already satisfied: thinc<7.4.0,>=7.3.0 in /opt/conda/lib/python3.7/site-packages (from spacy>=2.2.2->en_core_web_lg==2.2.5) (7.3.1)\n",
      "Requirement already satisfied: numpy>=1.15.0 in /opt/conda/lib/python3.7/site-packages (from spacy>=2.2.2->en_core_web_lg==2.2.5) (1.18.1)\n",
      "Requirement already satisfied: importlib-metadata>=0.20 in /opt/conda/lib/python3.7/site-packages (from catalogue<1.1.0,>=0.0.7->spacy>=2.2.2->en_core_web_lg==2.2.5) (1.5.0)\n",
      "Requirement already satisfied: zipp>=0.5 in /opt/conda/lib/python3.7/site-packages (from importlib-metadata>=0.20->catalogue<1.1.0,>=0.0.7->spacy>=2.2.2->en_core_web_lg==2.2.5) (2.2.0)\n",
      "Requirement already satisfied: chardet<3.1.0,>=3.0.2 in /opt/conda/lib/python3.7/site-packages (from requests<3.0.0,>=2.13.0->spacy>=2.2.2->en_core_web_lg==2.2.5) (3.0.4)\n",
      "Requirement already satisfied: idna<2.9,>=2.5 in /opt/conda/lib/python3.7/site-packages (from requests<3.0.0,>=2.13.0->spacy>=2.2.2->en_core_web_lg==2.2.5) (2.8)\n",
      "Requirement already satisfied: urllib3!=1.25.0,!=1.25.1,<1.26,>=1.21.1 in /opt/conda/lib/python3.7/site-packages (from requests<3.0.0,>=2.13.0->spacy>=2.2.2->en_core_web_lg==2.2.5) (1.25.8)\n",
      "Requirement already satisfied: certifi>=2017.4.17 in /opt/conda/lib/python3.7/site-packages (from requests<3.0.0,>=2.13.0->spacy>=2.2.2->en_core_web_lg==2.2.5) (2019.11.28)\n",
      "Requirement already satisfied: tqdm<5.0.0,>=4.10.0 in /opt/conda/lib/python3.7/site-packages (from thinc<7.4.0,>=7.3.0->spacy>=2.2.2->en_core_web_lg==2.2.5) (4.42.1)\n",
      "Building wheels for collected packages: en-core-web-lg\n",
      "  Building wheel for en-core-web-lg (setup.py) ... \u001b[?25ldone\n",
      "\u001b[?25h  Created wheel for en-core-web-lg: filename=en_core_web_lg-2.2.5-py3-none-any.whl size=829180943 sha256=4d5f41f892e2aec4bf405f6bb9776ed34d36d885a2456ce525196a95578a4071\n",
      "  Stored in directory: /tmp/pip-ephem-wheel-cache-7pn3m87z/wheels/11/95/ba/2c36cc368c0bd339b44a791c2c1881a1fb714b78c29a4cb8f5\n",
      "Successfully built en-core-web-lg\n",
      "Installing collected packages: en-core-web-lg\n",
      "Successfully installed en-core-web-lg-2.2.5\n",
      "\u001b[38;5;2m✔ Download and installation successful\u001b[0m\n",
      "You can now load the model via spacy.load('en_core_web_lg')\n"
     ]
    }
   ],
   "source": [
    "!python3 -m spacy download en_core_web_lg"
   ]
  },
  {
   "cell_type": "code",
   "execution_count": 15,
   "metadata": {
    "scrolled": true
   },
   "outputs": [
    {
     "name": "stdout",
     "output_type": "stream",
     "text": [
      "Collecting es_core_news_md==2.2.5\n",
      "  Downloading https://github.com/explosion/spacy-models/releases/download/es_core_news_md-2.2.5/es_core_news_md-2.2.5.tar.gz (78.4 MB)\n",
      "\u001b[K     |████████████████████████████████| 78.4 MB 70.4 MB/s eta 0:00:01\n",
      "\u001b[?25hRequirement already satisfied: spacy>=2.2.2 in /opt/conda/lib/python3.7/site-packages (from es_core_news_md==2.2.5) (2.2.3)\n",
      "Requirement already satisfied: srsly<1.1.0,>=0.1.0 in /opt/conda/lib/python3.7/site-packages (from spacy>=2.2.2->es_core_news_md==2.2.5) (1.0.5)\n",
      "Requirement already satisfied: wasabi<1.1.0,>=0.4.0 in /opt/conda/lib/python3.7/site-packages (from spacy>=2.2.2->es_core_news_md==2.2.5) (0.8.0)\n",
      "Requirement already satisfied: murmurhash<1.1.0,>=0.28.0 in /opt/conda/lib/python3.7/site-packages (from spacy>=2.2.2->es_core_news_md==2.2.5) (1.0.5)\n",
      "Requirement already satisfied: thinc<7.4.0,>=7.3.0 in /opt/conda/lib/python3.7/site-packages (from spacy>=2.2.2->es_core_news_md==2.2.5) (7.3.1)\n",
      "Requirement already satisfied: plac<1.2.0,>=0.9.6 in /opt/conda/lib/python3.7/site-packages (from spacy>=2.2.2->es_core_news_md==2.2.5) (1.1.3)\n",
      "Requirement already satisfied: catalogue<1.1.0,>=0.0.7 in /opt/conda/lib/python3.7/site-packages (from spacy>=2.2.2->es_core_news_md==2.2.5) (1.0.0)\n",
      "Requirement already satisfied: blis<0.5.0,>=0.4.0 in /opt/conda/lib/python3.7/site-packages (from spacy>=2.2.2->es_core_news_md==2.2.5) (0.4.1)\n",
      "Requirement already satisfied: numpy>=1.15.0 in /opt/conda/lib/python3.7/site-packages (from spacy>=2.2.2->es_core_news_md==2.2.5) (1.18.1)\n",
      "Requirement already satisfied: preshed<3.1.0,>=3.0.2 in /opt/conda/lib/python3.7/site-packages (from spacy>=2.2.2->es_core_news_md==2.2.5) (3.0.5)\n",
      "Requirement already satisfied: cymem<2.1.0,>=2.0.2 in /opt/conda/lib/python3.7/site-packages (from spacy>=2.2.2->es_core_news_md==2.2.5) (2.0.5)\n",
      "Requirement already satisfied: requests<3.0.0,>=2.13.0 in /opt/conda/lib/python3.7/site-packages (from spacy>=2.2.2->es_core_news_md==2.2.5) (2.22.0)\n",
      "Requirement already satisfied: setuptools in /opt/conda/lib/python3.7/site-packages (from spacy>=2.2.2->es_core_news_md==2.2.5) (45.2.0.post20200210)\n",
      "Requirement already satisfied: importlib-metadata>=0.20 in /opt/conda/lib/python3.7/site-packages (from catalogue<1.1.0,>=0.0.7->spacy>=2.2.2->es_core_news_md==2.2.5) (1.5.0)\n",
      "Requirement already satisfied: zipp>=0.5 in /opt/conda/lib/python3.7/site-packages (from importlib-metadata>=0.20->catalogue<1.1.0,>=0.0.7->spacy>=2.2.2->es_core_news_md==2.2.5) (2.2.0)\n",
      "Requirement already satisfied: chardet<3.1.0,>=3.0.2 in /opt/conda/lib/python3.7/site-packages (from requests<3.0.0,>=2.13.0->spacy>=2.2.2->es_core_news_md==2.2.5) (3.0.4)\n",
      "Requirement already satisfied: certifi>=2017.4.17 in /opt/conda/lib/python3.7/site-packages (from requests<3.0.0,>=2.13.0->spacy>=2.2.2->es_core_news_md==2.2.5) (2019.11.28)\n",
      "Requirement already satisfied: urllib3!=1.25.0,!=1.25.1,<1.26,>=1.21.1 in /opt/conda/lib/python3.7/site-packages (from requests<3.0.0,>=2.13.0->spacy>=2.2.2->es_core_news_md==2.2.5) (1.25.8)\n",
      "Requirement already satisfied: idna<2.9,>=2.5 in /opt/conda/lib/python3.7/site-packages (from requests<3.0.0,>=2.13.0->spacy>=2.2.2->es_core_news_md==2.2.5) (2.8)\n",
      "Requirement already satisfied: tqdm<5.0.0,>=4.10.0 in /opt/conda/lib/python3.7/site-packages (from thinc<7.4.0,>=7.3.0->spacy>=2.2.2->es_core_news_md==2.2.5) (4.42.1)\n",
      "Building wheels for collected packages: es-core-news-md\n",
      "  Building wheel for es-core-news-md (setup.py) ... \u001b[?25ldone\n",
      "\u001b[?25h  Created wheel for es-core-news-md: filename=es_core_news_md-2.2.5-py3-none-any.whl size=79649480 sha256=151af54cfb47fc151e7e2592bd8dcf82a745f90b5a2c17ef79286cedbe62e5d2\n",
      "  Stored in directory: /tmp/pip-ephem-wheel-cache-20mzj118/wheels/d8/f5/92/ee8a4f74fac67775fbc0314b1c9ae4694f4180437f6fc3dd1c\n",
      "Successfully built es-core-news-md\n",
      "Installing collected packages: es-core-news-md\n",
      "Successfully installed es-core-news-md-2.2.5\n",
      "\u001b[38;5;2m✔ Download and installation successful\u001b[0m\n",
      "You can now load the model via spacy.load('es_core_news_md')\n"
     ]
    }
   ],
   "source": [
    "!python3 -m spacy download es_core_news_md"
   ]
  },
  {
   "cell_type": "markdown",
   "metadata": {},
   "source": [
    "## Step 3: Install Presidio from github source code (via pip install from wheel file)\n",
    "\n",
    "The instruction of install presidio_analyzer from github source code can be found at https://microsoft.github.io/presidio/deploy.html.\n",
    "\n",
    "The presidio analyzer requires gcc to compile and install the final Python package. So, the following shell commands is to install gcc linux tool if it doesn't exist."
   ]
  },
  {
   "cell_type": "code",
   "execution_count": 17,
   "metadata": {
    "scrolled": true
   },
   "outputs": [
    {
     "name": "stdout",
     "output_type": "stream",
     "text": [
      "Get:1 http://security.debian.org/debian-security buster/updates InRelease [65.4 kB]\n",
      "Get:2 http://deb.debian.org/debian buster InRelease [121 kB]\n",
      "Get:3 http://deb.debian.org/debian buster-updates InRelease [51.9 kB]\n",
      "Get:4 http://security.debian.org/debian-security buster/updates/main amd64 Packages [260 kB]\n",
      "Get:5 http://deb.debian.org/debian buster/main amd64 Packages [7907 kB]\n",
      "Get:6 http://deb.debian.org/debian buster-updates/main amd64 Packages [7860 B]\n",
      "Fetched 8414 kB in 2s (5024 kB/s)\n",
      "Reading package lists... Done\n"
     ]
    }
   ],
   "source": [
    "!apt-get update"
   ]
  },
  {
   "cell_type": "code",
   "execution_count": 19,
   "metadata": {
    "scrolled": true
   },
   "outputs": [
    {
     "name": "stdout",
     "output_type": "stream",
     "text": [
      "Reading package lists... Done\n",
      "Building dependency tree       \n",
      "Reading state information... Done\n",
      "The following additional packages will be installed:\n",
      "  binutils binutils-common binutils-x86-64-linux-gnu cpp cpp-8 gcc-8 libasan5\n",
      "  libatomic1 libbinutils libc-dev-bin libc6-dev libcc1-0 libgcc-8-dev libisl19\n",
      "  libitm1 liblsan0 libmpc3 libmpfr6 libmpx2 libquadmath0 libtsan0 libubsan1\n",
      "  linux-libc-dev manpages manpages-dev\n",
      "Suggested packages:\n",
      "  binutils-doc cpp-doc gcc-8-locales gcc-multilib make autoconf automake\n",
      "  libtool flex bison gdb gcc-doc gcc-8-multilib gcc-8-doc libgcc1-dbg\n",
      "  libgomp1-dbg libitm1-dbg libatomic1-dbg libasan5-dbg liblsan0-dbg\n",
      "  libtsan0-dbg libubsan1-dbg libmpx2-dbg libquadmath0-dbg glibc-doc\n",
      "  man-browser\n",
      "The following NEW packages will be installed:\n",
      "  binutils binutils-common binutils-x86-64-linux-gnu cpp cpp-8 gcc gcc-8\n",
      "  libasan5 libatomic1 libbinutils libc-dev-bin libc6-dev libcc1-0 libgcc-8-dev\n",
      "  libisl19 libitm1 liblsan0 libmpc3 libmpfr6 libmpx2 libquadmath0 libtsan0\n",
      "  libubsan1 linux-libc-dev manpages manpages-dev\n",
      "0 upgraded, 26 newly installed, 0 to remove and 29 not upgraded.\n",
      "Need to get 35.6 MB of archives.\n",
      "After this operation, 135 MB of additional disk space will be used.\n",
      "Get:1 http://deb.debian.org/debian buster/main amd64 manpages all 4.16-2 [1295 kB]\n",
      "Get:2 http://deb.debian.org/debian buster/main amd64 binutils-common amd64 2.31.1-16 [2073 kB]\n",
      "Get:3 http://deb.debian.org/debian buster/main amd64 libbinutils amd64 2.31.1-16 [478 kB]\n",
      "Get:4 http://deb.debian.org/debian buster/main amd64 binutils-x86-64-linux-gnu amd64 2.31.1-16 [1823 kB]\n",
      "Get:5 http://deb.debian.org/debian buster/main amd64 binutils amd64 2.31.1-16 [56.8 kB]\n",
      "Get:6 http://deb.debian.org/debian buster/main amd64 libisl19 amd64 0.20-2 [587 kB]\n",
      "Get:7 http://deb.debian.org/debian buster/main amd64 libmpfr6 amd64 4.0.2-1 [775 kB]\n",
      "Get:8 http://deb.debian.org/debian buster/main amd64 libmpc3 amd64 1.1.0-1 [41.3 kB]\n",
      "Get:9 http://deb.debian.org/debian buster/main amd64 cpp-8 amd64 8.3.0-6 [8914 kB]\n",
      "Get:10 http://deb.debian.org/debian buster/main amd64 cpp amd64 4:8.3.0-1 [19.4 kB]\n",
      "Get:11 http://deb.debian.org/debian buster/main amd64 libcc1-0 amd64 8.3.0-6 [46.6 kB]\n",
      "Get:12 http://deb.debian.org/debian buster/main amd64 libitm1 amd64 8.3.0-6 [27.7 kB]\n",
      "Get:13 http://deb.debian.org/debian buster/main amd64 libatomic1 amd64 8.3.0-6 [9032 B]\n",
      "Get:14 http://deb.debian.org/debian buster/main amd64 libasan5 amd64 8.3.0-6 [362 kB]\n",
      "Get:15 http://deb.debian.org/debian buster/main amd64 liblsan0 amd64 8.3.0-6 [131 kB]\n",
      "Get:16 http://deb.debian.org/debian buster/main amd64 libtsan0 amd64 8.3.0-6 [283 kB]\n",
      "Get:17 http://deb.debian.org/debian buster/main amd64 libubsan1 amd64 8.3.0-6 [120 kB]\n",
      "Get:18 http://deb.debian.org/debian buster/main amd64 libmpx2 amd64 8.3.0-6 [11.4 kB]\n",
      "Get:19 http://deb.debian.org/debian buster/main amd64 libquadmath0 amd64 8.3.0-6 [133 kB]\n",
      "Get:20 http://deb.debian.org/debian buster/main amd64 libgcc-8-dev amd64 8.3.0-6 [2298 kB]\n",
      "Get:21 http://deb.debian.org/debian buster/main amd64 gcc-8 amd64 8.3.0-6 [9452 kB]\n",
      "Get:22 http://deb.debian.org/debian buster/main amd64 gcc amd64 4:8.3.0-1 [5196 B]\n",
      "Get:23 http://deb.debian.org/debian buster/main amd64 libc-dev-bin amd64 2.28-10 [275 kB]\n",
      "Get:24 http://deb.debian.org/debian buster/main amd64 linux-libc-dev amd64 4.19.160-2 [1416 kB]\n",
      "Get:25 http://deb.debian.org/debian buster/main amd64 libc6-dev amd64 2.28-10 [2691 kB]\n",
      "Get:26 http://deb.debian.org/debian buster/main amd64 manpages-dev all 4.16-2 [2232 kB]\n",
      "Fetched 35.6 MB in 0s (93.5 MB/s)       \n",
      "debconf: delaying package configuration, since apt-utils is not installed\n",
      "Selecting previously unselected package manpages.\n",
      "(Reading database ... 16509 files and directories currently installed.)\n",
      "Preparing to unpack .../00-manpages_4.16-2_all.deb ...\n",
      "Unpacking manpages (4.16-2) ...\n",
      "Selecting previously unselected package binutils-common:amd64.\n",
      "Preparing to unpack .../01-binutils-common_2.31.1-16_amd64.deb ...\n",
      "Unpacking binutils-common:amd64 (2.31.1-16) ...\n",
      "Selecting previously unselected package libbinutils:amd64.\n",
      "Preparing to unpack .../02-libbinutils_2.31.1-16_amd64.deb ...\n",
      "Unpacking libbinutils:amd64 (2.31.1-16) ...\n",
      "Selecting previously unselected package binutils-x86-64-linux-gnu.\n",
      "Preparing to unpack .../03-binutils-x86-64-linux-gnu_2.31.1-16_amd64.deb ...\n",
      "Unpacking binutils-x86-64-linux-gnu (2.31.1-16) ...\n",
      "Selecting previously unselected package binutils.\n",
      "Preparing to unpack .../04-binutils_2.31.1-16_amd64.deb ...\n",
      "Unpacking binutils (2.31.1-16) ...\n",
      "Selecting previously unselected package libisl19:amd64.\n",
      "Preparing to unpack .../05-libisl19_0.20-2_amd64.deb ...\n",
      "Unpacking libisl19:amd64 (0.20-2) ...\n",
      "Selecting previously unselected package libmpfr6:amd64.\n",
      "Preparing to unpack .../06-libmpfr6_4.0.2-1_amd64.deb ...\n",
      "Unpacking libmpfr6:amd64 (4.0.2-1) ...\n",
      "Selecting previously unselected package libmpc3:amd64.\n",
      "Preparing to unpack .../07-libmpc3_1.1.0-1_amd64.deb ...\n",
      "Unpacking libmpc3:amd64 (1.1.0-1) ...\n",
      "Selecting previously unselected package cpp-8.\n",
      "Preparing to unpack .../08-cpp-8_8.3.0-6_amd64.deb ...\n",
      "Unpacking cpp-8 (8.3.0-6) ...\n",
      "Selecting previously unselected package cpp.\n",
      "Preparing to unpack .../09-cpp_4%3a8.3.0-1_amd64.deb ...\n",
      "Unpacking cpp (4:8.3.0-1) ...\n",
      "Selecting previously unselected package libcc1-0:amd64.\n",
      "Preparing to unpack .../10-libcc1-0_8.3.0-6_amd64.deb ...\n",
      "Unpacking libcc1-0:amd64 (8.3.0-6) ...\n",
      "Selecting previously unselected package libitm1:amd64.\n",
      "Preparing to unpack .../11-libitm1_8.3.0-6_amd64.deb ...\n",
      "Unpacking libitm1:amd64 (8.3.0-6) ...\n",
      "Selecting previously unselected package libatomic1:amd64.\n",
      "Preparing to unpack .../12-libatomic1_8.3.0-6_amd64.deb ...\n",
      "Unpacking libatomic1:amd64 (8.3.0-6) ...\n",
      "Selecting previously unselected package libasan5:amd64.\n",
      "Preparing to unpack .../13-libasan5_8.3.0-6_amd64.deb ...\n",
      "Unpacking libasan5:amd64 (8.3.0-6) ...\n",
      "Selecting previously unselected package liblsan0:amd64.\n",
      "Preparing to unpack .../14-liblsan0_8.3.0-6_amd64.deb ...\n",
      "Unpacking liblsan0:amd64 (8.3.0-6) ...\n",
      "Selecting previously unselected package libtsan0:amd64.\n",
      "Preparing to unpack .../15-libtsan0_8.3.0-6_amd64.deb ...\n",
      "Unpacking libtsan0:amd64 (8.3.0-6) ...\n",
      "Selecting previously unselected package libubsan1:amd64.\n",
      "Preparing to unpack .../16-libubsan1_8.3.0-6_amd64.deb ...\n",
      "Unpacking libubsan1:amd64 (8.3.0-6) ...\n",
      "Selecting previously unselected package libmpx2:amd64.\n",
      "Preparing to unpack .../17-libmpx2_8.3.0-6_amd64.deb ...\n",
      "Unpacking libmpx2:amd64 (8.3.0-6) ...\n",
      "Selecting previously unselected package libquadmath0:amd64.\n",
      "Preparing to unpack .../18-libquadmath0_8.3.0-6_amd64.deb ...\n",
      "Unpacking libquadmath0:amd64 (8.3.0-6) ...\n",
      "Selecting previously unselected package libgcc-8-dev:amd64.\n",
      "Preparing to unpack .../19-libgcc-8-dev_8.3.0-6_amd64.deb ...\n",
      "Unpacking libgcc-8-dev:amd64 (8.3.0-6) ...\n",
      "Selecting previously unselected package gcc-8.\n",
      "Preparing to unpack .../20-gcc-8_8.3.0-6_amd64.deb ...\n",
      "Unpacking gcc-8 (8.3.0-6) ...\n",
      "Selecting previously unselected package gcc.\n",
      "Preparing to unpack .../21-gcc_4%3a8.3.0-1_amd64.deb ...\n",
      "Unpacking gcc (4:8.3.0-1) ...\n",
      "Selecting previously unselected package libc-dev-bin.\n",
      "Preparing to unpack .../22-libc-dev-bin_2.28-10_amd64.deb ...\n",
      "Unpacking libc-dev-bin (2.28-10) ...\n",
      "Selecting previously unselected package linux-libc-dev:amd64.\n",
      "Preparing to unpack .../23-linux-libc-dev_4.19.160-2_amd64.deb ...\n",
      "Unpacking linux-libc-dev:amd64 (4.19.160-2) ...\n",
      "Selecting previously unselected package libc6-dev:amd64.\n",
      "Preparing to unpack .../24-libc6-dev_2.28-10_amd64.deb ...\n",
      "Unpacking libc6-dev:amd64 (2.28-10) ...\n",
      "Selecting previously unselected package manpages-dev.\n",
      "Preparing to unpack .../25-manpages-dev_4.16-2_all.deb ...\n",
      "Unpacking manpages-dev (4.16-2) ...\n",
      "Setting up manpages (4.16-2) ...\n",
      "Setting up binutils-common:amd64 (2.31.1-16) ...\n",
      "Setting up linux-libc-dev:amd64 (4.19.160-2) ...\n",
      "Setting up libasan5:amd64 (8.3.0-6) ...\n",
      "Setting up libmpfr6:amd64 (4.0.2-1) ...\n",
      "Setting up libquadmath0:amd64 (8.3.0-6) ...\n",
      "Setting up libmpc3:amd64 (1.1.0-1) ...\n",
      "Setting up libatomic1:amd64 (8.3.0-6) ...\n",
      "Setting up libmpx2:amd64 (8.3.0-6) ...\n",
      "Setting up libubsan1:amd64 (8.3.0-6) ...\n",
      "Setting up libisl19:amd64 (0.20-2) ...\n",
      "Setting up libbinutils:amd64 (2.31.1-16) ...\n",
      "Setting up cpp-8 (8.3.0-6) ...\n",
      "Setting up libc-dev-bin (2.28-10) ...\n",
      "Setting up libcc1-0:amd64 (8.3.0-6) ...\n",
      "Setting up liblsan0:amd64 (8.3.0-6) ...\n",
      "Setting up libitm1:amd64 (8.3.0-6) ...\n",
      "Setting up binutils-x86-64-linux-gnu (2.31.1-16) ...\n",
      "Setting up libtsan0:amd64 (8.3.0-6) ...\n",
      "Setting up manpages-dev (4.16-2) ...\n",
      "Setting up binutils (2.31.1-16) ...\n",
      "Setting up libgcc-8-dev:amd64 (8.3.0-6) ...\n",
      "Setting up cpp (4:8.3.0-1) ...\n",
      "Setting up libc6-dev:amd64 (2.28-10) ...\n",
      "Setting up gcc-8 (8.3.0-6) ...\n",
      "Setting up gcc (4:8.3.0-1) ...\n",
      "Processing triggers for libc-bin (2.28-10) ...\n"
     ]
    }
   ],
   "source": [
    "!apt-get install gcc -y"
   ]
  },
  {
   "cell_type": "markdown",
   "metadata": {},
   "source": [
    "Now, let's install presidio analyzer Python package, which will be the main PII detection engine."
   ]
  },
  {
   "cell_type": "code",
   "execution_count": 20,
   "metadata": {
    "scrolled": true
   },
   "outputs": [
    {
     "name": "stdout",
     "output_type": "stream",
     "text": [
      "Processing ./presidio_analyzer-0.3.dev0-py2.py3-none-any.whl\n",
      "Requirement already satisfied: tldextract==2.2.1 in /opt/conda/lib/python3.7/site-packages (from presidio-analyzer==0.3.dev0) (2.2.1)\n",
      "Requirement already satisfied: spacy==2.2.3 in /opt/conda/lib/python3.7/site-packages (from presidio-analyzer==0.3.dev0) (2.2.3)\n",
      "Collecting cython==0.29.10\n",
      "  Using cached Cython-0.29.10-cp37-cp37m-manylinux1_x86_64.whl (2.1 MB)\n",
      "Collecting grpcio==1.21.1\n",
      "  Using cached grpcio-1.21.1-cp37-cp37m-manylinux1_x86_64.whl (2.2 MB)\n",
      "Requirement already satisfied: six>=1.5.2 in /opt/conda/lib/python3.7/site-packages (from grpcio==1.21.1->presidio-analyzer==0.3.dev0) (1.14.0)\n",
      "Collecting knack==0.6.2\n",
      "  Using cached knack-0.6.2-py2.py3-none-any.whl (54 kB)\n",
      "Requirement already satisfied: colorama in /opt/conda/lib/python3.7/site-packages (from knack==0.6.2->presidio-analyzer==0.3.dev0) (0.4.3)\n",
      "Requirement already satisfied: jmespath in /opt/conda/lib/python3.7/site-packages (from knack==0.6.2->presidio-analyzer==0.3.dev0) (0.10.0)\n",
      "Requirement already satisfied: pyyaml in /opt/conda/lib/python3.7/site-packages (from knack==0.6.2->presidio-analyzer==0.3.dev0) (5.3)\n",
      "Requirement already satisfied: tabulate in /opt/conda/lib/python3.7/site-packages (from knack==0.6.2->presidio-analyzer==0.3.dev0) (0.8.7)\n",
      "Requirement already satisfied: argcomplete in /opt/conda/lib/python3.7/site-packages (from knack==0.6.2->presidio-analyzer==0.3.dev0) (1.12.2)\n",
      "Requirement already satisfied: pygments in /opt/conda/lib/python3.7/site-packages (from knack==0.6.2->presidio-analyzer==0.3.dev0) (2.5.2)\n",
      "Collecting protobuf==3.8.0\n",
      "  Using cached protobuf-3.8.0-cp37-cp37m-manylinux1_x86_64.whl (1.2 MB)\n",
      "Requirement already satisfied: setuptools in /opt/conda/lib/python3.7/site-packages (from protobuf==3.8.0->presidio-analyzer==0.3.dev0) (45.2.0.post20200210)\n",
      "Collecting regex==2019.6.8\n",
      "  Using cached regex-2019.06.08.tar.gz (651 kB)\n",
      "Requirement already satisfied: murmurhash<1.1.0,>=0.28.0 in /opt/conda/lib/python3.7/site-packages (from spacy==2.2.3->presidio-analyzer==0.3.dev0) (1.0.5)\n",
      "Requirement already satisfied: wasabi<1.1.0,>=0.4.0 in /opt/conda/lib/python3.7/site-packages (from spacy==2.2.3->presidio-analyzer==0.3.dev0) (0.8.0)\n",
      "Requirement already satisfied: thinc<7.4.0,>=7.3.0 in /opt/conda/lib/python3.7/site-packages (from spacy==2.2.3->presidio-analyzer==0.3.dev0) (7.3.1)\n",
      "Requirement already satisfied: plac<1.2.0,>=0.9.6 in /opt/conda/lib/python3.7/site-packages (from spacy==2.2.3->presidio-analyzer==0.3.dev0) (1.1.3)\n",
      "Requirement already satisfied: preshed<3.1.0,>=3.0.2 in /opt/conda/lib/python3.7/site-packages (from spacy==2.2.3->presidio-analyzer==0.3.dev0) (3.0.5)\n",
      "Requirement already satisfied: numpy>=1.15.0 in /opt/conda/lib/python3.7/site-packages (from spacy==2.2.3->presidio-analyzer==0.3.dev0) (1.18.1)\n",
      "Requirement already satisfied: blis<0.5.0,>=0.4.0 in /opt/conda/lib/python3.7/site-packages (from spacy==2.2.3->presidio-analyzer==0.3.dev0) (0.4.1)\n",
      "Requirement already satisfied: cymem<2.1.0,>=2.0.2 in /opt/conda/lib/python3.7/site-packages (from spacy==2.2.3->presidio-analyzer==0.3.dev0) (2.0.5)\n",
      "Requirement already satisfied: catalogue<1.1.0,>=0.0.7 in /opt/conda/lib/python3.7/site-packages (from spacy==2.2.3->presidio-analyzer==0.3.dev0) (1.0.0)\n",
      "Requirement already satisfied: srsly<1.1.0,>=0.1.0 in /opt/conda/lib/python3.7/site-packages (from spacy==2.2.3->presidio-analyzer==0.3.dev0) (1.0.5)\n",
      "Requirement already satisfied: requests<3.0.0,>=2.13.0 in /opt/conda/lib/python3.7/site-packages (from spacy==2.2.3->presidio-analyzer==0.3.dev0) (2.22.0)\n",
      "Requirement already satisfied: requests-file>=1.4 in /opt/conda/lib/python3.7/site-packages (from tldextract==2.2.1->presidio-analyzer==0.3.dev0) (1.5.1)\n",
      "Requirement already satisfied: idna in /opt/conda/lib/python3.7/site-packages (from tldextract==2.2.1->presidio-analyzer==0.3.dev0) (2.8)\n",
      "Requirement already satisfied: importlib-metadata>=0.20 in /opt/conda/lib/python3.7/site-packages (from catalogue<1.1.0,>=0.0.7->spacy==2.2.3->presidio-analyzer==0.3.dev0) (1.5.0)\n",
      "Requirement already satisfied: zipp>=0.5 in /opt/conda/lib/python3.7/site-packages (from importlib-metadata>=0.20->catalogue<1.1.0,>=0.0.7->spacy==2.2.3->presidio-analyzer==0.3.dev0) (2.2.0)\n",
      "Requirement already satisfied: urllib3!=1.25.0,!=1.25.1,<1.26,>=1.21.1 in /opt/conda/lib/python3.7/site-packages (from requests<3.0.0,>=2.13.0->spacy==2.2.3->presidio-analyzer==0.3.dev0) (1.25.8)\n",
      "Requirement already satisfied: chardet<3.1.0,>=3.0.2 in /opt/conda/lib/python3.7/site-packages (from requests<3.0.0,>=2.13.0->spacy==2.2.3->presidio-analyzer==0.3.dev0) (3.0.4)\n",
      "Requirement already satisfied: certifi>=2017.4.17 in /opt/conda/lib/python3.7/site-packages (from requests<3.0.0,>=2.13.0->spacy==2.2.3->presidio-analyzer==0.3.dev0) (2019.11.28)\n",
      "Requirement already satisfied: tqdm<5.0.0,>=4.10.0 in /opt/conda/lib/python3.7/site-packages (from thinc<7.4.0,>=7.3.0->spacy==2.2.3->presidio-analyzer==0.3.dev0) (4.42.1)\n",
      "Building wheels for collected packages: regex\n",
      "  Building wheel for regex (setup.py) ... \u001b[?25ldone\n",
      "\u001b[?25h  Created wheel for regex: filename=regex-2019.6.8-cp37-cp37m-linux_x86_64.whl size=679492 sha256=92e6b65dc87b777db29b2a34e6f1c58a71c35231f05ce17197b23ec0a65ef7de\n",
      "  Stored in directory: /root/.cache/pip/wheels/fe/d3/3d/9d4cc9eb91c616089c9851063afef76b3b71052d1f2f17f8ad\n",
      "Successfully built regex\n",
      "Installing collected packages: regex, protobuf, knack, grpcio, cython, presidio-analyzer\n",
      "  Attempting uninstall: protobuf\n",
      "    Found existing installation: protobuf 3.14.0\n",
      "    Uninstalling protobuf-3.14.0:\n",
      "      Successfully uninstalled protobuf-3.14.0\n",
      "  Attempting uninstall: cython\n",
      "    Found existing installation: Cython 0.29.15\n",
      "    Uninstalling Cython-0.29.15:\n",
      "      Successfully uninstalled Cython-0.29.15\n",
      "Successfully installed cython-0.29.10 grpcio-1.21.1 knack-0.6.2 presidio-analyzer-0.3.dev0 protobuf-3.8.0 regex-2019.6.8\n"
     ]
    }
   ],
   "source": [
    "!pip install presidio_analyzer-0.3.dev0-py2.py3-none-any.whl"
   ]
  },
  {
   "cell_type": "markdown",
   "metadata": {},
   "source": [
    "# PII Data Detection"
   ]
  },
  {
   "cell_type": "markdown",
   "metadata": {},
   "source": [
    "## Import PySpark Libraries"
   ]
  },
  {
   "cell_type": "code",
   "execution_count": 1,
   "metadata": {
    "ExecuteTime": {
     "end_time": "2021-01-07T16:03:19.855274Z",
     "start_time": "2021-01-07T16:03:15.205259Z"
    }
   },
   "outputs": [],
   "source": [
    "import pyspark\n",
    "from pyspark.sql import SparkSession\n",
    "# Set up a spark session with leveraging all available CPUs\n",
    "spark = SparkSession \\\n",
    "        .builder \\\n",
    "        .master('local[*]')\\\n",
    "        .appName(\"NLP\") \\\n",
    "        .getOrCreate()"
   ]
  },
  {
   "cell_type": "code",
   "execution_count": 2,
   "metadata": {
    "ExecuteTime": {
     "end_time": "2021-01-07T16:03:19.868134Z",
     "start_time": "2021-01-07T16:03:19.857110Z"
    }
   },
   "outputs": [],
   "source": [
    "# Load pyspark SQL library\n",
    "from pyspark.sql.types import StructType, StructField, StringType, BooleanType, IntegerType, ArrayType, FloatType, DoubleType\n",
    "from pyspark.sql import Row\n",
    "from pyspark.sql.functions import *"
   ]
  },
  {
   "cell_type": "markdown",
   "metadata": {},
   "source": [
    "## Import Presidio Libraries"
   ]
  },
  {
   "cell_type": "code",
   "execution_count": 3,
   "metadata": {
    "ExecuteTime": {
     "end_time": "2021-01-07T16:03:24.995054Z",
     "start_time": "2021-01-07T16:03:23.761178Z"
    },
    "pycharm": {
     "name": "#%%\n"
    }
   },
   "outputs": [],
   "source": [
    "# import presidio python libraries\n",
    "from presidio_analyzer import AnalyzerEngine\n",
    "from presidio_analyzer.nlp_engine import SpacyNlpEngine\n",
    "from presidio_analyzer.recognizer_registry import RecognizerRegistry"
   ]
  },
  {
   "cell_type": "markdown",
   "metadata": {},
   "source": [
    "## Presidio Analyzer Engine"
   ]
  },
  {
   "cell_type": "markdown",
   "metadata": {},
   "source": [
    "### Initialize an Engine with Two Language Pre-trained Models"
   ]
  },
  {
   "cell_type": "code",
   "execution_count": 4,
   "metadata": {
    "ExecuteTime": {
     "end_time": "2021-01-07T16:03:48.116313Z",
     "start_time": "2021-01-07T16:03:27.433014Z"
    }
   },
   "outputs": [
    {
     "name": "stdout",
     "output_type": "stream",
     "text": [
      "\u001b[1m\n",
      "===================== Info about model 'en_core_web_lg' =====================\u001b[0m\n",
      "\n",
      "lang             en                            \n",
      "name             core_web_lg                   \n",
      "license          MIT                           \n",
      "author           Explosion                     \n",
      "url              https://explosion.ai          \n",
      "email            contact@explosion.ai          \n",
      "description      English multi-task CNN trained on OntoNotes, with GloVe vectors trained on Common Crawl. Assigns word vectors, context-specific token vectors, POS tags, dependency parse and named entities.\n",
      "sources          [{'name': 'OntoNotes 5', 'url': 'https://catalog.ldc.upenn.edu/LDC2013T19', 'license': 'commercial (licensed by Explosion)'}, {'name': 'Common Crawl'}]\n",
      "pipeline         ['tagger', 'parser', 'ner']   \n",
      "version          2.2.5                         \n",
      "spacy_version    >=2.2.2                       \n",
      "parent_package   spacy                         \n",
      "labels           {'tagger': ['$', \"''\", ',', '-LRB-', '-RRB-', '.', ':', 'ADD', 'AFX', 'CC', 'CD', 'DT', 'EX', 'FW', 'HYPH', 'IN', 'JJ', 'JJR', 'JJS', 'LS', 'MD', 'NFP', 'NN', 'NNP', 'NNPS', 'NNS', 'PDT', 'POS', 'PRP', 'PRP$', 'RB', 'RBR', 'RBS', 'RP', 'SYM', 'TO', 'UH', 'VB', 'VBD', 'VBG', 'VBN', 'VBP', 'VBZ', 'WDT', 'WP', 'WP$', 'WRB', 'XX', '_SP', '``'], 'parser': ['ROOT', 'acl', 'acomp', 'advcl', 'advmod', 'agent', 'amod', 'appos', 'attr', 'aux', 'auxpass', 'case', 'cc', 'ccomp', 'compound', 'conj', 'csubj', 'csubjpass', 'dative', 'dep', 'det', 'dobj', 'expl', 'intj', 'mark', 'meta', 'neg', 'nmod', 'npadvmod', 'nsubj', 'nsubjpass', 'nummod', 'oprd', 'parataxis', 'pcomp', 'pobj', 'poss', 'preconj', 'predet', 'prep', 'prt', 'punct', 'quantmod', 'relcl', 'xcomp'], 'ner': ['CARDINAL', 'DATE', 'EVENT', 'FAC', 'GPE', 'LANGUAGE', 'LAW', 'LOC', 'MONEY', 'NORP', 'ORDINAL', 'ORG', 'PERCENT', 'PERSON', 'PRODUCT', 'QUANTITY', 'TIME', 'WORK_OF_ART']}\n",
      "vectors          {'width': 300, 'vectors': 684831, 'keys': 684830, 'name': 'en_core_web_lg.vectors'}\n",
      "source           /Library/Frameworks/Python.framework/Versions/3.7/lib/python3.7/site-packages/en_core_web_lg\n",
      "\n",
      "\u001b[1m\n",
      "===================== Info about model 'es_core_news_md' =====================\u001b[0m\n",
      "\n",
      "lang             es                            \n",
      "name             core_news_md                  \n",
      "license          GPL                           \n",
      "author           Explosion                     \n",
      "url              https://explosion.ai          \n",
      "email            contact@explosion.ai          \n",
      "description      Spanish multi-task CNN trained on the AnCora and WikiNER corpus. Assigns context-specific token vectors, POS tags, dependency parse and named entities. Supports identification of PER, LOC, ORG and MISC entities.\n",
      "notes            Because the model is trained on Wikipedia, it may perform inconsistently on many genres, such as social media text. The NER accuracy refers to the \"silver standard\" annotations in the WikiNER corpus. Accuracy on these annotations tends to be higher than correct human annotations.\n",
      "sources          [{'name': 'Spanish UD AnCora Corpus', 'url': 'https://github.com/UniversalDependencies/UD_Spanish-AnCora', 'license': 'GPL'}, {'name': 'WikiNER', 'url': 'https://figshare.com/articles/Learning_multilingual_named_entity_recognition_from_Wikipedia/5462500', 'license': 'CC BY 4.0'}]\n",
      "pipeline         ['tagger', 'parser', 'ner']   \n",
      "version          2.2.5                         \n",
      "spacy_version    >=2.2.2                       \n",
      "parent_package   spacy                         \n",
      "labels           {'tagger': ['ADJ__AdpType=Prep', 'ADJ__AdpType=Preppron|Gender=Masc|Number=Sing', 'ADJ__AdvType=Tim', 'ADJ__Gender=Fem|Number=Plur', 'ADJ__Gender=Fem|Number=Plur|NumType=Ord', 'ADJ__Gender=Fem|Number=Plur|VerbForm=Part', 'ADJ__Gender=Fem|Number=Sing', 'ADJ__Gender=Fem|Number=Sing|NumType=Ord', 'ADJ__Gender=Fem|Number=Sing|VerbForm=Part', 'ADJ__Gender=Masc', 'ADJ__Gender=Masc|Number=Plur', 'ADJ__Gender=Masc|Number=Plur|NumType=Ord', 'ADJ__Gender=Masc|Number=Plur|VerbForm=Part', 'ADJ__Gender=Masc|Number=Sing', 'ADJ__Gender=Masc|Number=Sing|NumType=Ord', 'ADJ__Gender=Masc|Number=Sing|VerbForm=Part', 'ADJ__Number=Plur', 'ADJ__Number=Sing', 'ADJ___', 'ADP__AdpType=Prep', 'ADP__AdpType=Preppron|Gender=Fem|Number=Sing', 'ADP__AdpType=Preppron|Gender=Masc|Number=Plur', 'ADP__AdpType=Preppron|Gender=Masc|Number=Sing', 'ADV__AdpType=Prep', 'ADV__AdpType=Preppron|Gender=Masc|Number=Sing', 'ADV__AdvType=Tim', 'ADV__Gender=Masc|Number=Sing', 'ADV__Mood=Ind|Number=Sing|Person=3|Tense=Imp|VerbForm=Fin', 'ADV__Number=Plur', 'ADV__Polarity=Neg', 'ADV___', 'AUX__Gender=Fem|Number=Plur|Tense=Past|VerbForm=Part', 'AUX__Gender=Fem|Number=Sing|Tense=Past|VerbForm=Part', 'AUX__Gender=Masc|Number=Plur|Tense=Past|VerbForm=Part', 'AUX__Gender=Masc|Number=Sing|Tense=Past|VerbForm=Part', 'AUX__Mood=Cnd|Number=Plur|Person=1|VerbForm=Fin', 'AUX__Mood=Cnd|Number=Plur|Person=3|VerbForm=Fin', 'AUX__Mood=Cnd|Number=Sing|Person=1|VerbForm=Fin', 'AUX__Mood=Cnd|Number=Sing|Person=2|VerbForm=Fin', 'AUX__Mood=Cnd|Number=Sing|Person=3|VerbForm=Fin', 'AUX__Mood=Imp|Number=Plur|Person=3|VerbForm=Fin', 'AUX__Mood=Imp|Number=Sing|Person=2|VerbForm=Fin', 'AUX__Mood=Imp|Number=Sing|Person=3|VerbForm=Fin', 'AUX__Mood=Ind|Number=Plur|Person=1|Tense=Fut|VerbForm=Fin', 'AUX__Mood=Ind|Number=Plur|Person=1|Tense=Imp|VerbForm=Fin', 'AUX__Mood=Ind|Number=Plur|Person=1|Tense=Past|VerbForm=Fin', 'AUX__Mood=Ind|Number=Plur|Person=1|Tense=Pres|VerbForm=Fin', 'AUX__Mood=Ind|Number=Plur|Person=2|Tense=Pres|VerbForm=Fin', 'AUX__Mood=Ind|Number=Plur|Person=3|Tense=Fut|VerbForm=Fin', 'AUX__Mood=Ind|Number=Plur|Person=3|Tense=Imp|VerbForm=Fin', 'AUX__Mood=Ind|Number=Plur|Person=3|Tense=Past|VerbForm=Fin', 'AUX__Mood=Ind|Number=Plur|Person=3|Tense=Pres|VerbForm=Fin', 'AUX__Mood=Ind|Number=Sing|Person=1|Tense=Fut|VerbForm=Fin', 'AUX__Mood=Ind|Number=Sing|Person=1|Tense=Imp|VerbForm=Fin', 'AUX__Mood=Ind|Number=Sing|Person=1|Tense=Past|VerbForm=Fin', 'AUX__Mood=Ind|Number=Sing|Person=1|Tense=Pres|VerbForm=Fin', 'AUX__Mood=Ind|Number=Sing|Person=2|Tense=Fut|VerbForm=Fin', 'AUX__Mood=Ind|Number=Sing|Person=2|Tense=Imp|VerbForm=Fin', 'AUX__Mood=Ind|Number=Sing|Person=2|Tense=Pres|VerbForm=Fin', 'AUX__Mood=Ind|Number=Sing|Person=3|Tense=Fut|VerbForm=Fin', 'AUX__Mood=Ind|Number=Sing|Person=3|Tense=Imp|VerbForm=Fin', 'AUX__Mood=Ind|Number=Sing|Person=3|Tense=Past|VerbForm=Fin', 'AUX__Mood=Ind|Number=Sing|Person=3|Tense=Pres|VerbForm=Fin', 'AUX__Mood=Sub|Number=Plur|Person=1|Tense=Imp|VerbForm=Fin', 'AUX__Mood=Sub|Number=Plur|Person=1|Tense=Pres|VerbForm=Fin', 'AUX__Mood=Sub|Number=Plur|Person=3|Tense=Imp|VerbForm=Fin', 'AUX__Mood=Sub|Number=Plur|Person=3|Tense=Pres|VerbForm=Fin', 'AUX__Mood=Sub|Number=Sing|Person=1|Tense=Imp|VerbForm=Fin', 'AUX__Mood=Sub|Number=Sing|Person=1|Tense=Pres|VerbForm=Fin', 'AUX__Mood=Sub|Number=Sing|Person=2|Tense=Pres|VerbForm=Fin', 'AUX__Mood=Sub|Number=Sing|Person=3|Tense=Imp|VerbForm=Fin', 'AUX__Mood=Sub|Number=Sing|Person=3|Tense=Pres|VerbForm=Fin', 'AUX__VerbForm=Ger', 'AUX__VerbForm=Inf', 'CCONJ___', 'DET__Definite=Def|Gender=Fem|Number=Plur|PronType=Art', 'DET__Definite=Def|Gender=Fem|Number=Sing|PronType=Art', 'DET__Definite=Def|Gender=Masc|Number=Plur|PronType=Art', 'DET__Definite=Def|Gender=Masc|Number=Sing|PronType=Art', 'DET__Definite=Def|Gender=Masc|PronType=Art', 'DET__Definite=Def|Number=Sing|PronType=Art', 'DET__Definite=Ind|Gender=Fem|Number=Plur|PronType=Art', 'DET__Definite=Ind|Gender=Fem|Number=Sing|NumType=Card|PronType=Art', 'DET__Definite=Ind|Gender=Fem|Number=Sing|PronType=Art', 'DET__Definite=Ind|Gender=Masc|Number=Plur|PronType=Art', 'DET__Definite=Ind|Gender=Masc|Number=Sing|NumType=Card|PronType=Art', 'DET__Definite=Ind|Gender=Masc|Number=Sing|PronType=Art', 'DET__Gender=Fem|Number=Plur|Number[psor]=Plur|Person=1|Poss=Yes|PronType=Prs', 'DET__Gender=Fem|Number=Plur|Number[psor]=Plur|Person=2|Poss=Yes|PronType=Prs', 'DET__Gender=Fem|Number=Plur|Person=3|Poss=Yes|PronType=Prs', 'DET__Gender=Fem|Number=Plur|PronType=Art', 'DET__Gender=Fem|Number=Plur|PronType=Dem', 'DET__Gender=Fem|Number=Plur|PronType=Ind', 'DET__Gender=Fem|Number=Sing|Number[psor]=Plur|Person=1|Poss=Yes|PronType=Prs', 'DET__Gender=Fem|Number=Sing|Number[psor]=Plur|Person=2|Poss=Yes|PronType=Prs', 'DET__Gender=Fem|Number=Sing|Number[psor]=Sing|Person=1|Poss=Yes|PronType=Prs', 'DET__Gender=Fem|Number=Sing|Person=3|Poss=Yes|PronType=Prs', 'DET__Gender=Fem|Number=Sing|PronType=Art', 'DET__Gender=Fem|Number=Sing|PronType=Dem', 'DET__Gender=Fem|Number=Sing|PronType=Ind', 'DET__Gender=Fem|Number=Sing|PronType=Int', 'DET__Gender=Masc|Number=Plur|Number[psor]=Plur|Person=1|Poss=Yes|PronType=Prs', 'DET__Gender=Masc|Number=Plur|Person=3|Poss=Yes|PronType=Prs', 'DET__Gender=Masc|Number=Plur|PronType=Art', 'DET__Gender=Masc|Number=Plur|PronType=Dem', 'DET__Gender=Masc|Number=Plur|PronType=Ind', 'DET__Gender=Masc|Number=Sing|Number[psor]=Plur|Person=1|Poss=Yes|PronType=Prs', 'DET__Gender=Masc|Number=Sing|Number[psor]=Sing|Person=1|Poss=Yes|PronType=Prs', 'DET__Gender=Masc|Number=Sing|Person=3|Poss=Yes|PronType=Prs', 'DET__Gender=Masc|Number=Sing|PronType=Art', 'DET__Gender=Masc|Number=Sing|PronType=Dem', 'DET__Gender=Masc|Number=Sing|PronType=Ind', 'DET__Gender=Masc|Number=Sing|PronType=Int', 'DET__Gender=Masc|Number=Sing|PronType=Tot', 'DET__Number=Plur|Number[psor]=Sing|Person=1|Poss=Yes|PronType=Prs', 'DET__Number=Plur|Number[psor]=Sing|Person=2|Poss=Yes|PronType=Prs', 'DET__Number=Plur|Person=3|Poss=Yes|PronType=Prs', 'DET__Number=Plur|PronType=Dem', 'DET__Number=Plur|PronType=Ind', 'DET__Number=Sing|Number[psor]=Sing|Person=1|Poss=Yes|PronType=Prs', 'DET__Number=Sing|Number[psor]=Sing|Person=2|Poss=Yes|PronType=Prs', 'DET__Number=Sing|Person=3|Poss=Yes|PronType=Prs', 'DET__Number=Sing|PronType=Dem', 'DET__Number=Sing|PronType=Ind', 'DET__PronType=Int', 'DET__PronType=Rel', 'INTJ___', 'NOUN__AdvType=Tim', 'NOUN__AdvType=Tim|Gender=Masc|Number=Sing', 'NOUN__Gender=Fem', 'NOUN__Gender=Fem|Number=Plur', 'NOUN__Gender=Fem|Number=Sing', 'NOUN__Gender=Masc', 'NOUN__Gender=Masc|Number=Plur', 'NOUN__Gender=Masc|Number=Sing', 'NOUN__Gender=Masc|Number=Sing|VerbForm=Part', 'NOUN__NumForm=Digit', 'NOUN__Number=Plur', 'NOUN__Number=Sing', 'NOUN___', 'NUM__Gender=Fem|Number=Plur|NumType=Card', 'NUM__Gender=Fem|Number=Sing|NumType=Card', 'NUM__Gender=Masc|Number=Plur|NumType=Card', 'NUM__Gender=Masc|Number=Sing|NumType=Card', 'NUM__NumForm=Digit', 'NUM__NumForm=Digit|NumType=Card', 'NUM__NumForm=Digit|NumType=Frac', 'NUM__NumType=Card', 'NUM__Number=Plur|NumType=Card', 'NUM__Number=Sing|NumType=Card', 'PART___', 'PRON__Case=Acc|Gender=Fem|Number=Plur|Person=3|PronType=Prs', 'PRON__Case=Acc|Gender=Fem|Number=Sing|Person=3|PronType=Prs', 'PRON__Case=Acc|Gender=Masc|Number=Plur|Person=3|PronType=Prs', 'PRON__Case=Acc|Gender=Masc|Number=Sing|Person=3|PronType=Prs', 'PRON__Case=Acc|Number=Plur|Person=3|PronType=Prs', 'PRON__Case=Acc|Number=Sing|Person=3|PronType=Prs', 'PRON__Case=Acc|Person=3|PronType=Prs', 'PRON__Case=Dat|Number=Plur|Person=3|PronType=Prs', 'PRON__Case=Dat|Number=Sing|Person=3|PronType=Prs', 'PRON__Case=Nom|Number=Sing|Person=1|PronType=Prs', 'PRON__Case=Nom|Number=Sing|Person=2|PronType=Prs', 'PRON__Gender=Fem|Number=Plur|Number[psor]=Plur|Person=1|Poss=Yes|PronType=Prs', 'PRON__Gender=Fem|Number=Plur|Person=3|Poss=Yes|PronType=Prs', 'PRON__Gender=Fem|Number=Plur|Person=3|PronType=Prs', 'PRON__Gender=Fem|Number=Plur|PronType=Dem', 'PRON__Gender=Fem|Number=Plur|PronType=Ind', 'PRON__Gender=Fem|Number=Plur|PronType=Int', 'PRON__Gender=Fem|Number=Plur|PronType=Rel', 'PRON__Gender=Fem|Number=Sing|Number[psor]=Plur|Person=1|Poss=Yes|PronType=Prs', 'PRON__Gender=Fem|Number=Sing|Number[psor]=Sing|Person=1|Poss=Yes|PronType=Prs', 'PRON__Gender=Fem|Number=Sing|Number[psor]=Sing|Person=2|Poss=Yes|PronType=Prs', 'PRON__Gender=Fem|Number=Sing|Person=1|PronType=Prs', 'PRON__Gender=Fem|Number=Sing|Person=3|Poss=Yes|PronType=Prs', 'PRON__Gender=Fem|Number=Sing|Person=3|PronType=Prs', 'PRON__Gender=Fem|Number=Sing|PronType=Dem', 'PRON__Gender=Fem|Number=Sing|PronType=Ind', 'PRON__Gender=Fem|Number=Sing|PronType=Rel', 'PRON__Gender=Masc|Number=Plur|Person=1|PronType=Prs', 'PRON__Gender=Masc|Number=Plur|Person=2|Poss=Yes|PronType=Prs', 'PRON__Gender=Masc|Number=Plur|Person=3|PronType=Prs', 'PRON__Gender=Masc|Number=Plur|PronType=Dem', 'PRON__Gender=Masc|Number=Plur|PronType=Ind', 'PRON__Gender=Masc|Number=Plur|PronType=Int', 'PRON__Gender=Masc|Number=Plur|PronType=Rel', 'PRON__Gender=Masc|Number=Sing|Number[psor]=Plur|Person=1|Poss=Yes|PronType=Prs', 'PRON__Gender=Masc|Number=Sing|Number[psor]=Sing|Person=1|Poss=Yes|PronType=Prs', 'PRON__Gender=Masc|Number=Sing|Number[psor]=Sing|Person=2|Poss=Yes|PronType=Prs', 'PRON__Gender=Masc|Number=Sing|Person=3|Poss=Yes|PronType=Prs', 'PRON__Gender=Masc|Number=Sing|Person=3|PronType=Prs', 'PRON__Gender=Masc|Number=Sing|PronType=Dem', 'PRON__Gender=Masc|Number=Sing|PronType=Ind', 'PRON__Gender=Masc|Number=Sing|PronType=Int', 'PRON__Gender=Masc|Number=Sing|PronType=Rel', 'PRON__Gender=Masc|Number=Sing|PronType=Tot', 'PRON__Number=Plur|Person=1', 'PRON__Number=Plur|Person=1|PronType=Prs', 'PRON__Number=Plur|Person=2|Polite=Form|PronType=Prs', 'PRON__Number=Plur|Person=2|PronType=Prs', 'PRON__Number=Plur|Person=3|Poss=Yes|PronType=Prs', 'PRON__Number=Plur|Person=3|PronType=Prs', 'PRON__Number=Plur|PronType=Dem', 'PRON__Number=Plur|PronType=Ind', 'PRON__Number=Plur|PronType=Int', 'PRON__Number=Plur|PronType=Rel', 'PRON__Number=Sing|Person=1', 'PRON__Number=Sing|Person=1|PrepCase=Pre|PronType=Prs', 'PRON__Number=Sing|Person=1|PronType=Prs', 'PRON__Number=Sing|Person=2', 'PRON__Number=Sing|Person=2|Polite=Form|PronType=Prs', 'PRON__Number=Sing|Person=2|PrepCase=Pre|PronType=Prs', 'PRON__Number=Sing|Person=2|PronType=Prs', 'PRON__Number=Sing|Person=3|Poss=Yes|PronType=Prs', 'PRON__Number=Sing|Person=3|PronType=Prs', 'PRON__Number=Sing|PronType=Dem', 'PRON__Number=Sing|PronType=Ind', 'PRON__Number=Sing|PronType=Int', 'PRON__Number=Sing|PronType=Rel', 'PRON__Person=1|PronType=Prs', 'PRON__Person=3', 'PRON__Person=3|PrepCase=Pre|PronType=Prs', 'PRON__Person=3|PronType=Prs', 'PRON__PronType=Ind', 'PRON__PronType=Int', 'PRON__PronType=Rel', 'PRON___', 'PROPN___', 'PUNCT__PunctSide=Fin|PunctType=Brck', 'PUNCT__PunctSide=Fin|PunctType=Excl', 'PUNCT__PunctSide=Fin|PunctType=Qest', 'PUNCT__PunctSide=Ini|PunctType=Brck', 'PUNCT__PunctSide=Ini|PunctType=Excl', 'PUNCT__PunctSide=Ini|PunctType=Qest', 'PUNCT__PunctType=Colo', 'PUNCT__PunctType=Comm', 'PUNCT__PunctType=Dash', 'PUNCT__PunctType=Peri', 'PUNCT__PunctType=Quot', 'PUNCT__PunctType=Semi', 'PUNCT___', 'SCONJ___', 'SYM__NumForm=Digit', 'SYM__NumForm=Digit|NumType=Frac', 'SYM___', 'VERB__Gender=Fem|Number=Plur|Tense=Past|VerbForm=Part', 'VERB__Gender=Fem|Number=Sing|Tense=Past|VerbForm=Part', 'VERB__Gender=Masc|Mood=Ind|Number=Sing|Person=3|Tense=Pres|VerbForm=Fin', 'VERB__Gender=Masc|Number=Plur|Tense=Past|VerbForm=Part', 'VERB__Gender=Masc|Number=Sing|Tense=Past|VerbForm=Part', 'VERB__Mood=Cnd|Number=Plur|Person=1|VerbForm=Fin', 'VERB__Mood=Cnd|Number=Plur|Person=3|VerbForm=Fin', 'VERB__Mood=Cnd|Number=Sing|Person=1|VerbForm=Fin', 'VERB__Mood=Cnd|Number=Sing|Person=2|VerbForm=Fin', 'VERB__Mood=Cnd|Number=Sing|Person=3|VerbForm=Fin', 'VERB__Mood=Imp|Number=Plur|Person=1|VerbForm=Fin', 'VERB__Mood=Imp|Number=Plur|Person=2|VerbForm=Fin', 'VERB__Mood=Imp|Number=Plur|Person=3|VerbForm=Fin', 'VERB__Mood=Imp|Number=Sing|Person=2|VerbForm=Fin', 'VERB__Mood=Imp|Number=Sing|Person=3|VerbForm=Fin', 'VERB__Mood=Ind|Number=Plur|Person=1|Tense=Fut|VerbForm=Fin', 'VERB__Mood=Ind|Number=Plur|Person=1|Tense=Imp|VerbForm=Fin', 'VERB__Mood=Ind|Number=Plur|Person=1|Tense=Past|VerbForm=Fin', 'VERB__Mood=Ind|Number=Plur|Person=1|Tense=Pres|VerbForm=Fin', 'VERB__Mood=Ind|Number=Plur|Person=2|Tense=Pres|VerbForm=Fin', 'VERB__Mood=Ind|Number=Plur|Person=3|Tense=Fut|VerbForm=Fin', 'VERB__Mood=Ind|Number=Plur|Person=3|Tense=Imp|VerbForm=Fin', 'VERB__Mood=Ind|Number=Plur|Person=3|Tense=Past|VerbForm=Fin', 'VERB__Mood=Ind|Number=Plur|Person=3|Tense=Pres|VerbForm=Fin', 'VERB__Mood=Ind|Number=Sing|Person=1|Tense=Fut|VerbForm=Fin', 'VERB__Mood=Ind|Number=Sing|Person=1|Tense=Imp|VerbForm=Fin', 'VERB__Mood=Ind|Number=Sing|Person=1|Tense=Past|VerbForm=Fin', 'VERB__Mood=Ind|Number=Sing|Person=1|Tense=Pres|VerbForm=Fin', 'VERB__Mood=Ind|Number=Sing|Person=2|Tense=Fut|VerbForm=Fin', 'VERB__Mood=Ind|Number=Sing|Person=2|Tense=Imp|VerbForm=Fin', 'VERB__Mood=Ind|Number=Sing|Person=2|Tense=Past|VerbForm=Fin', 'VERB__Mood=Ind|Number=Sing|Person=2|Tense=Pres|VerbForm=Fin', 'VERB__Mood=Ind|Number=Sing|Person=3|Tense=Fut|VerbForm=Fin', 'VERB__Mood=Ind|Number=Sing|Person=3|Tense=Imp|VerbForm=Fin', 'VERB__Mood=Ind|Number=Sing|Person=3|Tense=Past|VerbForm=Fin', 'VERB__Mood=Ind|Number=Sing|Person=3|Tense=Pres|VerbForm=Fin', 'VERB__Mood=Ind|Person=3|Tense=Pres|VerbForm=Fin', 'VERB__Mood=Sub|Number=Plur|Person=1|Tense=Imp|VerbForm=Fin', 'VERB__Mood=Sub|Number=Plur|Person=1|Tense=Pres|VerbForm=Fin', 'VERB__Mood=Sub|Number=Plur|Person=2|Tense=Pres|VerbForm=Fin', 'VERB__Mood=Sub|Number=Plur|Person=3|Tense=Imp|VerbForm=Fin', 'VERB__Mood=Sub|Number=Plur|Person=3|Tense=Pres|VerbForm=Fin', 'VERB__Mood=Sub|Number=Sing|Person=1|Tense=Imp|VerbForm=Fin', 'VERB__Mood=Sub|Number=Sing|Person=1|Tense=Pres|VerbForm=Fin', 'VERB__Mood=Sub|Number=Sing|Person=2|Tense=Pres|VerbForm=Fin', 'VERB__Mood=Sub|Number=Sing|Person=3|Tense=Imp|VerbForm=Fin', 'VERB__Mood=Sub|Number=Sing|Person=3|Tense=Pres|VerbForm=Fin', 'VERB__VerbForm=Ger', 'VERB__VerbForm=Inf', 'X___', '_SP', '___Number=Sing|Person=2|PronType=Prs', '___PunctType=Quot', '___VerbForm=Inf'], 'parser': ['ROOT', 'acl', 'advcl', 'advmod', 'amod', 'appos', 'aux', 'case', 'cc', 'ccomp', 'compound', 'conj', 'cop', 'csubj', 'dep', 'det', 'expl:pass', 'fixed', 'flat', 'iobj', 'mark', 'nmod', 'nsubj', 'nummod', 'obj', 'obl', 'parataxis', 'punct', 'xcomp'], 'ner': ['LOC', 'MISC', 'ORG', 'PER']}\n",
      "vectors          {'width': 50, 'vectors': 20000, 'keys': 533736, 'name': 'es_core_news_md.vectors'}\n",
      "source           /Library/Frameworks/Python.framework/Versions/3.7/lib/python3.7/site-packages/es_core_news_md\n",
      "\n",
      "[2021-01-07 11:03:48,104][presidio][INFO]Loaded recognizer: UsBankRecognizer\n"
     ]
    },
    {
     "name": "stdout",
     "output_type": "stream",
     "text": [
      "[2021-01-07 11:03:48,105][presidio][INFO]Loaded recognizer: UsLicenseRecognizer\n",
      "[2021-01-07 11:03:48,105][presidio][INFO]Loaded recognizer: UsItinRecognizer\n",
      "[2021-01-07 11:03:48,106][presidio][INFO]Loaded recognizer: UsPassportRecognizer\n",
      "[2021-01-07 11:03:48,106][presidio][INFO]Loaded recognizer: UsPhoneRecognizer\n",
      "[2021-01-07 11:03:48,107][presidio][INFO]Loaded recognizer: UsSsnRecognizer\n",
      "[2021-01-07 11:03:48,107][presidio][INFO]Loaded recognizer: NhsRecognizer\n",
      "[2021-01-07 11:03:48,108][presidio][INFO]Loaded recognizer: SgFinRecognizer\n",
      "[2021-01-07 11:03:48,108][presidio][INFO]Loaded recognizer: CreditCardRecognizer\n",
      "[2021-01-07 11:03:48,108][presidio][INFO]Loaded recognizer: CryptoRecognizer\n",
      "[2021-01-07 11:03:48,109][presidio][INFO]Loaded recognizer: DomainRecognizer\n",
      "[2021-01-07 11:03:48,109][presidio][INFO]Loaded recognizer: EmailRecognizer\n",
      "[2021-01-07 11:03:48,110][presidio][INFO]Loaded recognizer: IbanRecognizer\n",
      "[2021-01-07 11:03:48,110][presidio][INFO]Loaded recognizer: IpRecognizer\n",
      "[2021-01-07 11:03:48,111][presidio][INFO]Loaded recognizer: SpacyRecognizer\n",
      "[2021-01-07 11:03:48,111][presidio][INFO]Loaded recognizer: EsNifRecognizer\n",
      "[2021-01-07 11:03:48,112][presidio][INFO]Loaded recognizer: CreditCardRecognizer\n",
      "[2021-01-07 11:03:48,112][presidio][INFO]Loaded recognizer: CryptoRecognizer\n",
      "[2021-01-07 11:03:48,112][presidio][INFO]Loaded recognizer: DomainRecognizer\n",
      "[2021-01-07 11:03:48,113][presidio][INFO]Loaded recognizer: EmailRecognizer\n",
      "[2021-01-07 11:03:48,113][presidio][INFO]Loaded recognizer: IbanRecognizer\n",
      "[2021-01-07 11:03:48,114][presidio][INFO]Loaded recognizer: IpRecognizer\n",
      "[2021-01-07 11:03:48,114][presidio][INFO]Loaded recognizer: SpacyRecognizer\n"
     ]
    }
   ],
   "source": [
    "# initialize presidio analyzer engine\n",
    "registry = RecognizerRegistry()\n",
    "nlp = SpacyNlpEngine({\"en\": \"en_core_web_lg\", \"es\": \"es_core_news_md\"})\n",
    "registry.load_predefined_recognizers([\"en\", \"es\"], \"spacy\")\n",
    "analyzer = AnalyzerEngine(registry=registry, nlp_engine=nlp, default_language=\"es\")"
   ]
  },
  {
   "cell_type": "markdown",
   "metadata": {},
   "source": [
    "### Test the Engine"
   ]
  },
  {
   "cell_type": "code",
   "execution_count": 37,
   "metadata": {
    "ExecuteTime": {
     "end_time": "2021-01-07T16:30:39.781186Z",
     "start_time": "2021-01-07T16:30:39.777608Z"
    }
   },
   "outputs": [],
   "source": [
    "# define masking function for identified PII information\n",
    "def mask_pii(text, response):\n",
    "    mask_text = text\n",
    "    for res in response:\n",
    "        if res.score >= 0.01:\n",
    "            mask_string = \"*\".ljust(res.end-res.start, '*')\n",
    "            mask_text = mask_text[:res.start] + mask_string + mask_text[res.end:]\n",
    "    return mask_text"
   ]
  },
  {
   "cell_type": "code",
   "execution_count": 38,
   "metadata": {
    "ExecuteTime": {
     "end_time": "2021-01-07T16:30:43.678531Z",
     "start_time": "2021-01-07T16:30:43.296900Z"
    },
    "pycharm": {
     "name": "#%%\n"
    }
   },
   "outputs": [
    {
     "name": "stdout",
     "output_type": "stream",
     "text": [
      "[2021-01-07 11:30:43,657][presidio][ERROR]Failed to get recognizers hash\n"
     ]
    },
    {
     "name": "stderr",
     "output_type": "stream",
     "text": [
      "ERROR:presidio:Failed to get recognizers hash\n"
     ]
    },
    {
     "name": "stdout",
     "output_type": "stream",
     "text": [
      "[type: EMAIL_ADDRESS, start: 167, end: 195, score: 1.0, type: DOMAIN_NAME, start: 185, end: 195, score: 1.0, type: DOMAIN_NAME, start: 746, end: 758, score: 1.0, type: DATE_TIME, start: 5, end: 12, score: 0.85, type: PERSON, start: 36, end: 55, score: 0.85, type: PERSON, start: 216, end: 227, score: 0.85, type: LOCATION, start: 229, end: 240, score: 0.85, type: PHONE_NUMBER, start: 265, end: 277, score: 0.85, type: US_SSN, start: 308, end: 319, score: 0.85, type: DATE_TIME, start: 347, end: 359, score: 0.85, type: DATE_TIME, start: 415, end: 431, score: 0.85, type: US_BANK_NUMBER, start: 347, end: 359, score: 0.4, type: US_BANK_NUMBER, start: 379, end: 388, score: 0.4, type: US_SSN, start: 379, end: 388, score: 0.3, type: US_PASSPORT, start: 379, end: 388, score: 0.05, type: US_BANK_NUMBER, start: 415, end: 431, score: 0.05, type: US_DRIVER_LICENSE, start: 347, end: 359, score: 0.01, type: US_DRIVER_LICENSE, start: 379, end: 388, score: 0.01, type: US_DRIVER_LICENSE, start: 415, end: 431, score: 0.01, type: US_DRIVER_LICENSE, start: 492, end: 498, score: 0.01]\n"
     ]
    }
   ],
   "source": [
    "# detecting PII information via presidio anlayzer on a given English text block\n",
    "original_text = \"Good morning, everybody. My name is Van Bokhorst Serdar, and today I feel like sharing a whole lot of personal information with you. Let's start with my Email address SerdarvanBokhorst@dayrep.com. My address is 2657 Koontz Lane, Los Angeles, CA. My phone number is 818-828-6231. My Social security number is 548-95-6370. My Bank account number is 940517528812 and routing number 195991012. My credit card number is 5534816011668430, Expiration Date 6/1/2022, my C V V code is 121, and my pin 123456. Well, I think that's it. You know a whole lot about me. And I hope that Amazon comprehend is doing a good job at identifying PII entities so you can redact my personal information away from this document. Let's check. This is my website: https://www.dougf.io/\"\n",
    "\n",
    "presidio_response = analyzer.analyze(original_text,language='en',all_fields=True)\n",
    "print(presidio_response)"
   ]
  },
  {
   "cell_type": "code",
   "execution_count": 39,
   "metadata": {
    "ExecuteTime": {
     "end_time": "2021-01-07T16:30:45.116184Z",
     "start_time": "2021-01-07T16:30:45.112956Z"
    },
    "scrolled": true
   },
   "outputs": [
    {
     "name": "stdout",
     "output_type": "stream",
     "text": [
      "Good *******, everybody. My name is *******************, and today I feel like sharing a whole lot of personal information with you. Let's start with my Email address ****************************. My address is 2657 ***********, ***********, CA. My phone number is ************. My Social security number is ***********. My Bank account number is ************ and routing number *********. My credit card number is ****************, Expiration Date 6/1/2022, my C V V code is 121, and my pin ******. Well, I think that's it. You know a whole lot about me. And I hope that Amazon comprehend is doing a good job at identifying PII entities so you can redact my personal information away from this document. Let's check. This is my website: https://************/\n"
     ]
    }
   ],
   "source": [
    "print(mask_pii(original_text, presidio_response))"
   ]
  },
  {
   "cell_type": "code",
   "execution_count": 40,
   "metadata": {
    "ExecuteTime": {
     "end_time": "2021-01-07T16:30:57.723978Z",
     "start_time": "2021-01-07T16:30:57.713079Z"
    },
    "pycharm": {
     "name": "#%%\n"
    }
   },
   "outputs": [
    {
     "name": "stdout",
     "output_type": "stream",
     "text": [
      "[2021-01-07 11:30:57,714][presidio][ERROR]Failed to get recognizers hash\n"
     ]
    },
    {
     "name": "stderr",
     "output_type": "stream",
     "text": [
      "ERROR:presidio:Failed to get recognizers hash\n"
     ]
    },
    {
     "data": {
      "text/plain": [
       "[type: ES_NIF, start: 37, end: 47, score: 1.0,\n",
       " type: PERSON, start: 13, end: 28, score: 0.85,\n",
       " type: LOCATION, start: 57, end: 63, score: 0.85]"
      ]
     },
     "execution_count": 40,
     "metadata": {},
     "output_type": "execute_result"
    }
   ],
   "source": [
    "# detecting PII information via presidio anlayzer on a given Spanish text block\n",
    "original_text = \"Mi nombre es Francisco Pérez con DNI 55555555-K, vivo en Madrid y trabajo para la ONU.\"\n",
    "\n",
    "presidio_response = analyzer.analyze(original_text,language='es',all_fields=True)\n",
    "presidio_response"
   ]
  },
  {
   "cell_type": "code",
   "execution_count": 41,
   "metadata": {
    "ExecuteTime": {
     "end_time": "2021-01-07T16:30:58.492668Z",
     "start_time": "2021-01-07T16:30:58.489403Z"
    }
   },
   "outputs": [
    {
     "name": "stdout",
     "output_type": "stream",
     "text": [
      "Mi nombre es *************** con DNI **********, vivo en ****** y trabajo para la ONU.\n"
     ]
    }
   ],
   "source": [
    "print(mask_pii(original_text, presidio_response))"
   ]
  },
  {
   "cell_type": "markdown",
   "metadata": {},
   "source": [
    "## Load the Data into Spark DataFrame"
   ]
  },
  {
   "cell_type": "code",
   "execution_count": 52,
   "metadata": {
    "ExecuteTime": {
     "end_time": "2021-01-07T17:30:06.538696Z",
     "start_time": "2021-01-07T17:30:06.310102Z"
    }
   },
   "outputs": [
    {
     "name": "stdout",
     "output_type": "stream",
     "text": [
      "+--------------------+\n",
      "|                text|\n",
      "+--------------------+\n",
      "|Good morning, eve...|\n",
      "|Hello Zhang Wei. ...|\n",
      "+--------------------+\n",
      "\n"
     ]
    }
   ],
   "source": [
    "# read sample data into dataframe\n",
    "df = spark.read.csv('./pii-data-samples.txt', header='true', inferSchema='true')\n",
    "df.show()"
   ]
  },
  {
   "cell_type": "markdown",
   "metadata": {},
   "source": [
    "## Define UDF function for PII Detection"
   ]
  },
  {
   "cell_type": "code",
   "execution_count": 53,
   "metadata": {
    "ExecuteTime": {
     "end_time": "2021-01-07T17:30:11.245361Z",
     "start_time": "2021-01-07T17:30:11.239635Z"
    }
   },
   "outputs": [],
   "source": [
    "def pii_detect(text, languageCode = 'en'):\n",
    "    # initialize presidio analyzer engine\n",
    "    registry = RecognizerRegistry()\n",
    "    if languageCode == 'en':\n",
    "        engine = {\"en\": \"en_core_web_lg\"}\n",
    "        # load pre-trained model as engine\n",
    "        registry.load_predefined_recognizers([\"en\"], \"spacy\")\n",
    "    else:\n",
    "        engine = {\"es\": \"es_core_news_md\"}\n",
    "        # load pre-trained model as engine\n",
    "        registry.load_predefined_recognizers([\"es\"], \"spacy\")\n",
    "    nlp = SpacyNlpEngine(engine)\n",
    "    analyzer = AnalyzerEngine(registry=registry, nlp_engine=nlp, default_language=languageCode)\n",
    "    # apply presidio analyer on the input text to detect PII\n",
    "    response = analyzer.analyze(str(text), language=languageCode, all_fields=True)\n",
    "    # return the masked text\n",
    "    return mask_pii(text, response)\n",
    "        \n",
    "pii_detect_udf = udf(lambda x: pii_detect(x) if x is not None else None, StringType())"
   ]
  },
  {
   "cell_type": "markdown",
   "metadata": {},
   "source": [
    "## Apply UDF to the Spark DataFrame"
   ]
  },
  {
   "cell_type": "code",
   "execution_count": 54,
   "metadata": {
    "ExecuteTime": {
     "end_time": "2021-01-07T17:30:14.373205Z",
     "start_time": "2021-01-07T17:30:14.351297Z"
    }
   },
   "outputs": [],
   "source": [
    "# Apply udf function to the dataframe to generate a new column\n",
    "df = df.withColumn(\"text_NoPII\", pii_detect_udf(col('text')))"
   ]
  },
  {
   "cell_type": "code",
   "execution_count": 56,
   "metadata": {
    "ExecuteTime": {
     "end_time": "2021-01-07T17:30:58.760524Z",
     "start_time": "2021-01-07T17:30:41.847554Z"
    }
   },
   "outputs": [
    {
     "name": "stdout",
     "output_type": "stream",
     "text": [
      "+--------------------+--------------------+\n",
      "|                text|          text_NoPII|\n",
      "+--------------------+--------------------+\n",
      "|Good morning, eve...|Good *******, eve...|\n",
      "|Hello Zhang Wei. ...|Hello *********. ...|\n",
      "+--------------------+--------------------+\n",
      "\n"
     ]
    }
   ],
   "source": [
    "df.show()"
   ]
  },
  {
   "cell_type": "code",
   "execution_count": null,
   "metadata": {},
   "outputs": [],
   "source": []
  },
  {
   "cell_type": "markdown",
   "metadata": {},
   "source": [
    "# Appendix - spaCy NER usage"
   ]
  },
  {
   "cell_type": "code",
   "execution_count": 1,
   "metadata": {
    "ExecuteTime": {
     "end_time": "2021-01-05T19:36:07.026107Z",
     "start_time": "2021-01-05T19:35:58.414382Z"
    }
   },
   "outputs": [
    {
     "name": "stdout",
     "output_type": "stream",
     "text": [
      "token:  Hi   type:  INTJ\n",
      "token:  my   type:  DET\n",
      "token:  name   type:  NOUN\n",
      "token:  is   type:  AUX\n",
      "token:  Doug   type:  PROPN\n",
      "token:  Funny   type:  PROPN\n",
      "token:  and   type:  CCONJ\n",
      "token:  this   type:  DET\n",
      "token:  is   type:  AUX\n",
      "token:  my   type:  DET\n",
      "token:  website   type:  NOUN\n",
      "token:  :   type:  PUNCT\n",
      "token:  https://www.dougf.io/   type:  X\n",
      "token:  ,   type:  PUNCT\n",
      "token:  and   type:  CCONJ\n",
      "token:  I   type:  PRON\n",
      "token:  live   type:  VERB\n",
      "token:  in   type:  ADP\n",
      "token:  Miami   type:  PROPN\n",
      "token:  .   type:  PUNCT\n",
      "token:  My   type:  DET\n",
      "token:  drivers   type:  NOUN\n",
      "token:  license   type:  NOUN\n",
      "token:  is   type:  AUX\n",
      "token:  AC432223   type:  NOUN\n",
      "token:  and   type:  CCONJ\n",
      "token:  phone   type:  NOUN\n",
      "token:  number   type:  NOUN\n",
      "token:  is   type:  AUX\n",
      "token:  212   type:  NUM\n",
      "token:  -   type:  SYM\n",
      "token:  555   type:  NUM\n",
      "token:  -   type:  PUNCT\n",
      "token:  5555   type:  NUM\n"
     ]
    }
   ],
   "source": [
    "# Import the spacy library\n",
    "import spacy\n",
    "\n",
    "# Load the pre-trained statistical model\n",
    "nlp = spacy.load(\"en_core_web_lg\")\n",
    "\n",
    "# Join the email lines into single text.\n",
    "doc = nlp(\"Hi my name is Doug Funny and this is my website: https://www.dougf.io/, and I live in Miami. My drivers license is AC432223 and phone number is 212-555-5555\")\n",
    "\n",
    "# List to store all the proper-nouns\n",
    "pii = list()\n",
    "\n",
    "# Loop through each word to determine it's POS and filter the\n",
    "# ones which are Proper-Nouns\n",
    "for token in doc:\n",
    "#     if token.pos_ == 'PROPN':\n",
    "#         pii.append(token.text)\n",
    "    print(\"token: \", token, \"  type: \", token.pos_)\n",
    "\n",
    "# Print all the unique proper-nouns\n",
    "# print(set(pii))"
   ]
  },
  {
   "cell_type": "code",
   "execution_count": null,
   "metadata": {},
   "outputs": [],
   "source": []
  }
 ],
 "metadata": {
  "instance_type": "ml.t3.medium",
  "kernelspec": {
   "display_name": "Python 3",
   "language": "python",
   "name": "python3"
  },
  "language_info": {
   "codemirror_mode": {
    "name": "ipython",
    "version": 3
   },
   "file_extension": ".py",
   "mimetype": "text/x-python",
   "name": "python",
   "nbconvert_exporter": "python",
   "pygments_lexer": "ipython3",
   "version": "3.7.7"
  },
  "toc": {
   "base_numbering": 1,
   "nav_menu": {},
   "number_sections": true,
   "sideBar": true,
   "skip_h1_title": false,
   "title_cell": "Table of Contents",
   "title_sidebar": "Contents",
   "toc_cell": false,
   "toc_position": {},
   "toc_section_display": true,
   "toc_window_display": true
  }
 },
 "nbformat": 4,
 "nbformat_minor": 4
}
