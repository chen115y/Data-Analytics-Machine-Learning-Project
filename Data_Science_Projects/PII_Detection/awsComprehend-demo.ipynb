{
 "cells": [
  {
   "cell_type": "code",
   "execution_count": 1,
   "metadata": {
    "ExecuteTime": {
     "end_time": "2021-01-05T21:29:09.060067Z",
     "start_time": "2021-01-05T21:29:08.751881Z"
    }
   },
   "outputs": [],
   "source": [
    "import boto3"
   ]
  },
  {
   "cell_type": "code",
   "execution_count": 2,
   "metadata": {
    "ExecuteTime": {
     "end_time": "2021-01-05T21:29:39.815153Z",
     "start_time": "2021-01-05T21:29:39.740324Z"
    }
   },
   "outputs": [],
   "source": [
    "client = boto3.client(\"comprehend\")"
   ]
  },
  {
   "cell_type": "code",
   "execution_count": 3,
   "metadata": {
    "ExecuteTime": {
     "end_time": "2021-01-05T21:30:20.469915Z",
     "start_time": "2021-01-05T21:30:20.467298Z"
    }
   },
   "outputs": [],
   "source": [
    "message = \"Good morning, everybody. My name is Van Bokhorst Serdar, and today I feel like sharing a whole lot of personal information with you. Let's start with my Email address SerdarvanBokhorst@dayrep.com. My address is 2657 Koontz Lane, Los Angeles, CA. My phone number is 818-828-6231. My Social security number is 548-95-6370. My Bank account number is 940517528812 and routing number 195991012. My credit card number is 5534816011668430, Expiration Date 6/1/2022, my C V V code is 121, and my pin 123456. Well, I think that's it. You know a whole lot about me. And I hope that Amazon comprehend is doing a good job at identifying PII entities so you can redact my personal information away from this document. Let's check.\""
   ]
  },
  {
   "cell_type": "code",
   "execution_count": 7,
   "metadata": {
    "ExecuteTime": {
     "end_time": "2021-01-05T21:32:22.413737Z",
     "start_time": "2021-01-05T21:32:22.226397Z"
    }
   },
   "outputs": [],
   "source": [
    "entities_response = client.detect_pii_entities(Text=message, LanguageCode='en') "
   ]
  },
  {
   "cell_type": "code",
   "execution_count": 8,
   "metadata": {
    "ExecuteTime": {
     "end_time": "2021-01-05T21:32:33.423984Z",
     "start_time": "2021-01-05T21:32:33.421114Z"
    },
    "scrolled": true
   },
   "outputs": [
    {
     "name": "stdout",
     "output_type": "stream",
     "text": [
      "{'Entities': [{'Score': 0.8610232472419739, 'Type': 'NAME', 'BeginOffset': 36, 'EndOffset': 55}, {'Score': 0.9999922513961792, 'Type': 'EMAIL', 'BeginOffset': 167, 'EndOffset': 195}, {'Score': 0.9999986290931702, 'Type': 'ADDRESS', 'BeginOffset': 211, 'EndOffset': 245}, {'Score': 0.9999991655349731, 'Type': 'PHONE', 'BeginOffset': 265, 'EndOffset': 277}, {'Score': 0.999997615814209, 'Type': 'SSN', 'BeginOffset': 308, 'EndOffset': 319}, {'Score': 0.999996542930603, 'Type': 'BANK_ACCOUNT_NUMBER', 'BeginOffset': 347, 'EndOffset': 359}, {'Score': 0.9999947547912598, 'Type': 'BANK_ROUTING', 'BeginOffset': 379, 'EndOffset': 388}, {'Score': 0.9999984502792358, 'Type': 'CREDIT_DEBIT_NUMBER', 'BeginOffset': 415, 'EndOffset': 431}, {'Score': 0.8956913352012634, 'Type': 'CREDIT_DEBIT_EXPIRY', 'BeginOffset': 449, 'EndOffset': 457}, {'Score': 0.9999977350234985, 'Type': 'CREDIT_DEBIT_CVV', 'BeginOffset': 476, 'EndOffset': 479}, {'Score': 0.9999754428863525, 'Type': 'PIN', 'BeginOffset': 492, 'EndOffset': 498}], 'ResponseMetadata': {'RequestId': 'f2e802f4-e26c-42d2-a9bb-851648775de4', 'HTTPStatusCode': 200, 'HTTPHeaders': {'x-amzn-requestid': 'f2e802f4-e26c-42d2-a9bb-851648775de4', 'content-type': 'application/x-amz-json-1.1', 'content-length': '925', 'date': 'Tue, 05 Jan 2021 21:32:21 GMT'}, 'RetryAttempts': 0}}\n"
     ]
    }
   ],
   "source": [
    "print(entities_response)"
   ]
  },
  {
   "cell_type": "code",
   "execution_count": 11,
   "metadata": {
    "ExecuteTime": {
     "end_time": "2021-01-05T21:49:53.128714Z",
     "start_time": "2021-01-05T21:49:53.125188Z"
    }
   },
   "outputs": [],
   "source": [
    "# define masking function for identified PII information\n",
    "def mask_pii(original_text, response):\n",
    "    mask_text = original_text\n",
    "    for res in response['Entities']:\n",
    "        if res['Score'] >= 0.6:\n",
    "            mask_string = \"#\".ljust(res['EndOffset']-res['BeginOffset'], '#')\n",
    "            mask_text = mask_text[:res['BeginOffset']] + mask_string + mask_text[res['EndOffset']:]\n",
    "    return mask_text"
   ]
  },
  {
   "cell_type": "code",
   "execution_count": 12,
   "metadata": {
    "ExecuteTime": {
     "end_time": "2021-01-05T21:49:53.879093Z",
     "start_time": "2021-01-05T21:49:53.876285Z"
    }
   },
   "outputs": [
    {
     "name": "stdout",
     "output_type": "stream",
     "text": [
      "Good morning, everybody. My name is ###################, and today I feel like sharing a whole lot of personal information with you. Let's start with my Email address ############################. My address is ################################## My phone number is ############. My Social security number is ###########. My Bank account number is ############ and routing number #########. My credit card number is ################, Expiration Date ########, my C V V code is ###, and my pin ######. Well, I think that's it. You know a whole lot about me. And I hope that Amazon comprehend is doing a good job at identifying PII entities so you can redact my personal information away from this document. Let's check.\n"
     ]
    }
   ],
   "source": [
    "print(mask_pii(message, entities_response))"
   ]
  },
  {
   "cell_type": "code",
   "execution_count": 4,
   "metadata": {
    "ExecuteTime": {
     "end_time": "2021-01-05T21:30:27.484164Z",
     "start_time": "2021-01-05T21:30:27.267837Z"
    }
   },
   "outputs": [],
   "source": [
    "entities_response = client.detect_sentiment(Text=message, LanguageCode='en')"
   ]
  },
  {
   "cell_type": "code",
   "execution_count": 6,
   "metadata": {
    "ExecuteTime": {
     "end_time": "2021-01-05T21:30:53.544209Z",
     "start_time": "2021-01-05T21:30:53.541284Z"
    }
   },
   "outputs": [
    {
     "name": "stdout",
     "output_type": "stream",
     "text": [
      "{'Sentiment': 'NEUTRAL', 'SentimentScore': {'Positive': 0.1513925939798355, 'Negative': 0.002132624154910445, 'Neutral': 0.8464435935020447, 'Mixed': 3.114049104624428e-05}, 'ResponseMetadata': {'RequestId': '7cdb7d29-9622-4342-a440-47dc0d14f592', 'HTTPStatusCode': 200, 'HTTPHeaders': {'x-amzn-requestid': '7cdb7d29-9622-4342-a440-47dc0d14f592', 'content-type': 'application/x-amz-json-1.1', 'content-length': '162', 'date': 'Tue, 05 Jan 2021 21:30:26 GMT'}, 'RetryAttempts': 0}}\n"
     ]
    }
   ],
   "source": [
    "print(entities_response)"
   ]
  },
  {
   "cell_type": "code",
   "execution_count": null,
   "metadata": {},
   "outputs": [],
   "source": []
  }
 ],
 "metadata": {
  "kernelspec": {
   "display_name": "Python 3",
   "language": "python",
   "name": "python3"
  },
  "language_info": {
   "codemirror_mode": {
    "name": "ipython",
    "version": 3
   },
   "file_extension": ".py",
   "mimetype": "text/x-python",
   "name": "python",
   "nbconvert_exporter": "python",
   "pygments_lexer": "ipython3",
   "version": "3.7.7"
  },
  "toc": {
   "base_numbering": 1,
   "nav_menu": {},
   "number_sections": true,
   "sideBar": true,
   "skip_h1_title": false,
   "title_cell": "Table of Contents",
   "title_sidebar": "Contents",
   "toc_cell": false,
   "toc_position": {},
   "toc_section_display": true,
   "toc_window_display": false
  }
 },
 "nbformat": 4,
 "nbformat_minor": 4
}
