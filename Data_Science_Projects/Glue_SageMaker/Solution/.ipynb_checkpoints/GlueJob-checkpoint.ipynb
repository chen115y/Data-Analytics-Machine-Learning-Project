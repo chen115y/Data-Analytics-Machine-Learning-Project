{
 "cells": [
  {
   "cell_type": "code",
   "execution_count": 1,
   "id": "7c73cb3d",
   "metadata": {},
   "outputs": [
    {
     "name": "stdout",
     "output_type": "stream",
     "text": [
      "Starting Spark application\n"
     ]
    },
    {
     "data": {
      "text/html": [
       "<table>\n",
       "<tr><th>ID</th><th>YARN Application ID</th><th>Kind</th><th>State</th><th>Spark UI</th><th>Driver log</th><th>User</th><th>Current session?</th></tr><tr><td>3</td><td>application_1627659027081_0004</td><td>pyspark</td><td>idle</td><td><a target=\"_blank\" href=\"http://ip-172-32-83-110.ec2.internal:20888/proxy/application_1627659027081_0004/\">Link</a></td><td><a target=\"_blank\" href=\"http://ip-172-32-82-13.ec2.internal:8042/node/containerlogs/container_1627659027081_0004_01_000001/livy\">Link</a></td><td>None</td><td>✔</td></tr></table>"
      ],
      "text/plain": [
       "<IPython.core.display.HTML object>"
      ]
     },
     "metadata": {},
     "output_type": "display_data"
    },
    {
     "data": {
      "application/vnd.jupyter.widget-view+json": {
       "model_id": "",
       "version_major": 2,
       "version_minor": 0
      },
      "text/plain": [
       "FloatProgress(value=0.0, bar_style='info', description='Progress:', layout=Layout(height='25px', width='50%'),…"
      ]
     },
     "metadata": {},
     "output_type": "display_data"
    },
    {
     "name": "stdout",
     "output_type": "stream",
     "text": [
      "SparkSession available as 'spark'.\n"
     ]
    },
    {
     "data": {
      "application/vnd.jupyter.widget-view+json": {
       "model_id": "",
       "version_major": 2,
       "version_minor": 0
      },
      "text/plain": [
       "FloatProgress(value=0.0, bar_style='info', description='Progress:', layout=Layout(height='25px', width='50%'),…"
      ]
     },
     "metadata": {},
     "output_type": "display_data"
    }
   ],
   "source": [
    "import sys\n",
    "# from awsglue.transforms import *\n",
    "# from awsglue.utils import getResolvedOptions\n",
    "# from awsglue.context import GlueContext\n",
    "# from awsglue.job import Job\n",
    "# from awsglue.dynamicframe import DynamicFrame\n",
    "import boto3"
   ]
  },
  {
   "cell_type": "code",
   "execution_count": 17,
   "id": "3e3019b7",
   "metadata": {},
   "outputs": [
    {
     "data": {
      "application/vnd.jupyter.widget-view+json": {
       "model_id": "",
       "version_major": 2,
       "version_minor": 0
      },
      "text/plain": [
       "FloatProgress(value=0.0, bar_style='info', description='Progress:', layout=Layout(height='25px', width='50%'),…"
      ]
     },
     "metadata": {},
     "output_type": "display_data"
    }
   ],
   "source": [
    "from pyspark.context import SparkContext\n",
    "from pyspark.sql.functions import col, split, mean, udf, struct\n",
    "from pyspark.sql.types import *\n",
    "from pyspark.ml.feature import CountVectorizer\n",
    "from pyspark.ml.feature import StringIndexer\n",
    "from pyspark.ml.feature import VectorAssembler\n",
    "from pyspark.ml.feature import StandardScaler\n",
    "from pyspark.sql import Row, Column\n",
    "import numpy as np"
   ]
  },
  {
   "cell_type": "code",
   "execution_count": null,
   "id": "c559fe37",
   "metadata": {},
   "outputs": [],
   "source": [
    "datasource0 = glueContext.create_dynamic_frame.from_catalog(database = \"default\", table_name = \"inference\", transformation_ctx = \"datasource0\")\n",
    "df = datasource0.toDF()"
   ]
  },
  {
   "cell_type": "code",
   "execution_count": 14,
   "id": "91c546c4",
   "metadata": {},
   "outputs": [
    {
     "data": {
      "application/vnd.jupyter.widget-view+json": {
       "model_id": "",
       "version_major": 2,
       "version_minor": 0
      },
      "text/plain": [
       "FloatProgress(value=0.0, bar_style='info', description='Progress:', layout=Layout(height='25px', width='50%'),…"
      ]
     },
     "metadata": {},
     "output_type": "display_data"
    },
    {
     "name": "stdout",
     "output_type": "stream",
     "text": [
      "root\n",
      " |-- State: string (nullable = true)\n",
      " |-- Account Length: string (nullable = true)\n",
      " |-- Area Code: string (nullable = true)\n",
      " |-- Int'l Plan: string (nullable = true)\n",
      " |-- VMail Plan: string (nullable = true)\n",
      " |-- VMail Message: string (nullable = true)\n",
      " |-- Day Mins: string (nullable = true)\n",
      " |-- Day Calls: string (nullable = true)\n",
      " |-- Eve Mins: string (nullable = true)\n",
      " |-- Eve Calls: string (nullable = true)\n",
      " |-- Night Mins: string (nullable = true)\n",
      " |-- Night Calls: string (nullable = true)\n",
      " |-- Intl Mins: string (nullable = true)\n",
      " |-- Intl Calls: string (nullable = true)\n",
      " |-- CustServ Calls: string (nullable = true)"
     ]
    }
   ],
   "source": [
    "s3_path = 's3://sagemaker-us-east-1-684423739646/sagemaker/DEMO-xgboost-churn/churndata/churn.txt'\n",
    "df = spark.read.option(\"header\", True).csv(s3_path)\n",
    "df = df.drop('Phone','Day Charge', 'Eve Charge', 'Night Charge', 'Intl Charge', 'Churn?') \\\n",
    "       .select('State','Account Length','Area Code',\"Int'l Plan\",\"VMail Plan\",\"VMail Message\",\"Day Mins\",\"Day Calls\",\"Eve Mins\",\"Eve Calls\",\"Night Mins\",\"Night Calls\",\"Intl Mins\",\"Intl Calls\",\"CustServ Calls\")\n",
    "df.printSchema()"
   ]
  },
  {
   "cell_type": "code",
   "execution_count": null,
   "id": "a621ac0d",
   "metadata": {},
   "outputs": [],
   "source": [
    "# df = df.withColumn(\"Area Code_Array\", split(col(\"Area Code\"),\" \"))\n",
    "# Vectorizer = CountVectorizer(inputCol=\"Area Code_Array\", outputCol=\"Area Code_onehot\") #, vocabSize=4, minDF=1.0)\n",
    "# Vectorizer_model = Vectorizer.fit(df)\n",
    "# df_ohe = Vectorizer_model.transform(df)\n",
    "# df_ohe.show(5, truncate=False)"
   ]
  },
  {
   "cell_type": "code",
   "execution_count": 15,
   "id": "c82928ce",
   "metadata": {},
   "outputs": [
    {
     "data": {
      "application/vnd.jupyter.widget-view+json": {
       "model_id": "",
       "version_major": 2,
       "version_minor": 0
      },
      "text/plain": [
       "FloatProgress(value=0.0, bar_style='info', description='Progress:', layout=Layout(height='25px', width='50%'),…"
      ]
     },
     "metadata": {},
     "output_type": "display_data"
    },
    {
     "name": "stdout",
     "output_type": "stream",
     "text": [
      "+--------------+-------------+----------+---------+----------+---------+----------+-----------+---------+----------+--------------+--------+--------+--------+--------+--------+--------+--------+--------+--------+--------+--------+--------+--------+--------+--------+--------+--------+--------+--------+--------+--------+--------+--------+--------+--------+--------+--------+--------+--------+--------+--------+--------+--------+--------+--------+--------+--------+--------+--------+--------+--------+--------+--------+--------+--------+--------+--------+--------+--------+--------+--------+-------------+-------------+-------------+-------------+--------------+-------------+--------------+\n",
      "|Account Length|VMail Message|  Day Mins|Day Calls|  Eve Mins|Eve Calls|Night Mins|Night Calls|Intl Mins|Intl Calls|CustServ Calls|State_AK|State_AL|State_AR|State_AZ|State_CA|State_CO|State_CT|State_DC|State_DE|State_FL|State_GA|State_HI|State_IA|State_ID|State_IL|State_IN|State_KS|State_KY|State_LA|State_MA|State_MD|State_ME|State_MI|State_MN|State_MO|State_MS|State_MT|State_NC|State_ND|State_NE|State_NH|State_NJ|State_NM|State_NV|State_NY|State_OH|State_OK|State_OR|State_PA|State_RI|State_SC|State_SD|State_TN|State_TX|State_UT|State_VA|State_VT|State_WA|State_WI|State_WV|State_WY|Area Code_408|Area Code_415|Area Code_510|Int'l Plan_no|Int'l Plan_yes|VMail Plan_no|VMail Plan_yes|\n",
      "+--------------+-------------+----------+---------+----------+---------+----------+-----------+---------+----------+--------------+--------+--------+--------+--------+--------+--------+--------+--------+--------+--------+--------+--------+--------+--------+--------+--------+--------+--------+--------+--------+--------+--------+--------+--------+--------+--------+--------+--------+--------+--------+--------+--------+--------+--------+--------+--------+--------+--------+--------+--------+--------+--------+--------+--------+--------+--------+--------+--------+--------+--------+--------+-------------+-------------+-------------+-------------+--------------+-------------+--------------+\n",
      "|           128|           25|265.100000|      110|197.400000|       99|244.700000|         91|10.000000|         3|             1|       0|       0|       0|       0|       0|       0|       0|       0|       0|       0|       0|       0|       0|       0|       0|       0|       1|       0|       0|       0|       0|       0|       0|       0|       0|       0|       0|       0|       0|       0|       0|       0|       0|       0|       0|       0|       0|       0|       0|       0|       0|       0|       0|       0|       0|       0|       0|       0|       0|       0|       0|            0|            1|            0|            1|             0|            0|             1|\n",
      "|           107|           26|161.600000|      123|195.500000|      103|254.400000|        103|13.700000|         3|             1|       0|       0|       0|       0|       0|       0|       0|       0|       0|       0|       0|       0|       0|       0|       0|       0|       0|       0|       0|       0|       0|       0|       0|       0|       0|       0|       0|       0|       0|       0|       0|       0|       0|       0|       0|       1|       0|       0|       0|       0|       0|       0|       0|       0|       0|       0|       0|       0|       0|       0|       0|            0|            1|            0|            1|             0|            0|             1|\n",
      "|           137|            0|243.400000|      114|121.200000|      110|162.600000|        104|12.200000|         5|             0|       0|       0|       0|       0|       0|       0|       0|       0|       0|       0|       0|       0|       0|       0|       0|       0|       0|       0|       0|       0|       0|       0|       0|       0|       0|       0|       0|       0|       0|       0|       0|       1|       0|       0|       0|       0|       0|       0|       0|       0|       0|       0|       0|       0|       0|       0|       0|       0|       0|       0|       0|            0|            1|            0|            1|             0|            1|             0|\n",
      "|            84|            0|299.400000|       71| 61.900000|       88|196.900000|         89| 6.600000|         7|             2|       0|       0|       0|       0|       0|       0|       0|       0|       0|       0|       0|       0|       0|       0|       0|       0|       0|       0|       0|       0|       0|       0|       0|       0|       0|       0|       0|       0|       0|       0|       0|       0|       0|       0|       0|       1|       0|       0|       0|       0|       0|       0|       0|       0|       0|       0|       0|       0|       0|       0|       0|            1|            0|            0|            0|             1|            1|             0|\n",
      "|            75|            0|166.700000|      113|148.300000|      122|186.900000|        121|10.100000|         3|             3|       0|       0|       0|       0|       0|       0|       0|       0|       0|       0|       0|       0|       0|       0|       0|       0|       0|       0|       0|       0|       0|       0|       0|       0|       0|       0|       0|       0|       0|       0|       0|       0|       0|       0|       0|       0|       1|       0|       0|       0|       0|       0|       0|       0|       0|       0|       0|       0|       0|       0|       0|            0|            1|            0|            0|             1|            1|             0|\n",
      "+--------------+-------------+----------+---------+----------+---------+----------+-----------+---------+----------+--------------+--------+--------+--------+--------+--------+--------+--------+--------+--------+--------+--------+--------+--------+--------+--------+--------+--------+--------+--------+--------+--------+--------+--------+--------+--------+--------+--------+--------+--------+--------+--------+--------+--------+--------+--------+--------+--------+--------+--------+--------+--------+--------+--------+--------+--------+--------+--------+--------+--------+--------+--------+-------------+-------------+-------------+-------------+--------------+-------------+--------------+\n",
      "only showing top 5 rows"
     ]
    }
   ],
   "source": [
    "def OneHot_Encoding(column_name, tmp):\n",
    "    categories = tmp.select(column_name).distinct().rdd.flatMap(lambda x : x).collect()\n",
    "    categories.sort()\n",
    "    for category in categories:\n",
    "        function = udf(lambda item: 1 if item == category else 0, IntegerType())\n",
    "        new_column_name = column_name + '_' + category\n",
    "        tmp = tmp.withColumn(new_column_name, function(col(column_name)))\n",
    "    tmp = tmp.drop(column_name)\n",
    "    return tmp\n",
    "\n",
    "df = OneHot_Encoding(\"State\", df)\n",
    "df = OneHot_Encoding(\"Area Code\", df)\n",
    "df = OneHot_Encoding(\"Int'l Plan\", df)\n",
    "df = OneHot_Encoding(\"VMail Plan\", df)\n",
    "df.show(5)"
   ]
  },
  {
   "cell_type": "code",
   "execution_count": 18,
   "id": "e98c2b85",
   "metadata": {},
   "outputs": [
    {
     "data": {
      "application/vnd.jupyter.widget-view+json": {
       "model_id": "",
       "version_major": 2,
       "version_minor": 0
      },
      "text/plain": [
       "FloatProgress(value=0.0, bar_style='info', description='Progress:', layout=Layout(height='25px', width='50%'),…"
      ]
     },
     "metadata": {},
     "output_type": "display_data"
    },
    {
     "name": "stdout",
     "output_type": "stream",
     "text": [
      "root\n",
      " |-- Account Length: string (nullable = true)\n",
      " |-- VMail Message: string (nullable = true)\n",
      " |-- Day Mins: string (nullable = true)\n",
      " |-- Day Calls: string (nullable = true)\n",
      " |-- Eve Mins: string (nullable = true)\n",
      " |-- Eve Calls: string (nullable = true)\n",
      " |-- Night Mins: string (nullable = true)\n",
      " |-- Night Calls: string (nullable = true)\n",
      " |-- Intl Mins: string (nullable = true)\n",
      " |-- Intl Calls: string (nullable = true)\n",
      " |-- CustServ Calls: string (nullable = true)\n",
      " |-- State_AK: integer (nullable = true)\n",
      " |-- State_AL: integer (nullable = true)\n",
      " |-- State_AR: integer (nullable = true)\n",
      " |-- State_AZ: integer (nullable = true)\n",
      " |-- State_CA: integer (nullable = true)\n",
      " |-- State_CO: integer (nullable = true)\n",
      " |-- State_CT: integer (nullable = true)\n",
      " |-- State_DC: integer (nullable = true)\n",
      " |-- State_DE: integer (nullable = true)\n",
      " |-- State_FL: integer (nullable = true)\n",
      " |-- State_GA: integer (nullable = true)\n",
      " |-- State_HI: integer (nullable = true)\n",
      " |-- State_IA: integer (nullable = true)\n",
      " |-- State_ID: integer (nullable = true)\n",
      " |-- State_IL: integer (nullable = true)\n",
      " |-- State_IN: integer (nullable = true)\n",
      " |-- State_KS: integer (nullable = true)\n",
      " |-- State_KY: integer (nullable = true)\n",
      " |-- State_LA: integer (nullable = true)\n",
      " |-- State_MA: integer (nullable = true)\n",
      " |-- State_MD: integer (nullable = true)\n",
      " |-- State_ME: integer (nullable = true)\n",
      " |-- State_MI: integer (nullable = true)\n",
      " |-- State_MN: integer (nullable = true)\n",
      " |-- State_MO: integer (nullable = true)\n",
      " |-- State_MS: integer (nullable = true)\n",
      " |-- State_MT: integer (nullable = true)\n",
      " |-- State_NC: integer (nullable = true)\n",
      " |-- State_ND: integer (nullable = true)\n",
      " |-- State_NE: integer (nullable = true)\n",
      " |-- State_NH: integer (nullable = true)\n",
      " |-- State_NJ: integer (nullable = true)\n",
      " |-- State_NM: integer (nullable = true)\n",
      " |-- State_NV: integer (nullable = true)\n",
      " |-- State_NY: integer (nullable = true)\n",
      " |-- State_OH: integer (nullable = true)\n",
      " |-- State_OK: integer (nullable = true)\n",
      " |-- State_OR: integer (nullable = true)\n",
      " |-- State_PA: integer (nullable = true)\n",
      " |-- State_RI: integer (nullable = true)\n",
      " |-- State_SC: integer (nullable = true)\n",
      " |-- State_SD: integer (nullable = true)\n",
      " |-- State_TN: integer (nullable = true)\n",
      " |-- State_TX: integer (nullable = true)\n",
      " |-- State_UT: integer (nullable = true)\n",
      " |-- State_VA: integer (nullable = true)\n",
      " |-- State_VT: integer (nullable = true)\n",
      " |-- State_WA: integer (nullable = true)\n",
      " |-- State_WI: integer (nullable = true)\n",
      " |-- State_WV: integer (nullable = true)\n",
      " |-- State_WY: integer (nullable = true)\n",
      " |-- Area Code_408: integer (nullable = true)\n",
      " |-- Area Code_415: integer (nullable = true)\n",
      " |-- Area Code_510: integer (nullable = true)\n",
      " |-- Int'l Plan_no: integer (nullable = true)\n",
      " |-- Int'l Plan_yes: integer (nullable = true)\n",
      " |-- VMail Plan_no: integer (nullable = true)\n",
      " |-- VMail Plan_yes: integer (nullable = true)\n",
      " |-- prediction: integer (nullable = true)"
     ]
    }
   ],
   "source": [
    "## The main process start here ##\n",
    "endpoint_name = \"sagemaker-glue-blog-xgboost-churn\"\n",
    "\n",
    "def get_prediction(row):\n",
    "    infer_data = ','.join([str(elem) for elem in list(row)])\n",
    "    runtime_client = boto3.client('runtime.sagemaker', 'us-east-1')\n",
    "    response = runtime_client.invoke_endpoint(EndpointName=endpoint_name, ContentType=\"text/csv\", Body=infer_data)\n",
    "    result = response[\"Body\"].read()\n",
    "    result = result.decode(\"utf-8\")\n",
    "    return int(float(result) > 0.5)\n",
    "pred_udf = udf(lambda x: get_prediction(x) if x is not None else None, IntegerType())\n",
    "df_result = df.withColumn(\"prediction\", pred_udf(struct([df[x] for x in df.columns])))\n",
    "df_result.printSchema()"
   ]
  },
  {
   "cell_type": "code",
   "execution_count": 19,
   "id": "126c474b",
   "metadata": {},
   "outputs": [
    {
     "data": {
      "application/vnd.jupyter.widget-view+json": {
       "model_id": "",
       "version_major": 2,
       "version_minor": 0
      },
      "text/plain": [
       "FloatProgress(value=0.0, bar_style='info', description='Progress:', layout=Layout(height='25px', width='50%'),…"
      ]
     },
     "metadata": {},
     "output_type": "display_data"
    },
    {
     "name": "stdout",
     "output_type": "stream",
     "text": [
      "+--------------+-------------+----------+---------+----------+---------+----------+-----------+---------+----------+--------------+--------+--------+--------+--------+--------+--------+--------+--------+--------+--------+--------+--------+--------+--------+--------+--------+--------+--------+--------+--------+--------+--------+--------+--------+--------+--------+--------+--------+--------+--------+--------+--------+--------+--------+--------+--------+--------+--------+--------+--------+--------+--------+--------+--------+--------+--------+--------+--------+--------+--------+--------+-------------+-------------+-------------+-------------+--------------+-------------+--------------+----------+\n",
      "|Account Length|VMail Message|  Day Mins|Day Calls|  Eve Mins|Eve Calls|Night Mins|Night Calls|Intl Mins|Intl Calls|CustServ Calls|State_AK|State_AL|State_AR|State_AZ|State_CA|State_CO|State_CT|State_DC|State_DE|State_FL|State_GA|State_HI|State_IA|State_ID|State_IL|State_IN|State_KS|State_KY|State_LA|State_MA|State_MD|State_ME|State_MI|State_MN|State_MO|State_MS|State_MT|State_NC|State_ND|State_NE|State_NH|State_NJ|State_NM|State_NV|State_NY|State_OH|State_OK|State_OR|State_PA|State_RI|State_SC|State_SD|State_TN|State_TX|State_UT|State_VA|State_VT|State_WA|State_WI|State_WV|State_WY|Area Code_408|Area Code_415|Area Code_510|Int'l Plan_no|Int'l Plan_yes|VMail Plan_no|VMail Plan_yes|prediction|\n",
      "+--------------+-------------+----------+---------+----------+---------+----------+-----------+---------+----------+--------------+--------+--------+--------+--------+--------+--------+--------+--------+--------+--------+--------+--------+--------+--------+--------+--------+--------+--------+--------+--------+--------+--------+--------+--------+--------+--------+--------+--------+--------+--------+--------+--------+--------+--------+--------+--------+--------+--------+--------+--------+--------+--------+--------+--------+--------+--------+--------+--------+--------+--------+--------+-------------+-------------+-------------+-------------+--------------+-------------+--------------+----------+\n",
      "|           128|           25|265.100000|      110|197.400000|       99|244.700000|         91|10.000000|         3|             1|       0|       0|       0|       0|       0|       0|       0|       0|       0|       0|       0|       0|       0|       0|       0|       0|       1|       0|       0|       0|       0|       0|       0|       0|       0|       0|       0|       0|       0|       0|       0|       0|       0|       0|       0|       0|       0|       0|       0|       0|       0|       0|       0|       0|       0|       0|       0|       0|       0|       0|       0|            0|            1|            0|            1|             0|            0|             1|         0|\n",
      "|           107|           26|161.600000|      123|195.500000|      103|254.400000|        103|13.700000|         3|             1|       0|       0|       0|       0|       0|       0|       0|       0|       0|       0|       0|       0|       0|       0|       0|       0|       0|       0|       0|       0|       0|       0|       0|       0|       0|       0|       0|       0|       0|       0|       0|       0|       0|       0|       0|       1|       0|       0|       0|       0|       0|       0|       0|       0|       0|       0|       0|       0|       0|       0|       0|            0|            1|            0|            1|             0|            0|             1|         0|\n",
      "|           137|            0|243.400000|      114|121.200000|      110|162.600000|        104|12.200000|         5|             0|       0|       0|       0|       0|       0|       0|       0|       0|       0|       0|       0|       0|       0|       0|       0|       0|       0|       0|       0|       0|       0|       0|       0|       0|       0|       0|       0|       0|       0|       0|       0|       1|       0|       0|       0|       0|       0|       0|       0|       0|       0|       0|       0|       0|       0|       0|       0|       0|       0|       0|       0|            0|            1|            0|            1|             0|            1|             0|         0|\n",
      "|            84|            0|299.400000|       71| 61.900000|       88|196.900000|         89| 6.600000|         7|             2|       0|       0|       0|       0|       0|       0|       0|       0|       0|       0|       0|       0|       0|       0|       0|       0|       0|       0|       0|       0|       0|       0|       0|       0|       0|       0|       0|       0|       0|       0|       0|       0|       0|       0|       0|       1|       0|       0|       0|       0|       0|       0|       0|       0|       0|       0|       0|       0|       0|       0|       0|            1|            0|            0|            0|             1|            1|             0|         1|\n",
      "|            75|            0|166.700000|      113|148.300000|      122|186.900000|        121|10.100000|         3|             3|       0|       0|       0|       0|       0|       0|       0|       0|       0|       0|       0|       0|       0|       0|       0|       0|       0|       0|       0|       0|       0|       0|       0|       0|       0|       0|       0|       0|       0|       0|       0|       0|       0|       0|       0|       0|       1|       0|       0|       0|       0|       0|       0|       0|       0|       0|       0|       0|       0|       0|       0|            0|            1|            0|            0|             1|            1|             0|         0|\n",
      "+--------------+-------------+----------+---------+----------+---------+----------+-----------+---------+----------+--------------+--------+--------+--------+--------+--------+--------+--------+--------+--------+--------+--------+--------+--------+--------+--------+--------+--------+--------+--------+--------+--------+--------+--------+--------+--------+--------+--------+--------+--------+--------+--------+--------+--------+--------+--------+--------+--------+--------+--------+--------+--------+--------+--------+--------+--------+--------+--------+--------+--------+--------+--------+-------------+-------------+-------------+-------------+--------------+-------------+--------------+----------+\n",
      "only showing top 5 rows"
     ]
    }
   ],
   "source": [
    "df_result.show(5)"
   ]
  },
  {
   "cell_type": "code",
   "execution_count": null,
   "id": "f97f8dff",
   "metadata": {},
   "outputs": [],
   "source": []
  }
 ],
 "metadata": {
  "kernelspec": {
   "display_name": "Sparkmagic (PySpark)",
   "language": "python",
   "name": "pysparkkernel"
  },
  "language_info": {
   "codemirror_mode": {
    "name": "python",
    "version": 3
   },
   "file_extension": ".py",
   "mimetype": "text/x-python",
   "name": "pyspark",
   "pygments_lexer": "python3"
  }
 },
 "nbformat": 4,
 "nbformat_minor": 5
}
