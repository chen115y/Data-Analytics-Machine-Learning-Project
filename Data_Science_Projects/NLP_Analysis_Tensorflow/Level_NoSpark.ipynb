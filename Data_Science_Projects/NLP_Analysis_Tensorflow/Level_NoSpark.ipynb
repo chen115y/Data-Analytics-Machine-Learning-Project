{
 "cells": [
  {
   "cell_type": "markdown",
   "metadata": {
    "toc": true
   },
   "source": [
    "<h1>Table of Contents<span class=\"tocSkip\"></span></h1>\n",
    "<div class=\"toc\"><ul class=\"toc-item\"><li><span><a href=\"#Introduction:-Level-Analytics-for-Job-Descriptions\" data-toc-modified-id=\"Introduction:-Level-Analytics-for-Job-Descriptions-1\"><span class=\"toc-item-num\">1&nbsp;&nbsp;</span>Introduction: Level Analytics for Job Descriptions</a></span><ul class=\"toc-item\"><li><span><a href=\"#Dataset\" data-toc-modified-id=\"Dataset-1.1\"><span class=\"toc-item-num\">1.1&nbsp;&nbsp;</span>Dataset</a></span></li><li><span><a href=\"#Python-Library\" data-toc-modified-id=\"Python-Library-1.2\"><span class=\"toc-item-num\">1.2&nbsp;&nbsp;</span>Python Library</a></span></li></ul></li><li><span><a href=\"#Data-Set-Loading-and-Cleaning-Up\" data-toc-modified-id=\"Data-Set-Loading-and-Cleaning-Up-2\"><span class=\"toc-item-num\">2&nbsp;&nbsp;</span>Data Set Loading and Cleaning Up</a></span><ul class=\"toc-item\"><li><span><a href=\"#Load-Job-Description-CSV-Data\" data-toc-modified-id=\"Load-Job-Description-CSV-Data-2.1\"><span class=\"toc-item-num\">2.1&nbsp;&nbsp;</span>Load Job Description CSV Data</a></span></li><li><span><a href=\"#Clean-Up\" data-toc-modified-id=\"Clean-Up-2.2\"><span class=\"toc-item-num\">2.2&nbsp;&nbsp;</span>Clean Up</a></span></li></ul></li><li><span><a href=\"#Approach-1---Dense-Neural-Network\" data-toc-modified-id=\"Approach-1---Dense-Neural-Network-3\"><span class=\"toc-item-num\">3&nbsp;&nbsp;</span>Approach 1 - Dense Neural Network</a></span><ul class=\"toc-item\"><li><span><a href=\"#Tokenization\" data-toc-modified-id=\"Tokenization-3.1\"><span class=\"toc-item-num\">3.1&nbsp;&nbsp;</span>Tokenization</a></span></li><li><span><a href=\"#Stopword-Removal\" data-toc-modified-id=\"Stopword-Removal-3.2\"><span class=\"toc-item-num\">3.2&nbsp;&nbsp;</span>Stopword Removal</a></span></li><li><span><a href=\"#Lemmatization\" data-toc-modified-id=\"Lemmatization-3.3\"><span class=\"toc-item-num\">3.3&nbsp;&nbsp;</span>Lemmatization</a></span></li><li><span><a href=\"#Word-Embedding-Vectors-with-Gensim\" data-toc-modified-id=\"Word-Embedding-Vectors-with-Gensim-3.4\"><span class=\"toc-item-num\">3.4&nbsp;&nbsp;</span>Word Embedding Vectors with Gensim</a></span><ul class=\"toc-item\"><li><span><a href=\"#Word2Vec-Mean-Vector\" data-toc-modified-id=\"Word2Vec-Mean-Vector-3.4.1\"><span class=\"toc-item-num\">3.4.1&nbsp;&nbsp;</span>Word2Vec Mean Vector</a></span></li><li><span><a href=\"#Covert-Vectors-into-Columns\" data-toc-modified-id=\"Covert-Vectors-into-Columns-3.4.2\"><span class=\"toc-item-num\">3.4.2&nbsp;&nbsp;</span>Covert Vectors into Columns</a></span></li></ul></li><li><span><a href=\"#Encoding-for-Categorical-Fields\" data-toc-modified-id=\"Encoding-for-Categorical-Fields-3.5\"><span class=\"toc-item-num\">3.5&nbsp;&nbsp;</span>Encoding for Categorical Fields</a></span></li><li><span><a href=\"#Data-Preparation-for-Training-and-Testing\" data-toc-modified-id=\"Data-Preparation-for-Training-and-Testing-3.6\"><span class=\"toc-item-num\">3.6&nbsp;&nbsp;</span>Data Preparation for Training and Testing</a></span></li><li><span><a href=\"#Standard-Scaling\" data-toc-modified-id=\"Standard-Scaling-3.7\"><span class=\"toc-item-num\">3.7&nbsp;&nbsp;</span>Standard Scaling</a></span></li><li><span><a href=\"#Data-Splits-for-Training-and-Testing\" data-toc-modified-id=\"Data-Splits-for-Training-and-Testing-3.8\"><span class=\"toc-item-num\">3.8&nbsp;&nbsp;</span>Data Splits for Training and Testing</a></span></li><li><span><a href=\"#Neural-Network-Multi-class-Classifier-Training\" data-toc-modified-id=\"Neural-Network-Multi-class-Classifier-Training-3.9\"><span class=\"toc-item-num\">3.9&nbsp;&nbsp;</span>Neural Network Multi-class Classifier Training</a></span></li><li><span><a href=\"#Training-Validation\" data-toc-modified-id=\"Training-Validation-3.10\"><span class=\"toc-item-num\">3.10&nbsp;&nbsp;</span>Training Validation</a></span></li><li><span><a href=\"#Model-Persistence\" data-toc-modified-id=\"Model-Persistence-3.11\"><span class=\"toc-item-num\">3.11&nbsp;&nbsp;</span>Model Persistence</a></span></li></ul></li><li><span><a href=\"#Approach-2---Convolutional-Neural-Network-(CNN)\" data-toc-modified-id=\"Approach-2---Convolutional-Neural-Network-(CNN)-4\"><span class=\"toc-item-num\">4&nbsp;&nbsp;</span>Approach 2 - Convolutional Neural Network (CNN)</a></span><ul class=\"toc-item\"><li><span><a href=\"#Prepare-the-Data-Set\" data-toc-modified-id=\"Prepare-the-Data-Set-4.1\"><span class=\"toc-item-num\">4.1&nbsp;&nbsp;</span>Prepare the Data Set</a></span></li><li><span><a href=\"#Data-Splits-for-Training-and-Testing\" data-toc-modified-id=\"Data-Splits-for-Training-and-Testing-4.2\"><span class=\"toc-item-num\">4.2&nbsp;&nbsp;</span>Data Splits for Training and Testing</a></span></li><li><span><a href=\"#Word-Embedding-Layer-Setup\" data-toc-modified-id=\"Word-Embedding-Layer-Setup-4.3\"><span class=\"toc-item-num\">4.3&nbsp;&nbsp;</span>Word Embedding Layer Setup</a></span></li><li><span><a href=\"#Define-CNN-Model\" data-toc-modified-id=\"Define-CNN-Model-4.4\"><span class=\"toc-item-num\">4.4&nbsp;&nbsp;</span>Define CNN Model</a></span></li><li><span><a href=\"#Training-Model\" data-toc-modified-id=\"Training-Model-4.5\"><span class=\"toc-item-num\">4.5&nbsp;&nbsp;</span>Training Model</a></span></li><li><span><a href=\"#Testing-Model\" data-toc-modified-id=\"Testing-Model-4.6\"><span class=\"toc-item-num\">4.6&nbsp;&nbsp;</span>Testing Model</a></span></li><li><span><a href=\"#Model-Persistence\" data-toc-modified-id=\"Model-Persistence-4.7\"><span class=\"toc-item-num\">4.7&nbsp;&nbsp;</span>Model Persistence</a></span></li><li><span><a href=\"#Create-a-Graph-of-Accuracy-and-Loss-Over-Time\" data-toc-modified-id=\"Create-a-Graph-of-Accuracy-and-Loss-Over-Time-4.8\"><span class=\"toc-item-num\">4.8&nbsp;&nbsp;</span>Create a Graph of Accuracy and Loss Over Time</a></span></li></ul></li><li><span><a href=\"#Summary\" data-toc-modified-id=\"Summary-5\"><span class=\"toc-item-num\">5&nbsp;&nbsp;</span>Summary</a></span></li></ul></div>"
   ]
  },
  {
   "cell_type": "markdown",
   "metadata": {},
   "source": [
    "# Introduction: Level Analytics for Job Descriptions\n",
    "\n",
    "In this notebook, I will demonstrate how to determine the level info from unstructure text feature data by using two approaches:\n",
    "* Approach 1 - Dense Neural Network (DNN) \n",
    "* Approach 2 - Convolutional Neural Network (DNN) \n",
    "\n",
    "For approach 1, I will use NLTK and gensim word2vec to do text feature engineering, then use scikit-learn multi-class dense neural network classifier to train a classification model. \n",
    "\n",
    "For approach 2, I will use tensorflow & keras Convolutional Neural Network to train a several layers classification model including embedding, convolution, pooling, dropout and final dense output layers.\n",
    "\n",
    "## Dataset\n",
    "\n",
    "The dataset is a historical data of job descriptions stored as \"job_descriptions.csv\" file.\n",
    "\n",
    "## Python Library"
   ]
  },
  {
   "cell_type": "code",
   "execution_count": 1,
   "metadata": {
    "ExecuteTime": {
     "end_time": "2020-05-05T21:40:03.621583Z",
     "start_time": "2020-05-05T21:40:02.130467Z"
    }
   },
   "outputs": [],
   "source": [
    "# import future compatible function so that we can have consistent python 3 function outputs\n",
    "from __future__ import division, print_function\n",
    "# Pandas and numpy for converting from Spark dataframe into Pandas dataframe\n",
    "import pandas as pd\n",
    "import numpy as np\n",
    "# Make the random numbers predictable\n",
    "np.random.seed(42)\n",
    "# allow ML models training processes with parallism\n",
    "import multiprocessing\n",
    "# get the number of available CPU cores for parallel processing\n",
    "cpu_count = multiprocessing.cpu_count()\n",
    "\n",
    "# import os\n",
    "import collections\n",
    "# import re\n",
    "import string"
   ]
  },
  {
   "cell_type": "code",
   "execution_count": 2,
   "metadata": {
    "ExecuteTime": {
     "end_time": "2020-05-05T21:40:04.324642Z",
     "start_time": "2020-05-05T21:40:04.319640Z"
    }
   },
   "outputs": [],
   "source": [
    "# Allow multiple output/display from one cell\n",
    "from IPython.core.interactiveshell import InteractiveShell\n",
    "InteractiveShell.ast_node_interactivity = \"all\""
   ]
  },
  {
   "cell_type": "code",
   "execution_count": 3,
   "metadata": {
    "ExecuteTime": {
     "end_time": "2020-05-05T21:40:08.624983Z",
     "start_time": "2020-05-05T21:40:06.032779Z"
    }
   },
   "outputs": [],
   "source": [
    "# Load NLP and Word2Vec libraries\n",
    "from gensim.models import Word2Vec\n",
    "from gensim import models\n",
    "import ssl\n",
    "try:\n",
    "    _create_unverified_https_context = ssl._create_unverified_context\n",
    "except AttributeError:\n",
    "    pass\n",
    "else:\n",
    "    ssl._create_default_https_context = _create_unverified_https_context\n",
    "import nltk    \n",
    "# Stop Word Removal\n",
    "from nltk.corpus import stopwords\n",
    "# from nltk.tokenize import word_tokenize\n",
    "from nltk.stem import WordNetLemmatizer\n",
    "from nltk.corpus import wordnet"
   ]
  },
  {
   "cell_type": "code",
   "execution_count": 4,
   "metadata": {
    "ExecuteTime": {
     "end_time": "2020-05-05T21:40:08.939009Z",
     "start_time": "2020-05-05T21:40:08.823003Z"
    }
   },
   "outputs": [],
   "source": [
    "# Load SKLearn library for standard ML processes\n",
    "from sklearn.neural_network import MLPClassifier\n",
    "from sklearn.preprocessing import StandardScaler, OneHotEncoder, LabelEncoder\n",
    "from sklearn.compose import ColumnTransformer\n",
    "from sklearn.pipeline import Pipeline\n",
    "from sklearn.impute import SimpleImputer\n",
    "from sklearn.model_selection import train_test_split\n",
    "import joblib\n",
    "from sklearn.metrics import accuracy_score, classification_report"
   ]
  },
  {
   "cell_type": "code",
   "execution_count": 5,
   "metadata": {
    "ExecuteTime": {
     "end_time": "2020-05-05T21:40:15.953569Z",
     "start_time": "2020-05-05T21:40:10.904168Z"
    }
   },
   "outputs": [
    {
     "name": "stderr",
     "output_type": "stream",
     "text": [
      "Using TensorFlow backend.\n"
     ]
    }
   ],
   "source": [
    "# Load tensorflow and keras\n",
    "from tensorflow.keras.callbacks import ModelCheckpoint\n",
    "from tensorflow.keras.layers import Dense, Dropout, Reshape, Flatten, concatenate, Input, Conv1D, GlobalMaxPooling1D, Embedding\n",
    "from keras.layers.recurrent import LSTM\n",
    "from tensorflow.keras.models import Sequential\n",
    "from tensorflow.keras.preprocessing.text import Tokenizer\n",
    "from tensorflow.keras.preprocessing.sequence import pad_sequences\n",
    "from tensorflow.keras.models import Model, load_model"
   ]
  },
  {
   "cell_type": "code",
   "execution_count": 6,
   "metadata": {
    "ExecuteTime": {
     "end_time": "2020-05-05T21:40:16.470612Z",
     "start_time": "2020-05-05T21:40:15.957572Z"
    }
   },
   "outputs": [
    {
     "name": "stderr",
     "output_type": "stream",
     "text": [
      "[nltk_data] Downloading package stopwords to\n",
      "[nltk_data]     C:\\Users\\ychen\\AppData\\Roaming\\nltk_data...\n",
      "[nltk_data]   Package stopwords is already up-to-date!\n"
     ]
    },
    {
     "data": {
      "text/plain": [
       "True"
      ]
     },
     "execution_count": 6,
     "metadata": {},
     "output_type": "execute_result"
    },
    {
     "name": "stderr",
     "output_type": "stream",
     "text": [
      "[nltk_data] Downloading package wordnet to\n",
      "[nltk_data]     C:\\Users\\ychen\\AppData\\Roaming\\nltk_data...\n",
      "[nltk_data]   Package wordnet is already up-to-date!\n"
     ]
    },
    {
     "data": {
      "text/plain": [
       "True"
      ]
     },
     "execution_count": 6,
     "metadata": {},
     "output_type": "execute_result"
    },
    {
     "name": "stderr",
     "output_type": "stream",
     "text": [
      "[nltk_data] Downloading package omw to\n",
      "[nltk_data]     C:\\Users\\ychen\\AppData\\Roaming\\nltk_data...\n",
      "[nltk_data]   Package omw is already up-to-date!\n"
     ]
    },
    {
     "data": {
      "text/plain": [
       "True"
      ]
     },
     "execution_count": 6,
     "metadata": {},
     "output_type": "execute_result"
    },
    {
     "name": "stderr",
     "output_type": "stream",
     "text": [
      "[nltk_data] Downloading package punkt to\n",
      "[nltk_data]     C:\\Users\\ychen\\AppData\\Roaming\\nltk_data...\n",
      "[nltk_data]   Package punkt is already up-to-date!\n"
     ]
    },
    {
     "data": {
      "text/plain": [
       "True"
      ]
     },
     "execution_count": 6,
     "metadata": {},
     "output_type": "execute_result"
    }
   ],
   "source": [
    "nltk.download(\"stopwords\")\n",
    "nltk.download('wordnet')\n",
    "nltk.download('omw')\n",
    "nltk.download('punkt')"
   ]
  },
  {
   "cell_type": "markdown",
   "metadata": {},
   "source": [
    "# Data Set Loading and Cleaning Up"
   ]
  },
  {
   "cell_type": "markdown",
   "metadata": {},
   "source": [
    "## Load Job Description CSV Data"
   ]
  },
  {
   "cell_type": "code",
   "execution_count": null,
   "metadata": {
    "ExecuteTime": {
     "end_time": "2020-05-05T21:40:20.668946Z",
     "start_time": "2020-05-05T21:40:19.311836Z"
    }
   },
   "outputs": [],
   "source": [
    "tmp_df = pd.read_csv('./job_descriptions.csv', header='infer')\n",
    "tmp_df.info()"
   ]
  },
  {
   "cell_type": "markdown",
   "metadata": {},
   "source": [
    "## Clean Up"
   ]
  },
  {
   "cell_type": "code",
   "execution_count": null,
   "metadata": {
    "ExecuteTime": {
     "end_time": "2020-02-28T22:15:46.017900Z",
     "start_time": "2020-02-28T22:15:45.957883Z"
    }
   },
   "outputs": [],
   "source": [
    "# remove any rows without job_description and this may change the index order\n",
    "tmp_df.dropna(inplace=True)\n",
    "# need to reset the index since the index will be used to concat the tables\n",
    "tmp_df = tmp_df.reset_index(drop=True)\n",
    "# check if index is reset\n",
    "tmp_df.info()\n",
    "tmp_df.head()\n",
    "tmp_df.tail()"
   ]
  },
  {
   "cell_type": "code",
   "execution_count": 9,
   "metadata": {
    "ExecuteTime": {
     "end_time": "2020-02-28T22:15:46.041904Z",
     "start_time": "2020-02-28T22:15:46.021903Z"
    }
   },
   "outputs": [],
   "source": [
    "# Combine simply job description and title so that job title is a part of job description\n",
    "tmp_df['job_description'] = tmp_df['job_title'] + \" \" + tmp_df['job_description']"
   ]
  },
  {
   "cell_type": "code",
   "execution_count": 10,
   "metadata": {
    "ExecuteTime": {
     "end_time": "2020-02-28T22:15:46.053906Z",
     "start_time": "2020-02-28T22:15:46.045903Z"
    }
   },
   "outputs": [],
   "source": [
    "# Prepare final data set for next step of text feature engineering\n",
    "tmp_df = tmp_df[['req_guid', 'codes', 'level', 'job_title', 'job_description']]"
   ]
  },
  {
   "cell_type": "code",
   "execution_count": null,
   "metadata": {
    "ExecuteTime": {
     "end_time": "2020-02-28T22:15:46.101913Z",
     "start_time": "2020-02-28T22:15:46.057913Z"
    }
   },
   "outputs": [],
   "source": [
    "tmp_df.info()\n",
    "tmp_df.head()\n",
    "tmp_df.tail()"
   ]
  },
  {
   "cell_type": "code",
   "execution_count": 12,
   "metadata": {
    "ExecuteTime": {
     "end_time": "2020-02-28T22:15:46.113913Z",
     "start_time": "2020-02-28T22:15:46.105912Z"
    }
   },
   "outputs": [],
   "source": [
    "# copy the clean dataset for two different approaches\n",
    "df = tmp_df\n",
    "cf = tmp_df"
   ]
  },
  {
   "cell_type": "markdown",
   "metadata": {},
   "source": [
    "# Approach 1 - Dense Neural Network\n",
    "\n",
    "For this approach, raw text data will be transformed into feature vectors and then those vectors will be fed into a dense neural network model for training. I will implement the following feature vectorization steps in order to obtain relevant features from the dataset.\n",
    "\n",
    "* Tokenizing\n",
    "* Remove stop words\n",
    "* Lemmatization (not stem since stemming can reduce the interpretability) \n",
    "* Word Embeddings as features"
   ]
  },
  {
   "cell_type": "markdown",
   "metadata": {},
   "source": [
    "## Tokenization\n",
    "\n",
    "Tokenization is the process by dividing the quantity of text into smaller parts called tokens so that each token can be further treated for machine learning purposes. A token can be a character, a word, a sentence or a paragraph. In this notebook, I only consider words as tokens."
   ]
  },
  {
   "cell_type": "markdown",
   "metadata": {},
   "source": [
    "I can use NLTK word_tokenize function to process the job description field (by removing punctuations \n",
    "and separating words) like below\n",
    "\n",
    "```python \n",
    "df['job_description'] = df.apply(lambda row: word_tokenize(row.job_description), axis=1) \n",
    "```\n",
    "\n",
    "Or I can just use python string split function to separate text since the job description has been cleaned as below."
   ]
  },
  {
   "cell_type": "code",
   "execution_count": 13,
   "metadata": {
    "ExecuteTime": {
     "end_time": "2020-02-28T22:15:46.245942Z",
     "start_time": "2020-02-28T22:15:46.117912Z"
    }
   },
   "outputs": [],
   "source": [
    "# Tokenize the job description and title\n",
    "df['job_description'] = df[\"job_description\"].str.lower()\n",
    "df['job_description'] = df[\"job_description\"].str.split(\" \")"
   ]
  },
  {
   "cell_type": "code",
   "execution_count": null,
   "metadata": {
    "ExecuteTime": {
     "end_time": "2020-02-28T22:15:46.289955Z",
     "start_time": "2020-02-28T22:15:46.249950Z"
    }
   },
   "outputs": [],
   "source": [
    "df.head()"
   ]
  },
  {
   "cell_type": "markdown",
   "metadata": {},
   "source": [
    "## Stopword Removal\n",
    "\n",
    "A stop word is a commonly used word (such as “the”, “a”, “an”, “in”) that a NLP program has been programmed to ignore. In this notebook, I will use NLTK stop words dataset to remove any stop words in job description field."
   ]
  },
  {
   "cell_type": "code",
   "execution_count": null,
   "metadata": {
    "ExecuteTime": {
     "end_time": "2020-02-28T22:15:47.338449Z",
     "start_time": "2020-02-28T22:15:46.293959Z"
    }
   },
   "outputs": [],
   "source": [
    "# Get stopwords list from NLTK library\n",
    "stop_words = stopwords.words('english')\n",
    "# Define a function to remove any stop words from input text\n",
    "def removeStopWords(x):\n",
    "        return [w.lower() for w in x if (w not in stop_words) and (w != '') and (w is not None)]\n",
    "# Apply the defined function to remove stop words for job descriptions\n",
    "df['job_description'] = df.apply(lambda row: removeStopWords(row.job_description), axis=1)\n",
    "# Show some results\n",
    "df.head()"
   ]
  },
  {
   "cell_type": "markdown",
   "metadata": {},
   "source": [
    "## Lemmatization\n",
    "\n",
    "Lemmatisation (or lemmatization) in linguistics is the process of grouping together the inflected forms of a word so they can be analysed as a single item, identified by the word's lemma, or dictionary form. For example, in English, the verb 'to walk' may appear as 'walk', 'walked', 'walks', 'walking'. The base form, 'walk', that one might look up in a dictionary, is called the lemma for the word. I will use NLTK lemmatization function to convert words into their lemma."
   ]
  },
  {
   "cell_type": "code",
   "execution_count": null,
   "metadata": {
    "ExecuteTime": {
     "end_time": "2020-02-28T22:15:52.046018Z",
     "start_time": "2020-02-28T22:15:47.338449Z"
    }
   },
   "outputs": [],
   "source": [
    "# Define lemmatization function by using NLTK WordNetLemmatizer function\n",
    "def lemma(x):\n",
    "    lemmatizer = WordNetLemmatizer()\n",
    "    return [lemmatizer.lemmatize(w.lower(), pos='v') for w in x if (w != '') and (w is not None)]\n",
    "# Apply the defined function to process job descriptions\n",
    "df['job_description'] = df.apply(lambda row: lemma(row.job_description), axis=1)\n",
    "# Show some results\n",
    "df.head()"
   ]
  },
  {
   "cell_type": "markdown",
   "metadata": {},
   "source": [
    "## Word Embedding Vectors with Gensim\n",
    "\n",
    "A word embedding is a form of representing words and documents using a dense vector representation. The position of a word within the vector space is learned from text and is based on the words that surround the word when it is used. Word embeddings can be trained using the input texts. One can read more about word embeddings [here](https://www.analyticsvidhya.com/blog/2017/06/word-embeddings-count-word2veec/) and [here](https://jalammar.github.io/illustrated-word2vec/).\n",
    "\n",
    "In this notebook, I am going to use gensim library Word2Vec functionality to generate word embedding vectors so that I can use those vectors later on to train the classification model."
   ]
  },
  {
   "cell_type": "markdown",
   "metadata": {},
   "source": [
    "### Word2Vec Mean Vector\n",
    "\n",
    "Gensim Word2Vec will generate a vector (dimension of 300 here) for each word after training based on all job descriptions. So, I will define a function to get average (mean) vectors for a job description.\n",
    "\n",
    "In this project, I will use the pre-train word2vec model which pre-trained on 2.5 million job descriptions."
   ]
  },
  {
   "cell_type": "code",
   "execution_count": 17,
   "metadata": {
    "ExecuteTime": {
     "end_time": "2020-02-28T22:15:56.383833Z",
     "start_time": "2020-02-28T22:15:52.050013Z"
    }
   },
   "outputs": [
    {
     "name": "stdout",
     "output_type": "stream",
     "text": [
      "Word2Vec(vocab=381161, size=300, alpha=0.025)\n"
     ]
    }
   ],
   "source": [
    "# Load the pre-trained model\n",
    "word2vec_path = './nnc_word2vec.bin'\n",
    "model_w2v = Word2Vec.load(word2vec_path)\n",
    "print(model_w2v)"
   ]
  },
  {
   "cell_type": "code",
   "execution_count": 18,
   "metadata": {
    "ExecuteTime": {
     "end_time": "2020-02-28T22:15:56.395830Z",
     "start_time": "2020-02-28T22:15:56.387834Z"
    }
   },
   "outputs": [],
   "source": [
    "# Define a function to get average (mean) vectors for a job description based on trained word2vec model\n",
    "def get_mean_vectors(words):\n",
    "    # remove out of vocabulary words\n",
    "    words = [word for word in words if word in model_w2v.wv.vocab]\n",
    "    if len(words) >= 1:\n",
    "        return np.mean(model_w2v[words], axis=0)\n",
    "    else:\n",
    "        return []"
   ]
  },
  {
   "cell_type": "code",
   "execution_count": null,
   "metadata": {
    "ExecuteTime": {
     "end_time": "2020-02-28T22:15:58.688971Z",
     "start_time": "2020-02-28T22:15:56.399829Z"
    }
   },
   "outputs": [],
   "source": [
    "# Apply the function to generate 300 dimension vectors for each job description in the data set\n",
    "df['job_description_vectors'] = df.apply(lambda row: get_mean_vectors(row.job_description), axis=1) \n",
    "# Show some sample results\n",
    "df.head()"
   ]
  },
  {
   "cell_type": "markdown",
   "metadata": {},
   "source": [
    "### Covert Vectors into Columns\n",
    "\n",
    "Here, I am going to convert job description vectors into columns so that I can easily generate training and testing data."
   ]
  },
  {
   "cell_type": "code",
   "execution_count": 20,
   "metadata": {
    "ExecuteTime": {
     "end_time": "2020-02-28T22:15:58.723296Z",
     "start_time": "2020-02-28T22:15:58.690120Z"
    }
   },
   "outputs": [],
   "source": [
    "# Put job description vectors as columns\n",
    "series = df['job_description_vectors'].apply(lambda x : np.array(x)).values.reshape(-1,1)\n",
    "w2v = np.apply_along_axis(lambda x : x[0], 1, series)\n",
    "w2v_df = pd.DataFrame(w2v)\n",
    "tmp_df = pd.concat([df, w2v_df], axis=1)"
   ]
  },
  {
   "cell_type": "code",
   "execution_count": null,
   "metadata": {
    "ExecuteTime": {
     "end_time": "2020-02-28T22:15:58.775309Z",
     "start_time": "2020-02-28T22:15:58.723296Z"
    }
   },
   "outputs": [],
   "source": [
    "tmp_df.head()"
   ]
  },
  {
   "cell_type": "code",
   "execution_count": 22,
   "metadata": {
    "ExecuteTime": {
     "end_time": "2020-02-28T22:15:58.803316Z",
     "start_time": "2020-02-28T22:15:58.775309Z"
    }
   },
   "outputs": [],
   "source": [
    "# Name label field so that the classification model knows which field is the target (label) one\n",
    "tmp_df.rename(columns={'level':'label'}, inplace=True)\n",
    "# Prepare final data table by removing unuseful columns\n",
    "tmp_df.drop(columns=['req_guid','job_title', 'job_description', 'job_description_vectors'], inplace=True)"
   ]
  },
  {
   "cell_type": "code",
   "execution_count": 23,
   "metadata": {
    "ExecuteTime": {
     "end_time": "2020-02-28T22:15:58.840655Z",
     "start_time": "2020-02-28T22:15:58.815321Z"
    }
   },
   "outputs": [],
   "source": [
    "# Remove any NULL or blank rows\n",
    "tmp_df.dropna(inplace=True)"
   ]
  },
  {
   "cell_type": "markdown",
   "metadata": {},
   "source": [
    "## Encoding for Categorical Fields"
   ]
  },
  {
   "cell_type": "code",
   "execution_count": null,
   "metadata": {},
   "outputs": [],
   "source": [
    "# One Hot Encoding for codes\n",
    "tmp_codes = tmp_df[['codes']]\n",
    "\n",
    "tmp_codes = pd.get_dummies(tmp_codes, columns=['codes'], prefix=['codes'])"
   ]
  },
  {
   "cell_type": "code",
   "execution_count": null,
   "metadata": {},
   "outputs": [],
   "source": [
    "# final_df = pd.concat([tmp_df, tmp_industry, tmp_market, tmp_opco, tmp_codes], axis=1)\n",
    "final_df = pd.concat([tmp_df, tmp_codes], axis=1)"
   ]
  },
  {
   "cell_type": "code",
   "execution_count": null,
   "metadata": {},
   "outputs": [],
   "source": [
    "# Prepare final data table by removing unuseful columns\n",
    "final_df.drop(columns=['codes'], inplace=True)"
   ]
  },
  {
   "cell_type": "markdown",
   "metadata": {},
   "source": [
    "## Data Preparation for Training and Testing"
   ]
  },
  {
   "cell_type": "code",
   "execution_count": 28,
   "metadata": {
    "ExecuteTime": {
     "end_time": "2020-02-28T22:15:59.120715Z",
     "start_time": "2020-02-28T22:15:59.100712Z"
    }
   },
   "outputs": [],
   "source": [
    "# Get numpy array on feature set X and target set y\n",
    "X = np.array(final_df.drop(columns=['label']))\n",
    "\n",
    "y = np.array(final_df['label'])"
   ]
  },
  {
   "cell_type": "code",
   "execution_count": 29,
   "metadata": {
    "ExecuteTime": {
     "end_time": "2020-02-28T22:15:59.132717Z",
     "start_time": "2020-02-28T22:15:59.120715Z"
    }
   },
   "outputs": [
    {
     "data": {
      "text/plain": [
       "(2206, 325)"
      ]
     },
     "execution_count": 29,
     "metadata": {},
     "output_type": "execute_result"
    },
    {
     "data": {
      "text/plain": [
       "(2206,)"
      ]
     },
     "execution_count": 29,
     "metadata": {},
     "output_type": "execute_result"
    }
   ],
   "source": [
    "# Double check their shape\n",
    "X.shape\n",
    "y.shape"
   ]
  },
  {
   "cell_type": "markdown",
   "metadata": {},
   "source": [
    "## Standard Scaling\n",
    "\n",
    "Standardization of a dataset is a common requirement for many machine learning estimators: they might behave badly if the individual features do not more or less look like standard normally distributed data (e.g. neural network classifier). People usually can standardize features by removing the mean and scaling to unit variance. In this notebook, I will use StandardScaler function to do that."
   ]
  },
  {
   "cell_type": "code",
   "execution_count": 30,
   "metadata": {
    "ExecuteTime": {
     "end_time": "2020-02-28T22:15:59.168728Z",
     "start_time": "2020-02-28T22:15:59.132717Z"
    }
   },
   "outputs": [
    {
     "data": {
      "text/plain": [
       "array([[-1.0506618 ,  0.8399727 ,  0.01206612, ..., -0.16432244,\n",
       "        -0.3122698 , -0.109209  ],\n",
       "       [ 1.7421954 ,  0.16155341, -0.6131564 , ..., -0.16432244,\n",
       "        -0.3122698 , -0.109209  ],\n",
       "       [ 0.03611369, -1.6168193 , -0.55029935, ..., -0.16432244,\n",
       "        -0.3122698 , -0.109209  ],\n",
       "       ...,\n",
       "       [-0.6439116 , -1.0712377 ,  0.2085332 , ..., -0.16432244,\n",
       "        -0.3122698 , -0.109209  ],\n",
       "       [-2.49217   , -0.8277163 , -0.2865029 , ..., -0.16432244,\n",
       "        -0.3122698 , -0.109209  ],\n",
       "       [-0.5274671 ,  0.20741142,  1.273207  , ..., -0.16432244,\n",
       "        -0.3122698 , -0.109209  ]], dtype=float32)"
      ]
     },
     "execution_count": 30,
     "metadata": {},
     "output_type": "execute_result"
    }
   ],
   "source": [
    "# standardize the vectors\n",
    "X = StandardScaler().fit_transform(X)\n",
    "X"
   ]
  },
  {
   "cell_type": "code",
   "execution_count": 31,
   "metadata": {
    "ExecuteTime": {
     "end_time": "2020-02-28T22:15:59.180732Z",
     "start_time": "2020-02-28T22:15:59.172732Z"
    }
   },
   "outputs": [
    {
     "data": {
      "text/plain": [
       "array([0, 0, 3, ..., 3, 1, 3], dtype=int64)"
      ]
     },
     "execution_count": 31,
     "metadata": {},
     "output_type": "execute_result"
    }
   ],
   "source": [
    "y"
   ]
  },
  {
   "cell_type": "markdown",
   "metadata": {},
   "source": [
    "## Data Splits for Training and Testing"
   ]
  },
  {
   "cell_type": "code",
   "execution_count": 32,
   "metadata": {
    "ExecuteTime": {
     "end_time": "2020-02-28T22:15:59.200733Z",
     "start_time": "2020-02-28T22:15:59.180732Z"
    }
   },
   "outputs": [
    {
     "name": "stdout",
     "output_type": "stream",
     "text": [
      "1764\n",
      "442\n"
     ]
    }
   ],
   "source": [
    "X_train, X_test, y_train, y_test = train_test_split(X, y, test_size=.2, random_state=42, stratify=y, shuffle=True)\n",
    "\n",
    "print(len(X_train))\n",
    "print(len(X_test))"
   ]
  },
  {
   "cell_type": "markdown",
   "metadata": {},
   "source": [
    "## Neural Network Multi-class Classifier Training"
   ]
  },
  {
   "cell_type": "code",
   "execution_count": 33,
   "metadata": {
    "ExecuteTime": {
     "end_time": "2020-02-28T22:15:59.212736Z",
     "start_time": "2020-02-28T22:15:59.204734Z"
    }
   },
   "outputs": [],
   "source": [
    "# Define a neural netowork multi-class classifier model\n",
    "# Two hidden layers are set to 300 and 200\n",
    "# Activation function is set to relu\n",
    "# Solver (optimizer) function is set to adam for faster converge and better performance (lbfgs solver/optimizer causes overfitting)\n",
    "# Early_stopping is set to true to prevent overfitting\n",
    "# Learning rate is set to adaptive, which means it will automatically adjust from initial rate during each iteration\n",
    "# Alpha is set to 0.01 so that some degree of overfitting can be prevented\n",
    "# Batch_size is set to 128 so that 128 training data instances are used for calculation gradient descent\n",
    "# Random_state is set to 42, consistant with initial setup\n",
    "# Verbose is set to true to display information for all iterations\n",
    "est = MLPClassifier(activation='relu', \\\n",
    "                    hidden_layer_sizes=(300, 200),\\\n",
    "                    solver='adam',\\\n",
    "                    learning_rate='adaptive',\\\n",
    "                    max_iter=500,\\\n",
    "                    learning_rate_init=0.001,\\\n",
    "                    batch_size=128,\\\n",
    "                    tol=0.000001,\\\n",
    "                    random_state=42,\\\n",
    "                    early_stopping=True,\\\n",
    "                    verbose=True,\\\n",
    "                    alpha=0.01)"
   ]
  },
  {
   "cell_type": "code",
   "execution_count": 34,
   "metadata": {
    "ExecuteTime": {
     "end_time": "2020-02-28T22:16:08.030806Z",
     "start_time": "2020-02-28T22:15:59.216737Z"
    }
   },
   "outputs": [
    {
     "name": "stdout",
     "output_type": "stream",
     "text": [
      "Training Neural Network MLP-Classifier...\n",
      "Iteration 1, loss = 1.27228024\n",
      "Validation score: 0.610169\n",
      "Iteration 2, loss = 0.84268881\n",
      "Validation score: 0.689266\n",
      "Iteration 3, loss = 0.71445011\n",
      "Validation score: 0.711864\n",
      "Iteration 4, loss = 0.60583190\n",
      "Validation score: 0.700565\n",
      "Iteration 5, loss = 0.52904519\n",
      "Validation score: 0.689266\n",
      "Iteration 6, loss = 0.46106658\n",
      "Validation score: 0.711864\n",
      "Iteration 7, loss = 0.39564856\n",
      "Validation score: 0.706215\n",
      "Iteration 8, loss = 0.33067513\n",
      "Validation score: 0.740113\n",
      "Iteration 9, loss = 0.28320520\n",
      "Validation score: 0.728814\n",
      "Iteration 10, loss = 0.23509378\n",
      "Validation score: 0.728814\n",
      "Iteration 11, loss = 0.20694371\n",
      "Validation score: 0.723164\n",
      "Iteration 12, loss = 0.17141769\n",
      "Validation score: 0.723164\n",
      "Iteration 13, loss = 0.14296027\n",
      "Validation score: 0.740113\n",
      "Iteration 14, loss = 0.13097110\n",
      "Validation score: 0.723164\n",
      "Iteration 15, loss = 0.11257493\n",
      "Validation score: 0.734463\n",
      "Iteration 16, loss = 0.10963767\n",
      "Validation score: 0.745763\n",
      "Iteration 17, loss = 0.10495585\n",
      "Validation score: 0.745763\n",
      "Iteration 18, loss = 0.09419113\n",
      "Validation score: 0.717514\n",
      "Iteration 19, loss = 0.09472739\n",
      "Validation score: 0.728814\n",
      "Iteration 20, loss = 0.08344879\n",
      "Validation score: 0.734463\n",
      "Iteration 21, loss = 0.07913472\n",
      "Validation score: 0.745763\n",
      "Iteration 22, loss = 0.08134961\n",
      "Validation score: 0.734463\n",
      "Iteration 23, loss = 0.07477825\n",
      "Validation score: 0.734463\n",
      "Iteration 24, loss = 0.07051709\n",
      "Validation score: 0.700565\n",
      "Iteration 25, loss = 0.06890282\n",
      "Validation score: 0.751412\n",
      "Iteration 26, loss = 0.07106486\n",
      "Validation score: 0.740113\n",
      "Iteration 27, loss = 0.06483545\n",
      "Validation score: 0.700565\n",
      "Iteration 28, loss = 0.07007667\n",
      "Validation score: 0.740113\n",
      "Iteration 29, loss = 0.06789316\n",
      "Validation score: 0.740113\n",
      "Iteration 30, loss = 0.05798499\n",
      "Validation score: 0.745763\n",
      "Iteration 31, loss = 0.05950599\n",
      "Validation score: 0.717514\n",
      "Iteration 32, loss = 0.06020090\n",
      "Validation score: 0.757062\n",
      "Iteration 33, loss = 0.05993375\n",
      "Validation score: 0.745763\n",
      "Iteration 34, loss = 0.05751053\n",
      "Validation score: 0.751412\n",
      "Iteration 35, loss = 0.05249480\n",
      "Validation score: 0.734463\n",
      "Iteration 36, loss = 0.06231132\n",
      "Validation score: 0.734463\n",
      "Iteration 37, loss = 0.05366459\n",
      "Validation score: 0.740113\n",
      "Iteration 38, loss = 0.05621154\n",
      "Validation score: 0.711864\n",
      "Iteration 39, loss = 0.05585627\n",
      "Validation score: 0.745763\n",
      "Iteration 40, loss = 0.05780391\n",
      "Validation score: 0.728814\n",
      "Iteration 41, loss = 0.06205010\n",
      "Validation score: 0.734463\n",
      "Iteration 42, loss = 0.05169427\n",
      "Validation score: 0.745763\n",
      "Iteration 43, loss = 0.06197738\n",
      "Validation score: 0.723164\n",
      "Validation score did not improve more than tol=0.000001 for 10 consecutive epochs. Stopping.\n",
      "MLPClassifier(activation='relu', alpha=0.01, batch_size=128, beta_1=0.9,\n",
      "              beta_2=0.999, early_stopping=True, epsilon=1e-08,\n",
      "              hidden_layer_sizes=(300, 200), learning_rate='adaptive',\n",
      "              learning_rate_init=0.001, max_fun=15000, max_iter=500,\n",
      "              momentum=0.9, n_iter_no_change=10, nesterovs_momentum=True,\n",
      "              power_t=0.5, random_state=42, shuffle=True, solver='adam',\n",
      "              tol=1e-06, validation_fraction=0.1, verbose=True,\n",
      "              warm_start=False)\n"
     ]
    }
   ],
   "source": [
    "print(\"Training Neural Network MLP-Classifier...\")\n",
    "nnc = est.fit(X_train, y_train)\n",
    "print(nnc)"
   ]
  },
  {
   "cell_type": "markdown",
   "metadata": {},
   "source": [
    "## Training Validation"
   ]
  },
  {
   "cell_type": "code",
   "execution_count": 35,
   "metadata": {
    "ExecuteTime": {
     "end_time": "2020-02-28T22:16:08.110825Z",
     "start_time": "2020-02-28T22:16:08.030806Z"
    }
   },
   "outputs": [
    {
     "name": "stdout",
     "output_type": "stream",
     "text": [
      "Accuracy on Training Data are:  0.9688208616780045\n"
     ]
    }
   ],
   "source": [
    "# Check classification accuracy on training data\n",
    "print(\"Accuracy on Training Data are: \", accuracy_score(nnc.predict(X_train), y_train))"
   ]
  },
  {
   "cell_type": "code",
   "execution_count": 36,
   "metadata": {
    "ExecuteTime": {
     "end_time": "2020-02-28T22:16:08.142831Z",
     "start_time": "2020-02-28T22:16:08.110825Z"
    }
   },
   "outputs": [
    {
     "name": "stdout",
     "output_type": "stream",
     "text": [
      "Accuracy on Testing Data are:  0.6764705882352942\n"
     ]
    }
   ],
   "source": [
    "# Check classification accuracy on testing data \n",
    "print(\"Accuracy on Testing Data are: \", accuracy_score(nnc.predict(X_test), y_test))"
   ]
  },
  {
   "cell_type": "code",
   "execution_count": 37,
   "metadata": {
    "ExecuteTime": {
     "end_time": "2020-02-28T22:16:08.238853Z",
     "start_time": "2020-02-28T22:16:08.146835Z"
    }
   },
   "outputs": [
    {
     "name": "stdout",
     "output_type": "stream",
     "text": [
      "              precision    recall  f1-score   support\n",
      "\n",
      "           0       0.96      0.95      0.95       209\n",
      "           1       0.96      0.92      0.94       204\n",
      "           2       0.96      0.94      0.95       259\n",
      "           3       0.97      0.99      0.98      1092\n",
      "\n",
      "    accuracy                           0.97      1764\n",
      "   macro avg       0.96      0.95      0.96      1764\n",
      "weighted avg       0.97      0.97      0.97      1764\n",
      "\n"
     ]
    }
   ],
   "source": [
    "# Check classification (confusion matrix) report on training data set\n",
    "print(classification_report(y_train, nnc.predict(X_train)))"
   ]
  },
  {
   "cell_type": "markdown",
   "metadata": {},
   "source": [
    "## Model Persistence"
   ]
  },
  {
   "cell_type": "code",
   "execution_count": 38,
   "metadata": {
    "ExecuteTime": {
     "end_time": "2020-02-28T22:16:08.270858Z",
     "start_time": "2020-02-28T22:16:08.238853Z"
    }
   },
   "outputs": [
    {
     "data": {
      "text/plain": [
       "['./nnc_level.pkl']"
      ]
     },
     "execution_count": 38,
     "metadata": {},
     "output_type": "execute_result"
    }
   ],
   "source": [
    "# Save the model into a file so that it can be used later on without re-training the model\n",
    "joblib.dump(nnc, './nnc_level.pkl')"
   ]
  },
  {
   "cell_type": "code",
   "execution_count": 39,
   "metadata": {
    "ExecuteTime": {
     "end_time": "2020-02-28T22:16:08.374883Z",
     "start_time": "2020-02-28T22:16:08.270858Z"
    }
   },
   "outputs": [
    {
     "name": "stdout",
     "output_type": "stream",
     "text": [
      "Accuracy on Whole Data are:  0.9102447869446962\n"
     ]
    }
   ],
   "source": [
    "# Load the classification model\n",
    "loaded_model = joblib.load('./nnc_level.pkl')\n",
    "# Predict and score the data set with the loaded model\n",
    "result = loaded_model.score(X, y)\n",
    "print(\"Accuracy on Whole Data are: \", result)"
   ]
  },
  {
   "cell_type": "markdown",
   "metadata": {},
   "source": [
    "# Approach 2 - Convolutional Neural Network (CNN)\n",
    "\n",
    "Around 2014, Yoon kim et al. started to experiment with the relevance of CNN in the field of NLP and since then there has been no looking back. In the paper \"[Convolutional Neural Networks for Sentence Classification](http://arxiv.org/pdf/1408.5882.pdf)\" yoon kim et al. experiments with multiple CNN models (single channel, multiple channel) on top of word embeddings for text classification. In this notebook, I will follow the same idea to create a CNN approach on job description level problem.\n",
    "\n",
    "The idea of approach is presented follows a flow like :\n",
    "\n",
    "![cnn_architecture](./CNN_Architecture.png)"
   ]
  },
  {
   "cell_type": "markdown",
   "metadata": {},
   "source": [
    "## Prepare the Data Set"
   ]
  },
  {
   "cell_type": "code",
   "execution_count": 40,
   "metadata": {
    "ExecuteTime": {
     "end_time": "2020-02-28T22:16:08.394886Z",
     "start_time": "2020-02-28T22:16:08.374883Z"
    }
   },
   "outputs": [
    {
     "data": {
      "text/html": [
       "<div>\n",
       "<style scoped>\n",
       "    .dataframe tbody tr th:only-of-type {\n",
       "        vertical-align: middle;\n",
       "    }\n",
       "\n",
       "    .dataframe tbody tr th {\n",
       "        vertical-align: top;\n",
       "    }\n",
       "\n",
       "    .dataframe thead th {\n",
       "        text-align: right;\n",
       "    }\n",
       "</style>\n",
       "<table border=\"1\" class=\"dataframe\">\n",
       "  <thead>\n",
       "    <tr style=\"text-align: right;\">\n",
       "      <th></th>\n",
       "      <th>level_0</th>\n",
       "      <th>level_1</th>\n",
       "      <th>level_2</th>\n",
       "      <th>level_3</th>\n",
       "    </tr>\n",
       "  </thead>\n",
       "  <tbody>\n",
       "    <tr>\n",
       "      <th>0</th>\n",
       "      <td>1</td>\n",
       "      <td>0</td>\n",
       "      <td>0</td>\n",
       "      <td>0</td>\n",
       "    </tr>\n",
       "    <tr>\n",
       "      <th>1</th>\n",
       "      <td>1</td>\n",
       "      <td>0</td>\n",
       "      <td>0</td>\n",
       "      <td>0</td>\n",
       "    </tr>\n",
       "    <tr>\n",
       "      <th>2</th>\n",
       "      <td>0</td>\n",
       "      <td>0</td>\n",
       "      <td>0</td>\n",
       "      <td>1</td>\n",
       "    </tr>\n",
       "    <tr>\n",
       "      <th>3</th>\n",
       "      <td>1</td>\n",
       "      <td>0</td>\n",
       "      <td>0</td>\n",
       "      <td>0</td>\n",
       "    </tr>\n",
       "    <tr>\n",
       "      <th>4</th>\n",
       "      <td>0</td>\n",
       "      <td>0</td>\n",
       "      <td>0</td>\n",
       "      <td>1</td>\n",
       "    </tr>\n",
       "  </tbody>\n",
       "</table>\n",
       "</div>"
      ],
      "text/plain": [
       "   level_0  level_1  level_2  level_3\n",
       "0        1        0        0        0\n",
       "1        1        0        0        0\n",
       "2        0        0        0        1\n",
       "3        1        0        0        0\n",
       "4        0        0        0        1"
      ]
     },
     "execution_count": 40,
     "metadata": {},
     "output_type": "execute_result"
    }
   ],
   "source": [
    "# One Hot Encoding for codes\n",
    "tmp_level = cf[['level']]\n",
    "\n",
    "tmp_level = pd.get_dummies(tmp_level, columns=['level'], prefix=['level'])\n",
    "\n",
    "tmp_level.head()"
   ]
  },
  {
   "cell_type": "code",
   "execution_count": null,
   "metadata": {
    "ExecuteTime": {
     "end_time": "2020-02-28T22:16:08.438897Z",
     "start_time": "2020-02-28T22:16:08.398890Z"
    }
   },
   "outputs": [],
   "source": [
    "# Concatenate two data sets into one\n",
    "final_df = pd.concat([cf, tmp_level], axis=1)\n",
    "final_df.head()"
   ]
  },
  {
   "cell_type": "markdown",
   "metadata": {},
   "source": [
    "## Data Splits for Training and Testing"
   ]
  },
  {
   "cell_type": "code",
   "execution_count": 42,
   "metadata": {
    "ExecuteTime": {
     "end_time": "2020-02-28T22:16:08.462904Z",
     "start_time": "2020-02-28T22:16:08.442900Z"
    }
   },
   "outputs": [
    {
     "data": {
      "text/plain": [
       "(1764, 10)"
      ]
     },
     "execution_count": 42,
     "metadata": {},
     "output_type": "execute_result"
    },
    {
     "data": {
      "text/plain": [
       "(442, 10)"
      ]
     },
     "execution_count": 42,
     "metadata": {},
     "output_type": "execute_result"
    }
   ],
   "source": [
    "data_train, data_test = train_test_split(final_df, test_size=0.20, random_state=42)\n",
    "data_train.shape\n",
    "data_test.shape"
   ]
  },
  {
   "cell_type": "markdown",
   "metadata": {},
   "source": [
    "## Word Embedding Layer Setup"
   ]
  },
  {
   "cell_type": "code",
   "execution_count": 43,
   "metadata": {
    "ExecuteTime": {
     "end_time": "2020-02-28T22:16:08.510915Z",
     "start_time": "2020-02-28T22:16:08.462904Z"
    }
   },
   "outputs": [],
   "source": [
    "MAX_SEQUENCE_LENGTH = 100\n",
    "EMBEDDING_DIM = 300\n",
    "all_training_words = [word for tokens in data_train[\"job_description\"] for word in tokens]\n",
    "TRAINING_VOCAB = sorted(list(set(all_training_words)))\n",
    "label_names = ['level_0', 'level_1','level_2','level_3']"
   ]
  },
  {
   "cell_type": "code",
   "execution_count": 44,
   "metadata": {
    "ExecuteTime": {
     "end_time": "2020-02-28T22:16:08.968052Z",
     "start_time": "2020-02-28T22:16:08.514916Z"
    }
   },
   "outputs": [
    {
     "name": "stdout",
     "output_type": "stream",
     "text": [
      "Found 10473 unique tokens.\n"
     ]
    }
   ],
   "source": [
    "tokenizer = Tokenizer(num_words=len(TRAINING_VOCAB), lower=True, char_level=False)\n",
    "tokenizer.fit_on_texts(data_train[\"job_description\"].tolist())\n",
    "training_sequences = tokenizer.texts_to_sequences(data_train[\"job_description\"].tolist())\n",
    "\n",
    "train_word_index = tokenizer.word_index\n",
    "print('Found %s unique tokens.' % len(train_word_index))"
   ]
  },
  {
   "cell_type": "code",
   "execution_count": 45,
   "metadata": {
    "ExecuteTime": {
     "end_time": "2020-02-28T22:16:09.022938Z",
     "start_time": "2020-02-28T22:16:08.968052Z"
    }
   },
   "outputs": [],
   "source": [
    "train_cnn_data = pad_sequences(training_sequences, maxlen=MAX_SEQUENCE_LENGTH)"
   ]
  },
  {
   "cell_type": "code",
   "execution_count": 46,
   "metadata": {
    "ExecuteTime": {
     "end_time": "2020-02-28T22:16:09.238124Z",
     "start_time": "2020-02-28T22:16:09.026938Z"
    }
   },
   "outputs": [
    {
     "name": "stderr",
     "output_type": "stream",
     "text": [
      "C:\\Users\\ychen\\AppData\\Local\\Continuum\\anaconda3\\envs\\tf-gpu\\lib\\site-packages\\ipykernel_launcher.py:3: DeprecationWarning: Call to deprecated `__contains__` (Method will be removed in 4.0.0, use self.wv.__contains__() instead).\n",
      "  This is separate from the ipykernel package so we can avoid doing imports until\n",
      "C:\\Users\\ychen\\AppData\\Local\\Continuum\\anaconda3\\envs\\tf-gpu\\lib\\site-packages\\ipykernel_launcher.py:3: DeprecationWarning: Call to deprecated `__getitem__` (Method will be removed in 4.0.0, use self.wv.__getitem__() instead).\n",
      "  This is separate from the ipykernel package so we can avoid doing imports until\n"
     ]
    },
    {
     "name": "stdout",
     "output_type": "stream",
     "text": [
      "(10474, 300)\n"
     ]
    }
   ],
   "source": [
    "train_embedding_weights = np.zeros((len(train_word_index)+1, EMBEDDING_DIM))\n",
    "for word,index in train_word_index.items():\n",
    "    train_embedding_weights[index,:] = model_w2v[word] if word in model_w2v else np.random.rand(EMBEDDING_DIM)\n",
    "print(train_embedding_weights.shape)"
   ]
  },
  {
   "cell_type": "code",
   "execution_count": 47,
   "metadata": {
    "ExecuteTime": {
     "end_time": "2020-02-28T22:16:09.357226Z",
     "start_time": "2020-02-28T22:16:09.242126Z"
    }
   },
   "outputs": [],
   "source": [
    "test_sequences = tokenizer.texts_to_sequences(data_test[\"job_description\"].tolist())\n",
    "test_cnn_data = pad_sequences(test_sequences, maxlen=MAX_SEQUENCE_LENGTH)"
   ]
  },
  {
   "cell_type": "markdown",
   "metadata": {},
   "source": [
    "## Define CNN Model"
   ]
  },
  {
   "cell_type": "code",
   "execution_count": 56,
   "metadata": {
    "ExecuteTime": {
     "end_time": "2020-02-28T22:19:36.798763Z",
     "start_time": "2020-02-28T22:19:36.772652Z"
    }
   },
   "outputs": [],
   "source": [
    "# This function will define CNN model to include embedding, convolution, maxpooling, dropout and final dense layers\n",
    "def ConvNet(embeddings, max_sequence_length, num_words, embedding_dim, labels_index):\n",
    "    # setup input \n",
    "    sequence_input = Input(shape=(max_sequence_length,), dtype='int32')\n",
    "    # embedding layer by using pre-trained word2vec model\n",
    "    embedding_layer = Embedding(num_words,embedding_dim,weights=[embeddings],input_length=max_sequence_length,trainable=False)\n",
    "    # link input and embedding layers\n",
    "    embedded_sequences = embedding_layer(sequence_input)\n",
    "    # convolutional layers: four 1D convolutional layers to filter/extract different patterns\n",
    "    convs = []\n",
    "    filter_sizes = [2,3,4,5,6]\n",
    "\n",
    "    for filter_size in filter_sizes:\n",
    "        l_conv = Conv1D(filters=200, kernel_size=filter_size, activation='relu')(embedded_sequences)\n",
    "        # setup max pooling layer after convolutional layer\n",
    "        l_pool = GlobalMaxPooling1D()(l_conv)\n",
    "        # link convolutional layer with max pooling layer\n",
    "        convs.append(l_pool)\n",
    "\n",
    "    # combine all four pattern outputs\n",
    "    l_merge = concatenate(convs, axis=1)\n",
    "    # add dropout layer for regularization\n",
    "    x = Dropout(0.1)(l_merge)  \n",
    "    x = Dense(128, activation='relu')(x)\n",
    "    # add another dropout layer for regularization\n",
    "    x = Dropout(0.2)(x)\n",
    "    preds = Dense(labels_index, activation='sigmoid')(x)\n",
    "    # create/establish the model from inputs and outputs\n",
    "    model = Model(sequence_input, preds)\n",
    "    # compile model with loss function, optimizer and metrics setup\n",
    "    model.compile(loss='binary_crossentropy',optimizer='adam',metrics=['acc'])\n",
    "    # print summary info of the model\n",
    "    model.summary()\n",
    "    return model"
   ]
  },
  {
   "cell_type": "code",
   "execution_count": 57,
   "metadata": {
    "ExecuteTime": {
     "end_time": "2020-02-28T22:19:39.259515Z",
     "start_time": "2020-02-28T22:19:38.950379Z"
    }
   },
   "outputs": [
    {
     "name": "stdout",
     "output_type": "stream",
     "text": [
      "Model: \"model_1\"\n",
      "__________________________________________________________________________________________________\n",
      "Layer (type)                    Output Shape         Param #     Connected to                     \n",
      "==================================================================================================\n",
      "input_3 (InputLayer)            [(None, 100)]        0                                            \n",
      "__________________________________________________________________________________________________\n",
      "embedding_2 (Embedding)         (None, 100, 300)     3142200     input_3[0][0]                    \n",
      "__________________________________________________________________________________________________\n",
      "conv1d_10 (Conv1D)              (None, 99, 200)      120200      embedding_2[0][0]                \n",
      "__________________________________________________________________________________________________\n",
      "conv1d_11 (Conv1D)              (None, 98, 200)      180200      embedding_2[0][0]                \n",
      "__________________________________________________________________________________________________\n",
      "conv1d_12 (Conv1D)              (None, 97, 200)      240200      embedding_2[0][0]                \n",
      "__________________________________________________________________________________________________\n",
      "conv1d_13 (Conv1D)              (None, 96, 200)      300200      embedding_2[0][0]                \n",
      "__________________________________________________________________________________________________\n",
      "conv1d_14 (Conv1D)              (None, 95, 200)      360200      embedding_2[0][0]                \n",
      "__________________________________________________________________________________________________\n",
      "global_max_pooling1d_10 (Global (None, 200)          0           conv1d_10[0][0]                  \n",
      "__________________________________________________________________________________________________\n",
      "global_max_pooling1d_11 (Global (None, 200)          0           conv1d_11[0][0]                  \n",
      "__________________________________________________________________________________________________\n",
      "global_max_pooling1d_12 (Global (None, 200)          0           conv1d_12[0][0]                  \n",
      "__________________________________________________________________________________________________\n",
      "global_max_pooling1d_13 (Global (None, 200)          0           conv1d_13[0][0]                  \n",
      "__________________________________________________________________________________________________\n",
      "global_max_pooling1d_14 (Global (None, 200)          0           conv1d_14[0][0]                  \n",
      "__________________________________________________________________________________________________\n",
      "concatenate_2 (Concatenate)     (None, 1000)         0           global_max_pooling1d_10[0][0]    \n",
      "                                                                 global_max_pooling1d_11[0][0]    \n",
      "                                                                 global_max_pooling1d_12[0][0]    \n",
      "                                                                 global_max_pooling1d_13[0][0]    \n",
      "                                                                 global_max_pooling1d_14[0][0]    \n",
      "__________________________________________________________________________________________________\n",
      "dropout_4 (Dropout)             (None, 1000)         0           concatenate_2[0][0]              \n",
      "__________________________________________________________________________________________________\n",
      "dense_4 (Dense)                 (None, 128)          128128      dropout_4[0][0]                  \n",
      "__________________________________________________________________________________________________\n",
      "dropout_5 (Dropout)             (None, 128)          0           dense_4[0][0]                    \n",
      "__________________________________________________________________________________________________\n",
      "dense_5 (Dense)                 (None, 4)            516         dropout_5[0][0]                  \n",
      "==================================================================================================\n",
      "Total params: 4,471,844\n",
      "Trainable params: 1,329,644\n",
      "Non-trainable params: 3,142,200\n",
      "__________________________________________________________________________________________________\n"
     ]
    }
   ],
   "source": [
    "model = ConvNet(train_embedding_weights, MAX_SEQUENCE_LENGTH, len(train_word_index)+1, EMBEDDING_DIM, len(list(label_names)))"
   ]
  },
  {
   "cell_type": "markdown",
   "metadata": {},
   "source": [
    "## Training Model"
   ]
  },
  {
   "cell_type": "code",
   "execution_count": 58,
   "metadata": {
    "ExecuteTime": {
     "end_time": "2020-02-28T22:19:50.063574Z",
     "start_time": "2020-02-28T22:19:50.055576Z"
    }
   },
   "outputs": [],
   "source": [
    "num_epochs = 20\n",
    "batch_size = 34"
   ]
  },
  {
   "cell_type": "code",
   "execution_count": 59,
   "metadata": {
    "ExecuteTime": {
     "end_time": "2020-02-28T22:19:50.079575Z",
     "start_time": "2020-02-28T22:19:50.067572Z"
    }
   },
   "outputs": [],
   "source": [
    "y_train = data_train[label_names].values\n",
    "x_train = train_cnn_data"
   ]
  },
  {
   "cell_type": "code",
   "execution_count": 60,
   "metadata": {
    "ExecuteTime": {
     "end_time": "2020-02-28T22:19:50.099593Z",
     "start_time": "2020-02-28T22:19:50.083574Z"
    }
   },
   "outputs": [
    {
     "data": {
      "text/plain": [
       "(1764, 100)"
      ]
     },
     "execution_count": 60,
     "metadata": {},
     "output_type": "execute_result"
    },
    {
     "data": {
      "text/plain": [
       "(1764, 4)"
      ]
     },
     "execution_count": 60,
     "metadata": {},
     "output_type": "execute_result"
    }
   ],
   "source": [
    "x_train.shape\n",
    "y_train.shape"
   ]
  },
  {
   "cell_type": "code",
   "execution_count": 61,
   "metadata": {
    "ExecuteTime": {
     "end_time": "2020-02-28T22:22:55.127381Z",
     "start_time": "2020-02-28T22:19:50.103588Z"
    }
   },
   "outputs": [
    {
     "name": "stdout",
     "output_type": "stream",
     "text": [
      "Train on 1587 samples, validate on 177 samples\n",
      "Epoch 1/20\n",
      "1587/1587 [==============================] - 11s 7ms/sample - loss: 1.1579 - acc: 0.7552 - val_loss: 0.4407 - val_acc: 0.7867\n",
      "Epoch 2/20\n",
      "1587/1587 [==============================] - 9s 6ms/sample - loss: 0.3680 - acc: 0.8359 - val_loss: 0.4025 - val_acc: 0.8347\n",
      "Epoch 3/20\n",
      "1587/1587 [==============================] - 9s 6ms/sample - loss: 0.2744 - acc: 0.8814 - val_loss: 0.4293 - val_acc: 0.8291\n",
      "Epoch 4/20\n",
      "1587/1587 [==============================] - 9s 6ms/sample - loss: 0.2041 - acc: 0.9141 - val_loss: 0.3780 - val_acc: 0.8460\n",
      "Epoch 5/20\n",
      "1587/1587 [==============================] - 9s 6ms/sample - loss: 0.1631 - acc: 0.9360 - val_loss: 0.4374 - val_acc: 0.8475\n",
      "Epoch 6/20\n",
      "1587/1587 [==============================] - 9s 6ms/sample - loss: 0.1270 - acc: 0.9499 - val_loss: 0.4367 - val_acc: 0.8517\n",
      "Epoch 7/20\n",
      "1587/1587 [==============================] - 9s 6ms/sample - loss: 0.1016 - acc: 0.9660 - val_loss: 0.4514 - val_acc: 0.8362\n",
      "Epoch 8/20\n",
      "1587/1587 [==============================] - 9s 6ms/sample - loss: 0.0758 - acc: 0.9762 - val_loss: 0.5385 - val_acc: 0.8460\n",
      "Epoch 9/20\n",
      "1587/1587 [==============================] - 9s 6ms/sample - loss: 0.0731 - acc: 0.9745 - val_loss: 0.5819 - val_acc: 0.8460\n",
      "Epoch 10/20\n",
      "1587/1587 [==============================] - 9s 6ms/sample - loss: 0.0658 - acc: 0.9783 - val_loss: 0.4783 - val_acc: 0.8588\n",
      "Epoch 11/20\n",
      "1587/1587 [==============================] - 9s 6ms/sample - loss: 0.0626 - acc: 0.9787 - val_loss: 0.4969 - val_acc: 0.8475\n",
      "Epoch 12/20\n",
      "1587/1587 [==============================] - 9s 6ms/sample - loss: 0.0483 - acc: 0.9847 - val_loss: 0.4883 - val_acc: 0.8559\n",
      "Epoch 13/20\n",
      "1587/1587 [==============================] - 9s 6ms/sample - loss: 0.0402 - acc: 0.9841 - val_loss: 0.5705 - val_acc: 0.8503\n",
      "Epoch 14/20\n",
      "1587/1587 [==============================] - 9s 6ms/sample - loss: 0.0447 - acc: 0.9842 - val_loss: 0.7098 - val_acc: 0.8517\n",
      "Epoch 15/20\n",
      "1587/1587 [==============================] - 10s 6ms/sample - loss: 0.0341 - acc: 0.9874 - val_loss: 0.6095 - val_acc: 0.8446\n",
      "Epoch 16/20\n",
      "1587/1587 [==============================] - 9s 6ms/sample - loss: 0.0320 - acc: 0.9885 - val_loss: 0.6334 - val_acc: 0.8489\n",
      "Epoch 17/20\n",
      "1587/1587 [==============================] - 9s 6ms/sample - loss: 0.0301 - acc: 0.9902 - val_loss: 0.6585 - val_acc: 0.8517\n",
      "Epoch 18/20\n",
      "1587/1587 [==============================] - 9s 6ms/sample - loss: 0.0351 - acc: 0.9901 - val_loss: 0.5690 - val_acc: 0.8489\n",
      "Epoch 19/20\n",
      "1587/1587 [==============================] - 9s 6ms/sample - loss: 0.0291 - acc: 0.9904 - val_loss: 0.7100 - val_acc: 0.8489\n",
      "Epoch 20/20\n",
      "1587/1587 [==============================] - 9s 6ms/sample - loss: 0.0258 - acc: 0.9902 - val_loss: 0.7480 - val_acc: 0.8503\n"
     ]
    }
   ],
   "source": [
    "hist = model.fit(x_train, y_train, epochs=num_epochs, validation_split=0.1, shuffle=True, batch_size=batch_size)"
   ]
  },
  {
   "cell_type": "markdown",
   "metadata": {},
   "source": [
    "## Testing Model"
   ]
  },
  {
   "cell_type": "code",
   "execution_count": 62,
   "metadata": {
    "ExecuteTime": {
     "end_time": "2020-02-28T22:22:55.135382Z",
     "start_time": "2020-02-28T22:22:55.127381Z"
    }
   },
   "outputs": [],
   "source": [
    "y_test = data_test[label_names].values\n",
    "x_test = test_cnn_data"
   ]
  },
  {
   "cell_type": "code",
   "execution_count": 63,
   "metadata": {
    "ExecuteTime": {
     "end_time": "2020-02-28T22:22:56.195790Z",
     "start_time": "2020-02-28T22:22:55.135382Z"
    }
   },
   "outputs": [
    {
     "name": "stdout",
     "output_type": "stream",
     "text": [
      "442/442 - 1s - loss: 0.6914 - acc: 0.8546\n",
      "Test data, accuracy: 85.46%\n"
     ]
    }
   ],
   "source": [
    "loss, acc = model.evaluate(x_test,  y_test, verbose=2)\n",
    "print(\"Test data, accuracy: {:5.2f}%\".format(100*acc))"
   ]
  },
  {
   "cell_type": "code",
   "execution_count": 64,
   "metadata": {
    "ExecuteTime": {
     "end_time": "2020-02-28T22:23:00.291036Z",
     "start_time": "2020-02-28T22:22:56.199795Z"
    }
   },
   "outputs": [
    {
     "name": "stdout",
     "output_type": "stream",
     "text": [
      "1764/1764 - 4s - loss: 0.0848 - acc: 0.9807\n",
      "Trained model, accuracy: 98.07%\n"
     ]
    }
   ],
   "source": [
    "loss, acc = model.evaluate(x_train,  y_train, verbose=2)\n",
    "print(\"Trained model, accuracy: {:5.2f}%\".format(100*acc))"
   ]
  },
  {
   "cell_type": "markdown",
   "metadata": {},
   "source": [
    "## Model Persistence"
   ]
  },
  {
   "cell_type": "code",
   "execution_count": 65,
   "metadata": {
    "ExecuteTime": {
     "end_time": "2020-02-28T22:23:00.425603Z",
     "start_time": "2020-02-28T22:23:00.295156Z"
    }
   },
   "outputs": [],
   "source": [
    "model.save('./cnn_level.h5') "
   ]
  },
  {
   "cell_type": "code",
   "execution_count": 67,
   "metadata": {
    "ExecuteTime": {
     "end_time": "2020-02-28T22:23:38.147686Z",
     "start_time": "2020-02-28T22:23:32.200277Z"
    }
   },
   "outputs": [
    {
     "name": "stdout",
     "output_type": "stream",
     "text": [
      "1764/1764 - 4s - loss: 0.0848 - acc: 0.9807\n",
      "Accuracy on training data set: 98.07%\n"
     ]
    }
   ],
   "source": [
    "# Recreate the exact same model, including its weights and the optimizer\n",
    "new_model = load_model('./cnn_level.h5')\n",
    "loss, acc = new_model.evaluate(x_train,  y_train, verbose=2)\n",
    "print(\"Accuracy on training data set: {:5.2f}%\".format(100*acc))"
   ]
  },
  {
   "cell_type": "markdown",
   "metadata": {},
   "source": [
    "## Create a Graph of Accuracy and Loss Over Time\n",
    "\n",
    "`model.fit()` returns a `History` object that contains a dictionary with everything that happened during training:"
   ]
  },
  {
   "cell_type": "code",
   "execution_count": 72,
   "metadata": {
    "ExecuteTime": {
     "end_time": "2020-02-28T22:29:03.201232Z",
     "start_time": "2020-02-28T22:29:02.572820Z"
    }
   },
   "outputs": [
    {
     "data": {
      "text/plain": [
       "dict_keys(['loss', 'acc', 'val_loss', 'val_acc'])"
      ]
     },
     "execution_count": 72,
     "metadata": {},
     "output_type": "execute_result"
    },
    {
     "data": {
      "text/plain": [
       "[<matplotlib.lines.Line2D at 0x23005957388>]"
      ]
     },
     "execution_count": 72,
     "metadata": {},
     "output_type": "execute_result"
    },
    {
     "data": {
      "text/plain": [
       "[<matplotlib.lines.Line2D at 0x2300d938e48>]"
      ]
     },
     "execution_count": 72,
     "metadata": {},
     "output_type": "execute_result"
    },
    {
     "data": {
      "text/plain": [
       "Text(0.5, 1.0, 'Training and validation loss')"
      ]
     },
     "execution_count": 72,
     "metadata": {},
     "output_type": "execute_result"
    },
    {
     "data": {
      "text/plain": [
       "Text(0.5, 0, 'Epochs')"
      ]
     },
     "execution_count": 72,
     "metadata": {},
     "output_type": "execute_result"
    },
    {
     "data": {
      "text/plain": [
       "Text(0, 0.5, 'Loss')"
      ]
     },
     "execution_count": 72,
     "metadata": {},
     "output_type": "execute_result"
    },
    {
     "data": {
      "text/plain": [
       "<matplotlib.legend.Legend at 0x23005974c08>"
      ]
     },
     "execution_count": 72,
     "metadata": {},
     "output_type": "execute_result"
    },
    {
     "data": {
      "image/png": "[encoded data removed]",
      "text/plain": [
       "<Figure size 432x288 with 1 Axes>"
      ]
     },
     "metadata": {
      "needs_background": "light"
     },
     "output_type": "display_data"
    }
   ],
   "source": [
    "import matplotlib.pyplot as plt\n",
    "\n",
    "history_dict = hist.history\n",
    "history_dict.keys()\n",
    "\n",
    "acc = history_dict['acc']\n",
    "val_acc = history_dict['val_acc']\n",
    "loss = history_dict['loss']\n",
    "val_loss = history_dict['val_loss']\n",
    "\n",
    "epochs = range(1, len(acc) + 1)\n",
    "\n",
    "# \"bo\" is for \"blue dot\"\n",
    "plt.plot(epochs, loss, 'bo', label='Training loss')\n",
    "# b is for \"solid blue line\"\n",
    "plt.plot(epochs, val_loss, 'b', label='Validation loss')\n",
    "plt.title('Training and validation loss')\n",
    "plt.xlabel('Epochs')\n",
    "plt.ylabel('Loss')\n",
    "plt.legend()\n",
    "\n",
    "plt.show()"
   ]
  },
  {
   "cell_type": "code",
   "execution_count": 73,
   "metadata": {
    "ExecuteTime": {
     "end_time": "2020-02-28T22:29:14.197267Z",
     "start_time": "2020-02-28T22:29:13.896145Z"
    },
    "scrolled": false
   },
   "outputs": [
    {
     "data": {
      "text/plain": [
       "[<matplotlib.lines.Line2D at 0x23004e5d448>]"
      ]
     },
     "execution_count": 73,
     "metadata": {},
     "output_type": "execute_result"
    },
    {
     "data": {
      "text/plain": [
       "[<matplotlib.lines.Line2D at 0x2300439af88>]"
      ]
     },
     "execution_count": 73,
     "metadata": {},
     "output_type": "execute_result"
    },
    {
     "data": {
      "text/plain": [
       "Text(0.5, 1.0, 'Training and validation accuracy')"
      ]
     },
     "execution_count": 73,
     "metadata": {},
     "output_type": "execute_result"
    },
    {
     "data": {
      "text/plain": [
       "Text(0.5, 0, 'Epochs')"
      ]
     },
     "execution_count": 73,
     "metadata": {},
     "output_type": "execute_result"
    },
    {
     "data": {
      "text/plain": [
       "Text(0, 0.5, 'Accuracy')"
      ]
     },
     "execution_count": 73,
     "metadata": {},
     "output_type": "execute_result"
    },
    {
     "data": {
      "text/plain": [
       "<matplotlib.legend.Legend at 0x23003e5d688>"
      ]
     },
     "execution_count": 73,
     "metadata": {},
     "output_type": "execute_result"
    },
    {
     "data": {
      "image/png": "[encoded data removed]",
      "text/plain": [
       "<Figure size 432x288 with 1 Axes>"
      ]
     },
     "metadata": {
      "needs_background": "light"
     },
     "output_type": "display_data"
    }
   ],
   "source": [
    "plt.clf()   # clear figure\n",
    "\n",
    "plt.plot(epochs, acc, 'bo', label='Training acc')\n",
    "plt.plot(epochs, val_acc, 'b', label='Validation acc')\n",
    "plt.title('Training and validation accuracy')\n",
    "plt.xlabel('Epochs')\n",
    "plt.ylabel('Accuracy')\n",
    "plt.legend()\n",
    "\n",
    "plt.show()"
   ]
  },
  {
   "cell_type": "markdown",
   "metadata": {},
   "source": [
    "The dots represent the training loss and accuracy, and the solid lines are the validation loss and accuracy."
   ]
  },
  {
   "cell_type": "markdown",
   "metadata": {},
   "source": [
    "# Summary\n",
    "\n",
    "In this notebook, I demonstrated the two approaches to do level analytics with job descriptions with scikit-learn and tensorflow frameworks. Based on the model evaluation of accuracy, the convolutional neural network can have better classification accuracy.  \n",
    "\n",
    "For CNN model, the training loss *decreases* with each epoch and the training accuracy *increases* with each epoch. This is expected when using a gradient descent optimization — it should minimize the desired quantity on every iteration.\n",
    "\n",
    "This isn't the case for the validation loss and accuracy — they seem to peak after about twenty epochs. This is an example of over-fitting: the model performs better on the training data than it does on data it has never seen before. After this point, the model over-optimizes and learns representations *specific* to the training data that do not *generalize* to test data.\n",
    "\n",
    "Actually, bother approaches (DNN & CNN) in this case produce over-fitting. It can be solved by adding more data for the training.\n",
    "Note: the CNN approach is better on over-fitting since I added more dropout and max pooling layers for regularization."
   ]
  }
 ],
 "metadata": {
  "hide_input": false,
  "kernelspec": {
   "display_name": "Python 3",
   "language": "python",
   "name": "python3"
  },
  "language_info": {
   "codemirror_mode": {
    "name": "ipython",
    "version": 3
   },
   "file_extension": ".py",
   "mimetype": "text/x-python",
   "name": "python",
   "nbconvert_exporter": "python",
   "pygments_lexer": "ipython3",
   "version": "3.7.7"
  },
  "latex_envs": {
   "LaTeX_envs_menu_present": true,
   "autoclose": false,
   "autocomplete": true,
   "bibliofile": "biblio.bib",
   "cite_by": "apalike",
   "current_citInitial": 1,
   "eqLabelWithNumbers": true,
   "eqNumInitial": 1,
   "hotkeys": {
    "equation": "Ctrl-E",
    "itemize": "Ctrl-I"
   },
   "labels_anchors": false,
   "latex_user_defs": false,
   "report_style_numbering": false,
   "user_envs_cfg": false
  },
  "toc": {
   "base_numbering": 1,
   "nav_menu": {},
   "number_sections": true,
   "sideBar": true,
   "skip_h1_title": false,
   "title_cell": "Table of Contents",
   "title_sidebar": "Contents",
   "toc_cell": true,
   "toc_position": {
    "height": "calc(100% - 180px)",
    "left": "10px",
    "top": "150px",
    "width": "371.138px"
   },
   "toc_section_display": true,
   "toc_window_display": true
  },
  "varInspector": {
   "cols": {
    "lenName": 16,
    "lenType": 16,
    "lenVar": 40
   },
   "kernels_config": {
    "python": {
     "delete_cmd_postfix": "",
     "delete_cmd_prefix": "del ",
     "library": "var_list.py",
     "varRefreshCmd": "print(var_dic_list())"
    },
    "r": {
     "delete_cmd_postfix": ") ",
     "delete_cmd_prefix": "rm(",
     "library": "var_list.r",
     "varRefreshCmd": "cat(var_dic_list()) "
    }
   },
   "types_to_exclude": [
    "module",
    "function",
    "builtin_function_or_method",
    "instance",
    "_Feature"
   ],
   "window_display": false
  }
 },
 "nbformat": 4,
 "nbformat_minor": 4
}
