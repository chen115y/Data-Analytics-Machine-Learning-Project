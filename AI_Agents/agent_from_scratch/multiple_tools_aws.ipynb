{
 "cells": [
  {
   "cell_type": "markdown",
   "metadata": {},
   "source": [
    "# Demo: Building an AI agent with AWS Bedrock\n",
    "In this notebook, we'll demonstrate how to define an AI agent and provide multiple tools that it can use to perform multiple operations based on user input. We'll define the calculator tool and the string format tool to show how an AI agent can interact with them to solve problems."
   ]
  },
  {
   "cell_type": "markdown",
   "metadata": {},
   "source": [
    "## Step 0: Set up the environment\n",
    "\n",
    "First, let's install the required libraries and set up the AWS Bedrock client."
   ]
  },
  {
   "cell_type": "code",
   "execution_count": null,
   "metadata": {},
   "outputs": [],
   "source": [
    "%pip install boto3 python-dotenv"
   ]
  },
  {
   "cell_type": "code",
   "execution_count": 1,
   "metadata": {},
   "outputs": [
    {
     "data": {
      "text/plain": [
       "True"
      ]
     },
     "execution_count": 1,
     "metadata": {},
     "output_type": "execute_result"
    }
   ],
   "source": [
    "from dotenv import load_dotenv\n",
    "import boto3\n",
    "import logging\n",
    "import json\n",
    "from botocore.exceptions import ClientError\n",
    "import pprint\n",
    "import re\n",
    "import ast\n",
    "\n",
    "load_dotenv()"
   ]
  },
  {
   "cell_type": "markdown",
   "metadata": {},
   "source": [
    "## Step 1: Set up the AI model\n",
    "\n",
    "We are going to leverage Claude 3.5 Haiku model on AWS Bedrock since it is a powerful model with a relative cheap cost. Also we are going to define bedrock client by using AWS boto3 library."
   ]
  },
  {
   "cell_type": "code",
   "execution_count": 3,
   "metadata": {},
   "outputs": [],
   "source": [
    "MODEL_NAME = \"us.anthropic.claude-3-5-haiku-20241022-v1:0\"\n",
    "client = boto3.client(service_name='bedrock-runtime')"
   ]
  },
  {
   "cell_type": "markdown",
   "metadata": {},
   "source": [
    "## Step 2: Define the tools\n",
    "\n",
    "We are going to define two tools: the calculator tool and the string format tool. The calculator tool will be used to perform arithmetic operations, and the string format tool will be used to format strings."
   ]
  },
  {
   "cell_type": "markdown",
   "metadata": {},
   "source": [
    "First, let's define the functions for the calculator tool and the string format tool."
   ]
  },
  {
   "cell_type": "code",
   "execution_count": 4,
   "metadata": {},
   "outputs": [],
   "source": [
    "def calculate(expression):\n",
    "    # Remove any non-digit or non-operator characters from the expression\n",
    "    expression = re.sub(r'[^0-9+\\-*/().]', '', expression)\n",
    "    \n",
    "    try:\n",
    "        # Do calculation with safer eval\n",
    "        node = ast.parse(expression, mode='eval')\n",
    "        result = eval(compile(node, '<string>', 'eval'))\n",
    "                              \n",
    "        return str(result)\n",
    "    except (SyntaxError, ZeroDivisionError, NameError, TypeError, OverflowError):\n",
    "        return \"Error: Invalid expression\"\n",
    "    \n",
    "def special_format(input, type):   \n",
    "    try:\n",
    "        if type.lower() == \"integer\":\n",
    "            return \"{:d}\".format(int(float(input)))\n",
    "        elif type.lower() == \"float\" or type.lower() == \"double\" or type.lower() == \"real\" or type.lower() == \"decimal\":\n",
    "            return \"{:.2f}\".format(float(input))\n",
    "        else:\n",
    "            return str(input)\n",
    "    except (SyntaxError, ZeroDivisionError, NameError, TypeError, OverflowError) as e:\n",
    "        return \"Error: Invalid conversion - {e}\""
   ]
  },
  {
   "cell_type": "markdown",
   "metadata": {},
   "source": [
    "Next, let's define the tool definitions (meta info) for AI model to understand and use."
   ]
  },
  {
   "cell_type": "code",
   "execution_count": 5,
   "metadata": {},
   "outputs": [],
   "source": [
    "tools = [\n",
    "    {\n",
    "        \"name\": \"calculator\",\n",
    "        \"description\": \"A simple calculator that performs basic arithmetic operations.\",\n",
    "        \"input_schema\": {\n",
    "            \"type\": \"object\",\n",
    "            \"properties\": {\n",
    "                \"expression\": {\n",
    "                    \"type\": \"string\",\n",
    "                    \"description\": \"The mathematical expression to evaluate (e.g., '2 + 3 * 4').\"\n",
    "                }\n",
    "            },\n",
    "            \"required\": [\"expression\"]\n",
    "        }\n",
    "    },\n",
    "    {\n",
    "        \"name\": \"formatter\",\n",
    "        \"description\": \"A simple string formatter that format the input string properly based on the indicated type.\",\n",
    "        \"input_schema\": {\n",
    "            \"type\": \"object\",\n",
    "            \"properties\": {\n",
    "                \"input\": {\n",
    "                    \"type\": \"string\",\n",
    "                    \"description\": \"The input string (e.g., '123', '123.00').\"\n",
    "                },\n",
    "                \"type\": {\n",
    "                    \"type\": \"string\",\n",
    "                    \"description\": \"The type of the output (e.g., 'integer', 'float', 'double', 'real', 'decimal').\"\n",
    "                }\n",
    "            },\n",
    "            \"required\": [\"input\", \"type\"]\n",
    "        }\n",
    "    }\n",
    "]"
   ]
  },
  {
   "cell_type": "markdown",
   "metadata": {},
   "source": [
    "## Step 3: Define the AI agent (class)"
   ]
  },
  {
   "cell_type": "code",
   "execution_count": 6,
   "metadata": {},
   "outputs": [],
   "source": [
    "class Agent:\n",
    "    # Define the __init__ method to initialize the Agent\n",
    "    def __init__(self, model_name=None, client=None, custom_tools=None, reasoning_prompt=None):\n",
    "        self.model_name = model_name if model_name else MODEL_NAME\n",
    "        self.client = client if client else boto3.client(service_name='bedrock-runtime')\n",
    "        self.tools = custom_tools if custom_tools else tools\n",
    "        self.reasoning_prompt = reasoning_prompt if reasoning_prompt else None\n",
    "        self.memory = []\n",
    "    \n",
    "    # Define the process_tool_call method to process the tool call\n",
    "    def process_tool_call(self, tool_name, tool_input):\n",
    "        if tool_name == \"calculator\":\n",
    "            return calculate(tool_input[\"expression\"])\n",
    "        elif tool_name == \"formatter\":\n",
    "            return special_format(tool_input[\"input\"], tool_input[\"type\"])\n",
    "    \n",
    "    # Define the invoke_tool_use method to iteratively process the tool use\n",
    "    def invoke_tool_use(self, init_user_message, response_messages, tool_use_body):\n",
    "        try:\n",
    "            # Initialize the tool_use_message_content\n",
    "            tool_use_result_content = []\n",
    "            # Initialize the response_messages_content, including the current tool use information\n",
    "            response_messages_content = response_messages\n",
    "            # Start the loop to process the tool use\n",
    "            while True:\n",
    "                tool_use_id = tool_use_body.get(\"id\")\n",
    "                tool_name = tool_use_body.get(\"name\")\n",
    "                tool_input = tool_use_body.get(\"input\")\n",
    "\n",
    "                print(f\"\\nTool Used: {tool_name}\")\n",
    "                print(f\"Tool Input: {tool_input}\")\n",
    "                tool_result = self.process_tool_call(tool_name, tool_input)\n",
    "                print(f\"Tool Result: {tool_result}\")\n",
    "                # Append the current tool use result to the tool_use_result_content\n",
    "                # This step is very important because the AI model needs to know what tool results have been produced.\n",
    "                tool_use_result_content.append(\n",
    "                    {\n",
    "                        \"type\": \"tool_result\",\n",
    "                        \"tool_use_id\": tool_use_id,\n",
    "                        \"content\": tool_result,\n",
    "                    }\n",
    "                )\n",
    "                # Prepare the tool_use_result_message and tool_use_message\n",
    "                tool_use_result_message = {\"role\": \"user\", \"content\": tool_use_result_content} # including current tool use result\n",
    "                tool_use_message =  {\"role\": \"assistant\", \"content\": response_messages_content} # including current tool use information\n",
    "                # Prepare the body for the next iteration\n",
    "                if self.reasoning_prompt:\n",
    "                    body=json.dumps(\n",
    "                        {\n",
    "                            \"anthropic_version\": \"bedrock-2023-05-31\",\n",
    "                            \"max_tokens\": 10000,\n",
    "                            \"messages\": [init_user_message, tool_use_message, tool_use_result_message],\n",
    "                            \"tools\": self.tools,\n",
    "                            \"system\": self.reasoning_prompt,\n",
    "                        }  \n",
    "                    )\n",
    "                else:\n",
    "                    body=json.dumps(\n",
    "                        {\n",
    "                            \"anthropic_version\": \"bedrock-2023-05-31\",\n",
    "                            \"max_tokens\": 10000,\n",
    "                            \"messages\": [init_user_message, tool_use_message, tool_use_result_message],\n",
    "                            \"tools\": self.tools,\n",
    "                        }  \n",
    "                    )\n",
    "                # Invoke the model with the new body\n",
    "                response = self.client.invoke_model(body=body, modelId=self.model_name)\n",
    "                # Extract the response body and messages\n",
    "                response_body = json.loads(response.get(\"body\").read())\n",
    "                response_messages = response_body.get('content')\n",
    "                # Update the response_messages_content with the latest response message\n",
    "                # This step is very important because the AI model needs to know what tools have been and will be used. \n",
    "                # tool_use_result_content and response_messages_content need to be aligned.\n",
    "                response_messages_content.append(response_messages[-1])\n",
    "                # Initialize the tool_use_body and assistant_response. Otherwise, they may make inifiite loop\n",
    "                tool_use_body = None\n",
    "                assistant_response = \"\"\n",
    "                # Check if the response contains another tool_use\n",
    "                for message in response_messages:\n",
    "                    if message.get(\"type\") == \"tool_use\":\n",
    "                        tool_use_body = message\n",
    "                    elif message.get(\"type\") == \"text\":\n",
    "                        assistant_response = message.get(\"text\")\n",
    "                # If the response contains another tool_use, continue the loop. Otherwise, break the loop\n",
    "                if tool_use_body is not None and tool_use_body.get(\"type\") == \"tool_use\":\n",
    "                    continue\n",
    "                else:\n",
    "                    break\n",
    "            # Prepare the final_response\n",
    "            final_response = assistant_response\n",
    "            final_memory = [init_user_message, tool_use_message, tool_use_result_message]\n",
    "\n",
    "            return final_response, final_memory\n",
    "        except ClientError as e:\n",
    "            logging.error(e)\n",
    "            return None\n",
    "    \n",
    "    # Define the chat_with_model method to chat with the model with a user input prompt.\n",
    "    def chat_with_model(self, prompt):\n",
    "        print(f\"\\n{'='*50}\\nUser Message: {prompt}\\n{'='*50}\")\n",
    "        tool_use_body = None\n",
    "        user_message =  {\"role\": \"user\", \"content\": prompt}\n",
    "        if self.reasoning_prompt:\n",
    "            body=json.dumps(\n",
    "                    {\n",
    "                        \"anthropic_version\": \"bedrock-2023-05-31\",\n",
    "                        \"max_tokens\": 10000,\n",
    "                        \"messages\": [user_message],\n",
    "                        \"tools\": self.tools,\n",
    "                        \"system\": self.reasoning_prompt,\n",
    "                    }  \n",
    "                )\n",
    "        else:\n",
    "            body=json.dumps(\n",
    "                    {\n",
    "                        \"anthropic_version\": \"bedrock-2023-05-31\",\n",
    "                        \"max_tokens\": 10000,\n",
    "                        \"messages\": [user_message],\n",
    "                        \"tools\": self.tools,\n",
    "                    }  \n",
    "                )\n",
    "        response = self.client.invoke_model(body=body, modelId=self.model_name)\n",
    "        response_body = json.loads(response.get(\"body\").read())\n",
    "        response_messages = response_body.get('content')\n",
    "        for message in response_messages:\n",
    "            if message.get(\"type\") == \"tool_use\":\n",
    "                tool_use_body = message\n",
    "            elif message.get(\"type\") == \"text\":\n",
    "                assistant_response = message.get(\"text\")\n",
    "        print(f\"\\nInitial Response: {assistant_response}\")\n",
    "        \n",
    "        if tool_use_body is not None and tool_use_body.get(\"type\") == \"tool_use\":\n",
    "            final_response, final_memory = self.invoke_tool_use(user_message, response_messages, tool_use_body)\n",
    "        else:\n",
    "            final_response = assistant_response\n",
    "            final_memory = []\n",
    "\n",
    "        # Save the intermediate results in the memory\n",
    "        self.memory = final_memory\n",
    "            \n",
    "        return final_response"
   ]
  },
  {
   "cell_type": "markdown",
   "metadata": {},
   "source": [
    "## Step 4: Test it out!"
   ]
  },
  {
   "cell_type": "code",
   "execution_count": 18,
   "metadata": {},
   "outputs": [
    {
     "name": "stdout",
     "output_type": "stream",
     "text": [
      "\n",
      "==================================================\n",
      "User Message: What is the result of 1,984,135 * 9,343,116?\n",
      "==================================================\n",
      "\n",
      "Initial Response: I'll help you calculate that multiplication. I'll use the calculator function to perform this operation.\n",
      "\n",
      "Tool Used: calculator\n",
      "Tool Input: {'expression': '1984135 * 9343116'}\n",
      "Tool Result: 18538003464660\n",
      "\n",
      "Final Response: The result of 1,984,135 * 9,343,116 is 18,538,003,464,660.\n",
      "\n",
      "As a verification:\n",
      "- First number: 1,984,135\n",
      "- Second number: 9,343,116\n",
      "- Product: 18,538,003,464,660\n"
     ]
    }
   ],
   "source": [
    "# Test the AI model capabilities to call one function\n",
    "agent = Agent()\n",
    "final_response = agent.chat_with_model(\"What is the result of 1,984,135 * 9,343,116?\")\n",
    "print(f\"\\nFinal Response: {final_response}\")"
   ]
  },
  {
   "cell_type": "code",
   "execution_count": 19,
   "metadata": {},
   "outputs": [
    {
     "name": "stdout",
     "output_type": "stream",
     "text": [
      "[{'content': 'What is the result of 1,984,135 * 9,343,116?', 'role': 'user'},\n",
      " {'content': [{'text': \"I'll help you calculate that multiplication. I'll use \"\n",
      "                       'the calculator function to perform this operation.',\n",
      "               'type': 'text'},\n",
      "              {'id': 'toolu_bdrk_01C8FwSembdE3TGFdNS6Gceu',\n",
      "               'input': {'expression': '1984135 * 9343116'},\n",
      "               'name': 'calculator',\n",
      "               'type': 'tool_use'},\n",
      "              {'text': 'The result of 1,984,135 * 9,343,116 is '\n",
      "                       '18,538,003,464,660.\\n'\n",
      "                       '\\n'\n",
      "                       'As a verification:\\n'\n",
      "                       '- First number: 1,984,135\\n'\n",
      "                       '- Second number: 9,343,116\\n'\n",
      "                       '- Product: 18,538,003,464,660',\n",
      "               'type': 'text'}],\n",
      "  'role': 'assistant'},\n",
      " {'content': [{'content': '18538003464660',\n",
      "               'tool_use_id': 'toolu_bdrk_01C8FwSembdE3TGFdNS6Gceu',\n",
      "               'type': 'tool_result'}],\n",
      "  'role': 'user'}]\n"
     ]
    }
   ],
   "source": [
    "pprint.pprint(agent.memory)"
   ]
  },
  {
   "cell_type": "code",
   "execution_count": 20,
   "metadata": {},
   "outputs": [
    {
     "name": "stdout",
     "output_type": "stream",
     "text": [
      "\n",
      "==================================================\n",
      "User Message: Format the calculation result of (12851 - 593) * 301 + 76 as a decimal.\n",
      "==================================================\n",
      "\n",
      "Initial Response: I'll solve this step by step:\n",
      "\n",
      "1. First, I'll use the calculator to perform the calculation.\n",
      "2. Then, I'll use the formatter to convert the result to a decimal.\n",
      "\n",
      "Tool Used: calculator\n",
      "Tool Input: {'expression': '(12851 - 593) * 301 + 76'}\n",
      "Tool Result: 3689734\n",
      "\n",
      "Tool Used: formatter\n",
      "Tool Input: {'input': '3689734', 'type': 'decimal'}\n",
      "Tool Result: 3689734.00\n",
      "\n",
      "Final Response: The result of the calculation (12851 - 593) * 301 + 76 is 3,689,734, and when formatted as a decimal, it becomes 3,689,734.00.\n"
     ]
    }
   ],
   "source": [
    "# Test the AI model capabilities to do reasoning/planning and then call two functions without explicit sequence instruction.\n",
    "final_response = agent.chat_with_model(\"Format the calculation result of (12851 - 593) * 301 + 76 as a decimal.\")\n",
    "print(f\"\\nFinal Response: {final_response}\")\n"
   ]
  },
  {
   "cell_type": "code",
   "execution_count": 21,
   "metadata": {},
   "outputs": [
    {
     "name": "stdout",
     "output_type": "stream",
     "text": [
      "[{'content': 'Format the calculation result of (12851 - 593) * 301 + 76 as a '\n",
      "             'decimal.',\n",
      "  'role': 'user'},\n",
      " {'content': [{'text': \"I'll solve this step by step:\\n\"\n",
      "                       '\\n'\n",
      "                       \"1. First, I'll use the calculator to perform the \"\n",
      "                       'calculation.\\n'\n",
      "                       \"2. Then, I'll use the formatter to convert the result \"\n",
      "                       'to a decimal.',\n",
      "               'type': 'text'},\n",
      "              {'id': 'toolu_bdrk_019YZc41jDa1Ce1GU9sFqRuW',\n",
      "               'input': {'expression': '(12851 - 593) * 301 + 76'},\n",
      "               'name': 'calculator',\n",
      "               'type': 'tool_use'},\n",
      "              {'id': 'toolu_bdrk_01VgQ4fGiQUfF9FogujPo49Y',\n",
      "               'input': {'input': '3689734', 'type': 'decimal'},\n",
      "               'name': 'formatter',\n",
      "               'type': 'tool_use'},\n",
      "              {'text': 'The result of the calculation (12851 - 593) * 301 + 76 '\n",
      "                       'is 3,689,734, and when formatted as a decimal, it '\n",
      "                       'becomes 3,689,734.00.',\n",
      "               'type': 'text'}],\n",
      "  'role': 'assistant'},\n",
      " {'content': [{'content': '3689734',\n",
      "               'tool_use_id': 'toolu_bdrk_019YZc41jDa1Ce1GU9sFqRuW',\n",
      "               'type': 'tool_result'},\n",
      "              {'content': '3689734.00',\n",
      "               'tool_use_id': 'toolu_bdrk_01VgQ4fGiQUfF9FogujPo49Y',\n",
      "               'type': 'tool_result'}],\n",
      "  'role': 'user'}]\n"
     ]
    }
   ],
   "source": [
    "pprint.pprint(agent.memory)"
   ]
  },
  {
   "cell_type": "code",
   "execution_count": 7,
   "metadata": {},
   "outputs": [
    {
     "name": "stdout",
     "output_type": "stream",
     "text": [
      "\n",
      "==================================================\n",
      "User Message: What is the result of 1,984,135 * 9,343,116?\n",
      "==================================================\n",
      "\n",
      "Initial Response: I'll help you calculate the multiplication of 1,984,135 and 9,343,116. I'll use the calculator tool to perform this calculation.\n",
      "\n",
      "Tool Used: calculator\n",
      "Tool Input: {'expression': '1984135 * 9343116'}\n",
      "Tool Result: 18538003464660\n",
      "\n",
      "Tool Used: formatter\n",
      "Tool Input: {'input': '18538003464660', 'type': 'decimal'}\n",
      "Tool Result: 18538003464660.00\n",
      "\n",
      "Final Response: The result of 1,984,135 * 9,343,116 is 18,538,003,464,660.\n",
      "\n",
      "I broke this down into two steps:\n",
      "1. Used the calculator to multiply the two numbers\n",
      "2. Used the formatter to display the result as a decimal for clarity\n",
      "\n",
      "Is there anything else I can help you with?\n"
     ]
    }
   ],
   "source": [
    "# Test the AI agent with a custom reasoning instruction\n",
    "reasoning_instruction = \"\"\"\n",
    "You are a helpful assistant that:\n",
    "1. Performs arithmetic operations using the calculator tool\n",
    "2. Formats results appropriately using the formatter tool\n",
    "3. Explains your process clearly to the user\n",
    "\n",
    "Always verify calculations and format results according to the user's needs.\n",
    "\"\"\"\n",
    "agent = Agent(reasoning_prompt=reasoning_instruction)\n",
    "final_response = agent.chat_with_model(\"What is the result of 1,984,135 * 9,343,116?\")\n",
    "print(f\"\\nFinal Response: {final_response}\")"
   ]
  },
  {
   "cell_type": "code",
   "execution_count": 8,
   "metadata": {},
   "outputs": [
    {
     "name": "stdout",
     "output_type": "stream",
     "text": [
      "[{'content': 'What is the result of 1,984,135 * 9,343,116?', 'role': 'user'},\n",
      " {'content': [{'text': \"I'll help you calculate the multiplication of \"\n",
      "                       \"1,984,135 and 9,343,116. I'll use the calculator tool \"\n",
      "                       'to perform this calculation.',\n",
      "               'type': 'text'},\n",
      "              {'id': 'toolu_bdrk_01UbKb27Xo8FmBAWimaQ9HxM',\n",
      "               'input': {'expression': '1984135 * 9343116'},\n",
      "               'name': 'calculator',\n",
      "               'type': 'tool_use'},\n",
      "              {'id': 'toolu_bdrk_0113YX4mHcc7wBPYdF1fid3C',\n",
      "               'input': {'input': '18538003464660', 'type': 'decimal'},\n",
      "               'name': 'formatter',\n",
      "               'type': 'tool_use'},\n",
      "              {'text': 'The result of 1,984,135 * 9,343,116 is '\n",
      "                       '18,538,003,464,660.\\n'\n",
      "                       '\\n'\n",
      "                       'I broke this down into two steps:\\n'\n",
      "                       '1. Used the calculator to multiply the two numbers\\n'\n",
      "                       '2. Used the formatter to display the result as a '\n",
      "                       'decimal for clarity\\n'\n",
      "                       '\\n'\n",
      "                       'Is there anything else I can help you with?',\n",
      "               'type': 'text'}],\n",
      "  'role': 'assistant'},\n",
      " {'content': [{'content': '18538003464660',\n",
      "               'tool_use_id': 'toolu_bdrk_01UbKb27Xo8FmBAWimaQ9HxM',\n",
      "               'type': 'tool_result'},\n",
      "              {'content': '18538003464660.00',\n",
      "               'tool_use_id': 'toolu_bdrk_0113YX4mHcc7wBPYdF1fid3C',\n",
      "               'type': 'tool_result'}],\n",
      "  'role': 'user'}]\n"
     ]
    }
   ],
   "source": [
    "pprint.pprint(agent.memory)"
   ]
  }
 ],
 "metadata": {
  "kernelspec": {
   "display_name": "base",
   "language": "python",
   "name": "python3"
  },
  "language_info": {
   "codemirror_mode": {
    "name": "ipython",
    "version": 3
   },
   "file_extension": ".py",
   "mimetype": "text/x-python",
   "name": "python",
   "nbconvert_exporter": "python",
   "pygments_lexer": "ipython3",
   "version": "3.11.5"
  }
 },
 "nbformat": 4,
 "nbformat_minor": 4
}
